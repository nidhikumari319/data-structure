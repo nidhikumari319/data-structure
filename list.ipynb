{
 "cells": [
  {
   "cell_type": "code",
   "execution_count": 1,
   "id": "436d74d3-8e60-412c-8d8c-5e128f2bdf1d",
   "metadata": {},
   "outputs": [],
   "source": [
    "#list are ordered collection of items\n",
    "\n",
    "#list is like a shopping bag which we can store anything\n",
    "#it can store any data type\n",
    "#list are mutable"
   ]
  },
  {
   "cell_type": "code",
   "execution_count": 2,
   "id": "21d432d6-73e5-4168-b45f-68409c2a9b60",
   "metadata": {},
   "outputs": [
    {
     "data": {
      "text/plain": [
       "list"
      ]
     },
     "execution_count": 2,
     "metadata": {},
     "output_type": "execute_result"
    }
   ],
   "source": [
    "type([])"
   ]
  },
  {
   "cell_type": "code",
   "execution_count": 3,
   "id": "f094ee38-9f8e-47df-8cd9-ef3186b84959",
   "metadata": {},
   "outputs": [
    {
     "data": {
      "text/plain": [
       "list"
      ]
     },
     "execution_count": 3,
     "metadata": {},
     "output_type": "execute_result"
    }
   ],
   "source": [
    "groccery_list=[\"mango\",\"banana\",\"apple\",\"lichi\",\"gauva\"]\n",
    "type(groccery_list)"
   ]
  },
  {
   "cell_type": "code",
   "execution_count": 4,
   "id": "a3c03f29-f38a-4786-b09f-b5a4c3e16697",
   "metadata": {},
   "outputs": [
    {
     "data": {
      "text/plain": [
       "'lichi'"
      ]
     },
     "execution_count": 4,
     "metadata": {},
     "output_type": "execute_result"
    }
   ],
   "source": [
    "groccery_list[3]"
   ]
  },
  {
   "cell_type": "code",
   "execution_count": 5,
   "id": "795f8ffd-539a-4539-9337-5a73598886e5",
   "metadata": {},
   "outputs": [
    {
     "data": {
      "text/plain": [
       "'gauva'"
      ]
     },
     "execution_count": 5,
     "metadata": {},
     "output_type": "execute_result"
    }
   ],
   "source": [
    "groccery_list[-1]"
   ]
  },
  {
   "cell_type": "code",
   "execution_count": 6,
   "id": "d769782a-d84a-4484-932a-645fce18cbed",
   "metadata": {},
   "outputs": [
    {
     "data": {
      "text/plain": [
       "['banana', 'apple', 'lichi', 'gauva']"
      ]
     },
     "execution_count": 6,
     "metadata": {},
     "output_type": "execute_result"
    }
   ],
   "source": [
    "groccery_list[1:]"
   ]
  },
  {
   "cell_type": "code",
   "execution_count": 7,
   "id": "dc007cc3-e225-4920-93be-7e31b593b22e",
   "metadata": {},
   "outputs": [
    {
     "data": {
      "text/plain": [
       "['banana', 'apple', 'lichi']"
      ]
     },
     "execution_count": 7,
     "metadata": {},
     "output_type": "execute_result"
    }
   ],
   "source": [
    "groccery_list[1:4]"
   ]
  },
  {
   "cell_type": "code",
   "execution_count": 8,
   "id": "6604b5dd-1041-44d6-91e7-1ee35d8b404e",
   "metadata": {},
   "outputs": [
    {
     "data": {
      "text/plain": [
       "['action2', 'comedy ', 'thriller']"
      ]
     },
     "execution_count": 8,
     "metadata": {},
     "output_type": "execute_result"
    }
   ],
   "source": [
    "movies=[\"action1\",\"action2\",\"comedy \",\"thriller\"]\n",
    "movies[1:]"
   ]
  },
  {
   "cell_type": "code",
   "execution_count": 9,
   "id": "5efd18ee-8149-4c4a-a14b-b02e1549b610",
   "metadata": {},
   "outputs": [
    {
     "data": {
      "text/plain": [
       "['action1', 'action2', 'comedy ']"
      ]
     },
     "execution_count": 9,
     "metadata": {},
     "output_type": "execute_result"
    }
   ],
   "source": [
    "movies[0:3]"
   ]
  },
  {
   "cell_type": "code",
   "execution_count": 10,
   "id": "12ed5fc0-c93c-48e8-a789-5df1a305521b",
   "metadata": {},
   "outputs": [
    {
     "data": {
      "text/plain": [
       "'index'"
      ]
     },
     "execution_count": 10,
     "metadata": {},
     "output_type": "execute_result"
    }
   ],
   "source": [
    "pages=[\"title page\",\"chap1\",\"chp2\",\"conclusion\",\"index\"]\n",
    "pages[-1]"
   ]
  },
  {
   "cell_type": "code",
   "execution_count": 11,
   "id": "c4006635-48b1-44c2-8103-0a0774461e08",
   "metadata": {},
   "outputs": [
    {
     "data": {
      "text/plain": [
       "'conclusion'"
      ]
     },
     "execution_count": 11,
     "metadata": {},
     "output_type": "execute_result"
    }
   ],
   "source": [
    "pages[-2]"
   ]
  },
  {
   "cell_type": "code",
   "execution_count": 12,
   "id": "5560d8d9-8be0-40ce-b36d-d87e6539d4ed",
   "metadata": {},
   "outputs": [
    {
     "data": {
      "text/plain": [
       "'sanjan'"
      ]
     },
     "execution_count": 12,
     "metadata": {},
     "output_type": "execute_result"
    }
   ],
   "source": [
    "queue=[\"ajay\",\"vijau\", \"ranjan\", \"sanjan\"]\n",
    "queue[-1]"
   ]
  },
  {
   "cell_type": "code",
   "execution_count": 13,
   "id": "36e9d1b8-38d3-49f0-b8e4-f30c0cbd601f",
   "metadata": {},
   "outputs": [
    {
     "data": {
      "text/plain": [
       "'ranjan'"
      ]
     },
     "execution_count": 13,
     "metadata": {},
     "output_type": "execute_result"
    }
   ],
   "source": [
    "queue[-2]"
   ]
  },
  {
   "cell_type": "code",
   "execution_count": 14,
   "id": "37fcd79b-3826-4959-ab87-1136bb6e3a80",
   "metadata": {},
   "outputs": [],
   "source": [
    "groccery_list=[\"mango\",\"banana\",\"apple\",\"lichi\",\"gauva\"]\n",
    "groccery_list.append(\"banana\")"
   ]
  },
  {
   "cell_type": "code",
   "execution_count": 15,
   "id": "d85d1e05-c406-452c-87e7-d7c20f0dcac8",
   "metadata": {},
   "outputs": [
    {
     "data": {
      "text/plain": [
       "['mango', 'banana', 'apple', 'lichi', 'gauva', 'banana']"
      ]
     },
     "execution_count": 15,
     "metadata": {},
     "output_type": "execute_result"
    }
   ],
   "source": [
    "groccery_list"
   ]
  },
  {
   "cell_type": "code",
   "execution_count": 16,
   "id": "06eff9dc-1809-4357-a0b0-f8b2ddb6a891",
   "metadata": {},
   "outputs": [
    {
     "data": {
      "text/plain": [
       "['sanam re', ' kabhi khushi kabhi gum', 'tuzko dekha to']"
      ]
     },
     "execution_count": 16,
     "metadata": {},
     "output_type": "execute_result"
    }
   ],
   "source": [
    "#use case\n",
    "playlist=[]\n",
    "playlist.append(\"sanam re\")\n",
    "playlist.append(\" kabhi khushi kabhi gum\")\n",
    "playlist.append(\"tuzko dekha to\")\n",
    "playlist"
   ]
  },
  {
   "cell_type": "code",
   "execution_count": 17,
   "id": "758f9ca5-5b98-490a-b7a3-e803b77aaf85",
   "metadata": {},
   "outputs": [
    {
     "data": {
      "text/plain": [
       "['book1', 'book']"
      ]
     },
     "execution_count": 17,
     "metadata": {},
     "output_type": "execute_result"
    }
   ],
   "source": [
    "bookshelf=[]\n",
    "bookshelf.append(\"book1\")\n",
    "bookshelf.append(\"book\")\n",
    "bookshelf"
   ]
  },
  {
   "cell_type": "code",
   "execution_count": 19,
   "id": "11210498-7631-4b4e-966f-5b369150e0e7",
   "metadata": {},
   "outputs": [
    {
     "data": {
      "text/plain": [
       "['mango', 'apple', 'lichi', 'gauva']"
      ]
     },
     "execution_count": 19,
     "metadata": {},
     "output_type": "execute_result"
    }
   ],
   "source": [
    "list1=[\"banana\",\"apple\",\"lichi\",\"gauva\"]\n",
    "list1[0]=\"mango\"\n",
    "list1"
   ]
  },
  {
   "cell_type": "code",
   "execution_count": 21,
   "id": "790ef30d-6fd0-4329-b83e-df8bd34905a8",
   "metadata": {},
   "outputs": [
    {
     "data": {
      "text/plain": [
       "['mango', 'apple', 'lichi', 'bhindi']"
      ]
     },
     "execution_count": 21,
     "metadata": {},
     "output_type": "execute_result"
    }
   ],
   "source": [
    "list1[3]=\"bhindi\"\n",
    "list1"
   ]
  },
  {
   "cell_type": "code",
   "execution_count": 22,
   "id": "047b2edd-654d-47f2-9722-f0d4cfc67685",
   "metadata": {},
   "outputs": [],
   "source": [
    "list1.insert(1, \"potato\") #Insert object before index."
   ]
  },
  {
   "cell_type": "code",
   "execution_count": 23,
   "id": "77728c67-57fe-4fea-8cc7-bc8fa8dd9c02",
   "metadata": {},
   "outputs": [
    {
     "data": {
      "text/plain": [
       "['mango', 'potato', 'apple', 'lichi', 'bhindi']"
      ]
     },
     "execution_count": 23,
     "metadata": {},
     "output_type": "execute_result"
    }
   ],
   "source": [
    "list1"
   ]
  },
  {
   "cell_type": "code",
   "execution_count": 33,
   "id": "ed2c8ded-f3ef-4613-b9c1-7311ae4305bf",
   "metadata": {},
   "outputs": [
    {
     "data": {
      "text/plain": [
       "['kasish', 'ajay', 'vijau', 'ranjan', 'sanjan']"
      ]
     },
     "execution_count": 33,
     "metadata": {},
     "output_type": "execute_result"
    }
   ],
   "source": [
    "#use case>>>>>>>>>>\n",
    "bus_seat=[\"ajay\",\"vijau\", \"ranjan\", \"sanjan\"]\n",
    "bus_seat.insert(0,\"kasish\")\n",
    "bus_seat"
   ]
  },
  {
   "cell_type": "code",
   "execution_count": 7,
   "id": "e0d9b451-4eb5-4bb9-95c5-64ca9b718ad7",
   "metadata": {},
   "outputs": [
    {
     "data": {
      "text/plain": [
       "['banana', 'apple', 'lichi', 'gauva']"
      ]
     },
     "execution_count": 7,
     "metadata": {},
     "output_type": "execute_result"
    }
   ],
   "source": [
    "#extend>>it used to append element from another list\n",
    "list3=[\"banana\",\"apple\"]\n",
    "list4=[\"lichi\",\"gauva\"]\n",
    "list3.extend(list4)\n",
    "list3"
   ]
  },
  {
   "cell_type": "code",
   "execution_count": 8,
   "id": "84b6ef7d-3693-4641-8509-9812d7ee5fc4",
   "metadata": {},
   "outputs": [
    {
     "data": {
      "text/plain": [
       "['lichi', 'gauva', 'banana', 'apple', 'lichi', 'gauva']"
      ]
     },
     "execution_count": 8,
     "metadata": {},
     "output_type": "execute_result"
    }
   ],
   "source": [
    "list4.extend(list3)\n",
    "list4"
   ]
  },
  {
   "cell_type": "code",
   "execution_count": 11,
   "id": "83924960-ebcc-4426-9e5a-2ab543127932",
   "metadata": {},
   "outputs": [
    {
     "name": "stdout",
     "output_type": "stream",
     "text": [
      "['banana', 'apple', 'lichi', 'gauva']\n"
     ]
    }
   ],
   "source": [
    "list3=[\"banana\",\"apple\"]\n",
    "list4=[\"lichi\",\"gauva\"]\n",
    "print(list3+list4)"
   ]
  },
  {
   "cell_type": "code",
   "execution_count": 12,
   "id": "595157c0-4e88-44d2-911d-df45dab387e6",
   "metadata": {},
   "outputs": [
    {
     "data": {
      "text/plain": [
       "'************'"
      ]
     },
     "execution_count": 12,
     "metadata": {},
     "output_type": "execute_result"
    }
   ],
   "source": [
    "\"*\" *12"
   ]
  },
  {
   "cell_type": "code",
   "execution_count": 13,
   "id": "16455d09-5ae0-4913-878e-c8a75e6823c5",
   "metadata": {},
   "outputs": [
    {
     "data": {
      "text/plain": [
       "'------------'"
      ]
     },
     "execution_count": 13,
     "metadata": {},
     "output_type": "execute_result"
    }
   ],
   "source": [
    "\"-\"*12"
   ]
  },
  {
   "cell_type": "code",
   "execution_count": 14,
   "id": "507f4a4a-c2c9-412a-8930-1acd6b6055b5",
   "metadata": {},
   "outputs": [
    {
     "data": {
      "text/plain": [
       "[0, 0, 0, 0, 0, 0, 0, 0, 0, 0]"
      ]
     },
     "execution_count": 14,
     "metadata": {},
     "output_type": "execute_result"
    }
   ],
   "source": [
    "[0]*10"
   ]
  },
  {
   "cell_type": "code",
   "execution_count": 16,
   "id": "2673c14f-ae6f-4cf6-a3c0-6a50e8df0b79",
   "metadata": {},
   "outputs": [
    {
     "data": {
      "text/plain": [
       "[1, 2, 3, 1, 2, 3, 1, 2, 3]"
      ]
     },
     "execution_count": 16,
     "metadata": {},
     "output_type": "execute_result"
    }
   ],
   "source": [
    "[1,2,3]*3"
   ]
  },
  {
   "cell_type": "code",
   "execution_count": 17,
   "id": "9f3475da-39da-4b75-940a-c1ef73efaa54",
   "metadata": {},
   "outputs": [
    {
     "data": {
      "text/plain": [
       "[0, 1, 2, 3, 4, 5, 6, 7, 8, 9]"
      ]
     },
     "execution_count": 17,
     "metadata": {},
     "output_type": "execute_result"
    }
   ],
   "source": [
    "list(range(10))"
   ]
  },
  {
   "cell_type": "code",
   "execution_count": 18,
   "id": "f06382c0-8354-4162-a744-7e2324e322c7",
   "metadata": {},
   "outputs": [
    {
     "data": {
      "text/plain": [
       "[0, 1, 2, 3, 4, 5, 6, 7, 8, 9, 0, 1, 2, 3, 4, 5, 6, 7, 8, 9]"
      ]
     },
     "execution_count": 18,
     "metadata": {},
     "output_type": "execute_result"
    }
   ],
   "source": [
    "list(range(10))*2"
   ]
  },
  {
   "cell_type": "code",
   "execution_count": 20,
   "id": "eb7d8ad5-2071-49e2-bf72-5d4b73539bc3",
   "metadata": {},
   "outputs": [
    {
     "name": "stdout",
     "output_type": "stream",
     "text": [
      "your appointment is tommorrow\n",
      "your appointment is tommorrow\n",
      "your appointment is tommorrow\n",
      "\n"
     ]
    }
   ],
   "source": [
    "mssg=\"your appointment is tommorrow\\n\"\n",
    "print(mssg*3)"
   ]
  },
  {
   "cell_type": "code",
   "execution_count": 23,
   "id": "14dc97b8-c379-4ad9-9b03-97bf897653f9",
   "metadata": {},
   "outputs": [
    {
     "data": {
      "text/plain": [
       "True"
      ]
     },
     "execution_count": 23,
     "metadata": {},
     "output_type": "execute_result"
    }
   ],
   "source": [
    "groccery_list=[\"mango\",\"banana\",\"apple\",\"lichi\",\"gauva\"]\n",
    "\"mango\"in groccery_list\n",
    " "
   ]
  },
  {
   "cell_type": "code",
   "execution_count": 24,
   "id": "2fbfabb3-3bd5-44dd-9680-05336b4e3e89",
   "metadata": {},
   "outputs": [
    {
     "data": {
      "text/plain": [
       "True"
      ]
     },
     "execution_count": 24,
     "metadata": {},
     "output_type": "execute_result"
    }
   ],
   "source": [
    "\"lichi\" in groccery_list"
   ]
  },
  {
   "cell_type": "code",
   "execution_count": 26,
   "id": "5a463907-588e-4d0b-857b-c302e6c7a63a",
   "metadata": {},
   "outputs": [
    {
     "data": {
      "text/plain": [
       "False"
      ]
     },
     "execution_count": 26,
     "metadata": {},
     "output_type": "execute_result"
    }
   ],
   "source": [
    "\"potato\" in groccery_list"
   ]
  },
  {
   "cell_type": "code",
   "execution_count": 27,
   "id": "4d2bcec2-f604-4c88-b0c1-608c951330a6",
   "metadata": {},
   "outputs": [
    {
     "data": {
      "text/plain": [
       "True"
      ]
     },
     "execution_count": 27,
     "metadata": {},
     "output_type": "execute_result"
    }
   ],
   "source": [
    "\"potato\" not in groccery_list"
   ]
  },
  {
   "cell_type": "code",
   "execution_count": 28,
   "id": "4eb8d559-dc0d-4d94-8c75-b5c9a005ba07",
   "metadata": {},
   "outputs": [
    {
     "data": {
      "text/plain": [
       "False"
      ]
     },
     "execution_count": 28,
     "metadata": {},
     "output_type": "execute_result"
    }
   ],
   "source": [
    "\"lichi\" not in groccery_list"
   ]
  },
  {
   "cell_type": "code",
   "execution_count": 29,
   "id": "9b8eecc4-d9d0-4490-aff4-4cab10f450ac",
   "metadata": {},
   "outputs": [
    {
     "data": {
      "text/plain": [
       "False"
      ]
     },
     "execution_count": 29,
     "metadata": {},
     "output_type": "execute_result"
    }
   ],
   "source": [
    "\"mango\" not in groccery_list"
   ]
  },
  {
   "cell_type": "markdown",
   "id": "c64ed271-086a-4f38-9655-b1c09f77c731",
   "metadata": {},
   "source": [
    "# vvi interview question:\n",
    "\n",
    "# deep copy and shallow copy\n",
    "\n",
    "# shallow copy>>> value will change with change in other list\n",
    "\n",
    "# deep copy>>>> value will not change with change in other list "
   ]
  },
  {
   "cell_type": "code",
   "execution_count": 32,
   "id": "39722051-be60-445d-afda-5e0167dd8e89",
   "metadata": {},
   "outputs": [],
   "source": [
    "groccery_list=[\"mango\",\"banana\",\"apple\",\"lichi\",\"gauva\"]\n",
    "a=groccery_list\n",
    "a[2]=\"potato\""
   ]
  },
  {
   "cell_type": "code",
   "execution_count": 33,
   "id": "054a0c74-04f5-4e48-ac72-194c02df45b1",
   "metadata": {},
   "outputs": [
    {
     "data": {
      "text/plain": [
       "['mango', 'banana', 'potato', 'lichi', 'gauva']"
      ]
     },
     "execution_count": 33,
     "metadata": {},
     "output_type": "execute_result"
    }
   ],
   "source": [
    "a"
   ]
  },
  {
   "cell_type": "code",
   "execution_count": 34,
   "id": "9aa6f9c7-c4ab-45c1-8570-1225d1a70293",
   "metadata": {},
   "outputs": [
    {
     "data": {
      "text/plain": [
       "['mango', 'banana', 'potato', 'lichi', 'gauva']"
      ]
     },
     "execution_count": 34,
     "metadata": {},
     "output_type": "execute_result"
    }
   ],
   "source": [
    "groccery_list"
   ]
  },
  {
   "cell_type": "code",
   "execution_count": 43,
   "id": "6f156bdf-213a-49b9-867d-cb8c5ef0e45e",
   "metadata": {},
   "outputs": [
    {
     "data": {
      "text/plain": [
       "['mango', 'banana', 'apple', 'lichi', 'gauva']"
      ]
     },
     "execution_count": 43,
     "metadata": {},
     "output_type": "execute_result"
    }
   ],
   "source": [
    "groccery_list=[\"mango\",\"banana\",\"apple\",\"lichi\",\"gauva\"]\n",
    "a=[\"a\",\"b\"]\n",
    "a=groccery_list # this concept is known as shallow copy\n",
    "a"
   ]
  },
  {
   "cell_type": "code",
   "execution_count": 50,
   "id": "503ea406-a18f-4394-a3e3-bee9cc32b236",
   "metadata": {},
   "outputs": [
    {
     "data": {
      "text/plain": [
       "['mango', 'banana', 'apple', 'lichi', 'gauva']"
      ]
     },
     "execution_count": 50,
     "metadata": {},
     "output_type": "execute_result"
    }
   ],
   "source": [
    "#deep copy>>>> it will not change the value in another list\n",
    "groccery_list=[\"mango\",\"banana\",\"apple\",\"lichi\",\"gauva\"]\n",
    "b=groccery_list.copy() #deep copy\n",
    "b"
   ]
  },
  {
   "cell_type": "code",
   "execution_count": 51,
   "id": "b1e0c373-b345-4250-84d2-4cc595adc99f",
   "metadata": {},
   "outputs": [
    {
     "data": {
      "text/plain": [
       "['onian', 'banana', 'apple', 'lichi', 'gauva']"
      ]
     },
     "execution_count": 51,
     "metadata": {},
     "output_type": "execute_result"
    }
   ],
   "source": [
    "b[0]=\"onian\"\n",
    "b"
   ]
  },
  {
   "cell_type": "code",
   "execution_count": 53,
   "id": "e0d92ef7-3736-4dd7-bada-451a71893595",
   "metadata": {},
   "outputs": [
    {
     "data": {
      "text/plain": [
       "['mango', 'banana', 'apple', 'lichi', 'gauva']"
      ]
     },
     "execution_count": 53,
     "metadata": {},
     "output_type": "execute_result"
    }
   ],
   "source": [
    "groccery_list # it does not change in deep copy"
   ]
  },
  {
   "cell_type": "code",
   "execution_count": 3,
   "id": "af5ef850-f796-43fc-bcec-cf51129b9d78",
   "metadata": {},
   "outputs": [
    {
     "data": {
      "text/plain": [
       "['algorithm', 'algorithm', 'data structure', 'web']"
      ]
     },
     "execution_count": 3,
     "metadata": {},
     "output_type": "execute_result"
    }
   ],
   "source": [
    "#sorting list\n",
    "book_list=[\"data structure\",\"algorithm\",\"web\",\"algorithm\"]\n",
    "book_list.sort()    #Sort the list in ascending order and return None.\n",
    "\n",
    "book_list"
   ]
  },
  {
   "cell_type": "code",
   "execution_count": 8,
   "id": "20a9506c-18fb-4c57-a90d-00bd5082c2b5",
   "metadata": {},
   "outputs": [
    {
     "data": {
      "text/plain": [
       "1"
      ]
     },
     "execution_count": 8,
     "metadata": {},
     "output_type": "execute_result"
    }
   ],
   "source": [
    "# indexing of list\n",
    "book_list=[\"data structure\",\"algorithm\",\"web\",\"algorithm\"]\n",
    "book_list.index(\"algorithm\")  #Return first index of value"
   ]
  },
  {
   "cell_type": "code",
   "execution_count": 9,
   "id": "d97c6fec-c96e-4a85-a596-4404af47ca92",
   "metadata": {},
   "outputs": [
    {
     "data": {
      "text/plain": [
       "2"
      ]
     },
     "execution_count": 9,
     "metadata": {},
     "output_type": "execute_result"
    }
   ],
   "source": [
    "book_list.index(\"web\")"
   ]
  },
  {
   "cell_type": "code",
   "execution_count": 10,
   "id": "32e978cb-a700-4152-81ec-b8d91828a4f1",
   "metadata": {},
   "outputs": [
    {
     "data": {
      "text/plain": [
       "4"
      ]
     },
     "execution_count": 10,
     "metadata": {},
     "output_type": "execute_result"
    }
   ],
   "source": [
    "len(book_list) #no of element in the list"
   ]
  },
  {
   "cell_type": "code",
   "execution_count": 11,
   "id": "550ad38f-4c6d-4226-8d49-99be12e90ae9",
   "metadata": {},
   "outputs": [
    {
     "data": {
      "text/plain": [
       "2"
      ]
     },
     "execution_count": 11,
     "metadata": {},
     "output_type": "execute_result"
    }
   ],
   "source": [
    "book_list.count(\"algorithm\") #count gives count of a specific element in alist"
   ]
  },
  {
   "cell_type": "code",
   "execution_count": 12,
   "id": "62efabae-86d6-478a-b47d-c8181ea34000",
   "metadata": {},
   "outputs": [],
   "source": [
    "book_list.remove(\"data structure\")"
   ]
  },
  {
   "cell_type": "code",
   "execution_count": 13,
   "id": "6d48704d-18e2-4e6a-9e8a-92373c56b20a",
   "metadata": {},
   "outputs": [
    {
     "data": {
      "text/plain": [
       "['algorithm', 'web', 'algorithm']"
      ]
     },
     "execution_count": 13,
     "metadata": {},
     "output_type": "execute_result"
    }
   ],
   "source": [
    "book_list"
   ]
  },
  {
   "cell_type": "code",
   "execution_count": 14,
   "id": "27fff859-fc1b-41db-a43a-d73c11ca0a5a",
   "metadata": {},
   "outputs": [],
   "source": [
    "book_list.sort()"
   ]
  },
  {
   "cell_type": "code",
   "execution_count": 15,
   "id": "21cd34a6-fdcf-472e-8c31-bbc54b78d6d4",
   "metadata": {},
   "outputs": [
    {
     "data": {
      "text/plain": [
       "['algorithm', 'algorithm', 'web']"
      ]
     },
     "execution_count": 15,
     "metadata": {},
     "output_type": "execute_result"
    }
   ],
   "source": [
    "book_list"
   ]
  },
  {
   "cell_type": "code",
   "execution_count": 16,
   "id": "87f88032-564e-41bc-a437-e8778fb63f4c",
   "metadata": {},
   "outputs": [],
   "source": [
    "# if you want to delete book_list then\n",
    "del book_list"
   ]
  },
  {
   "cell_type": "code",
   "execution_count": 17,
   "id": "fd4bc698-7e91-47f7-8a44-2cfed4adaf6d",
   "metadata": {},
   "outputs": [
    {
     "ename": "NameError",
     "evalue": "name 'book_list' is not defined",
     "output_type": "error",
     "traceback": [
      "\u001b[0;31m---------------------------------------------------------------------------\u001b[0m",
      "\u001b[0;31mNameError\u001b[0m                                 Traceback (most recent call last)",
      "Cell \u001b[0;32mIn[17], line 1\u001b[0m\n\u001b[0;32m----> 1\u001b[0m \u001b[43mbook_list\u001b[49m \u001b[38;5;66;03m# so here book list is deleted\u001b[39;00m\n",
      "\u001b[0;31mNameError\u001b[0m: name 'book_list' is not defined"
     ]
    }
   ],
   "source": [
    "book_list # so here book list is deleted"
   ]
  },
  {
   "cell_type": "code",
   "execution_count": 1,
   "id": "42f6cb9c-d6b8-4875-8467-bd530bc0e3c1",
   "metadata": {},
   "outputs": [],
   "source": [
    "# if you want to delete the element inside list so the function is called( .clear() ) so this function is used to del element inside list\n",
    "book_list=[\"data structure\",\"algorithm\",\"web\",\"algorithm\"]\n",
    "book_list.clear()"
   ]
  },
  {
   "cell_type": "code",
   "execution_count": 2,
   "id": "9db2e3ae-cc61-469f-9dad-954a7961c49f",
   "metadata": {},
   "outputs": [
    {
     "data": {
      "text/plain": [
       "[]"
      ]
     },
     "execution_count": 2,
     "metadata": {},
     "output_type": "execute_result"
    }
   ],
   "source": [
    "book_list"
   ]
  },
  {
   "cell_type": "code",
   "execution_count": 4,
   "id": "19ef939f-34e8-401e-8490-b49a0d47ae0a",
   "metadata": {},
   "outputs": [],
   "source": [
    "##book_list.pop()"
   ]
  },
  {
   "cell_type": "code",
   "execution_count": 28,
   "id": "06aa6db2-031a-41f6-be35-9682616d21a3",
   "metadata": {},
   "outputs": [
    {
     "data": {
      "text/plain": [
       "[46, 90, 134, 178, 180, 690]"
      ]
     },
     "execution_count": 28,
     "metadata": {},
     "output_type": "execute_result"
    }
   ],
   "source": [
    "#list comprehension\n",
    "prices=[23,45,67,89,90,345]\n",
    "double_price=[]\n",
    "for i in prices:\n",
    "    double_price.append(i*2)\n",
    "double_price"
   ]
  },
  {
   "cell_type": "code",
   "execution_count": 29,
   "id": "5824d3e7-9eba-46cd-bf8f-e9e4c09688a5",
   "metadata": {},
   "outputs": [
    {
     "data": {
      "text/plain": [
       "[46, 90, 134, 178, 180, 690]"
      ]
     },
     "execution_count": 29,
     "metadata": {},
     "output_type": "execute_result"
    }
   ],
   "source": [
    "[i*2  for i in prices]"
   ]
  },
  {
   "cell_type": "code",
   "execution_count": 7,
   "id": "feedc94c-075d-49f2-9928-2e9fc97f7ebf",
   "metadata": {},
   "outputs": [
    {
     "data": {
      "text/plain": [
       "['Ajay', 'Vijay', 'Shyam', 'Ram']"
      ]
     },
     "execution_count": 7,
     "metadata": {},
     "output_type": "execute_result"
    }
   ],
   "source": [
    "name=[\"ajay\",\"vijay\",\"shyam\",\"ram\"]\n",
    "[i.capitalize() for i in name]"
   ]
  },
  {
   "cell_type": "code",
   "execution_count": 8,
   "id": "eb4d1dc6-0794-43d0-9f57-a457bcf0437b",
   "metadata": {},
   "outputs": [
    {
     "data": {
      "text/plain": [
       "[1, 16, 36, 81, 81, 25, 49, 64]"
      ]
     },
     "execution_count": 8,
     "metadata": {},
     "output_type": "execute_result"
    }
   ],
   "source": [
    "#use case\n",
    "number=[1,4,6,9,9,5,7,8]\n",
    "[num**2 for num in number]"
   ]
  },
  {
   "cell_type": "code",
   "execution_count": 9,
   "id": "7a51ff0b-9dcf-4ed8-af63-78279bf26047",
   "metadata": {},
   "outputs": [
    {
     "data": {
      "text/plain": [
       "['doc1', 'ppt']"
      ]
     },
     "execution_count": 9,
     "metadata": {},
     "output_type": "execute_result"
    }
   ],
   "source": [
    "str1=\"doc1.ppt\"\n",
    "str1.split(\".\")"
   ]
  },
  {
   "cell_type": "code",
   "execution_count": 10,
   "id": "c8ecee76-f328-4848-9eb4-4f606a7e83f1",
   "metadata": {},
   "outputs": [
    {
     "data": {
      "text/plain": [
       "'ppt'"
      ]
     },
     "execution_count": 10,
     "metadata": {},
     "output_type": "execute_result"
    }
   ],
   "source": [
    "str1.split(\".\")[-1]"
   ]
  },
  {
   "cell_type": "code",
   "execution_count": 13,
   "id": "6be26a9c-3cc9-439e-a5ff-e51020736356",
   "metadata": {},
   "outputs": [
    {
     "data": {
      "text/plain": [
       "['ppt', 'pdf', 'jpg', 'py']"
      ]
     },
     "execution_count": 13,
     "metadata": {},
     "output_type": "execute_result"
    }
   ],
   "source": [
    "file_name=[\"doc1.ppt\",\"doc2.pdf\", \"doc3.jpg\",\"doc4.py\"]\n",
    "[i.split(\".\")[-1] for i in file_name]"
   ]
  },
  {
   "cell_type": "code",
   "execution_count": 2,
   "id": "0f14c0d8-94a2-4a0e-8c60-2bd5f571fa3b",
   "metadata": {},
   "outputs": [
    {
     "data": {
      "text/plain": [
       "['qw@gmail.com', 'rt@gmail.com']"
      ]
     },
     "execution_count": 2,
     "metadata": {},
     "output_type": "execute_result"
    }
   ],
   "source": [
    "#conditional list comprehension \n",
    "list1=[\"qw@gmail.com\",\"yt@qsd.com\",\"rw@12sdcv.com\",\"rt@gmail.com\"]\n",
    "[i for i in list1 if i.endswith(\"@gmail.com\")]"
   ]
  },
  {
   "cell_type": "code",
   "execution_count": 3,
   "id": "1addb472-fc3e-40bc-902d-0a108884725c",
   "metadata": {},
   "outputs": [
    {
     "data": {
      "text/plain": [
       "[[1, 4], [1, 5], [1, 6], [2, 4], [2, 5], [2, 6], [3, 4], [3, 5], [3, 6]]"
      ]
     },
     "execution_count": 3,
     "metadata": {},
     "output_type": "execute_result"
    }
   ],
   "source": [
    "#nested list comprehension\n",
    "pairs=[]\n",
    "for x in [1,2,3]:\n",
    "    for y in [4,5,6]:\n",
    "        pairs.append([x,y])\n",
    "pairs"
   ]
  },
  {
   "cell_type": "code",
   "execution_count": 4,
   "id": "349f2e8f-ca85-484a-976e-eb3bc9f9946f",
   "metadata": {},
   "outputs": [
    {
     "data": {
      "text/plain": [
       "[[1, 4], [1, 5], [1, 6], [2, 4], [2, 5], [2, 6], [3, 4], [3, 5], [3, 6]]"
      ]
     },
     "execution_count": 4,
     "metadata": {},
     "output_type": "execute_result"
    }
   ],
   "source": [
    "[[x,y] for x in [1,2,3] for y in [4,5,6]]"
   ]
  },
  {
   "cell_type": "code",
   "execution_count": 2,
   "id": "dd31e110-b57a-4aa5-aeef-7e181e168165",
   "metadata": {},
   "outputs": [],
   "source": [
    "# list as a stack and queue\n",
    "#stack (optional from here to last)\n",
    "his=[]\n",
    "his.append(\"name\")\n",
    "his.append(\"raj\")\n",
    "his.append(\"my\")"
   ]
  },
  {
   "cell_type": "code",
   "execution_count": 3,
   "id": "2669a55c-199a-44d6-9eaa-0a9ce9b16afd",
   "metadata": {},
   "outputs": [
    {
     "data": {
      "text/plain": [
       "['name', 'raj', 'my']"
      ]
     },
     "execution_count": 3,
     "metadata": {},
     "output_type": "execute_result"
    }
   ],
   "source": [
    "his"
   ]
  },
  {
   "cell_type": "code",
   "execution_count": 4,
   "id": "c5af1d46-89cb-4bc8-98f3-ce22c517da80",
   "metadata": {},
   "outputs": [
    {
     "data": {
      "text/plain": [
       "'my'"
      ]
     },
     "execution_count": 4,
     "metadata": {},
     "output_type": "execute_result"
    }
   ],
   "source": [
    "his.pop()"
   ]
  },
  {
   "cell_type": "code",
   "execution_count": 5,
   "id": "e0ad9149-a872-4222-a8ca-ae997bfa092e",
   "metadata": {},
   "outputs": [
    {
     "data": {
      "text/plain": [
       "['name', 'raj']"
      ]
     },
     "execution_count": 5,
     "metadata": {},
     "output_type": "execute_result"
    }
   ],
   "source": [
    "his"
   ]
  },
  {
   "cell_type": "code",
   "execution_count": 6,
   "id": "3c8f9317-0e60-4ab4-80b3-d8baf86682dc",
   "metadata": {},
   "outputs": [],
   "source": [
    "#queue>>>it works in orderly sequence manner(fifo)"
   ]
  },
  {
   "cell_type": "code",
   "execution_count": 3,
   "id": "7784af07-36fb-4a49-8914-ac563c54e51c",
   "metadata": {},
   "outputs": [],
   "source": [
    "from collections import deque\n",
    "#library os a collection of python code (modules) ,it  is uses for re-use the code\n",
    "# in this case collection is a library and deque is module"
   ]
  },
  {
   "cell_type": "code",
   "execution_count": 4,
   "id": "0a90a7a0-2a9d-4449-ad4e-8041336c71a5",
   "metadata": {},
   "outputs": [
    {
     "data": {
      "text/plain": [
       "deque(['cus1', 'cus2', 'cus3', 'cus4'])"
      ]
     },
     "execution_count": 4,
     "metadata": {},
     "output_type": "execute_result"
    }
   ],
   "source": [
    "checkout=deque()\n",
    "checkout.append(\"cus1\")\n",
    "checkout.append(\"cus2\")\n",
    "checkout.append(\"cus3\")\n",
    "checkout.append(\"cus4\")\n",
    "checkout"
   ]
  },
  {
   "cell_type": "code",
   "execution_count": 5,
   "id": "b7611cfc-7114-40a5-9402-dc7734f87675",
   "metadata": {},
   "outputs": [
    {
     "name": "stdout",
     "output_type": "stream",
     "text": [
      "surving cus1\n",
      "surving cus2\n",
      "surving cus3\n",
      "surving cus4\n"
     ]
    }
   ],
   "source": [
    "while checkout:\n",
    "    customer=checkout.popleft() # popleft means checkout from left side\n",
    "    print(\"surving\",customer)"
   ]
  },
  {
   "cell_type": "code",
   "execution_count": 1,
   "id": "e05e3c1f-1bfa-444b-8b1b-a30f24209c3c",
   "metadata": {},
   "outputs": [
    {
     "name": "stdout",
     "output_type": "stream",
     "text": [
      "printing print the 1 st pdf\n",
      "printing print the 2 st pdf\n",
      "printing print the 3 st pdf\n"
     ]
    }
   ],
   "source": [
    "from queue import Queue\n",
    "print_queue=Queue() # for  stack is using for pop methon  but for queue  is used for .put method\n",
    "print_queue.put(\"print the 1 st pdf\") #put is simillar to push\n",
    "print_queue.put(\"print the 2 st pdf\")\n",
    "print_queue.put(\"print the 3 st pdf\")\n",
    "\n",
    "while not print_queue.empty():\n",
    "    print_job=print_queue.get()# get is simillar to pop\n",
    "    print(\"printing\",print_job)"
   ]
  },
  {
   "cell_type": "code",
   "execution_count": null,
   "id": "adaa0dd6-2f6f-453b-aac2-1711ad538c88",
   "metadata": {},
   "outputs": [],
   "source": []
  }
 ],
 "metadata": {
  "kernelspec": {
   "display_name": "Python 3 (ipykernel)",
   "language": "python",
   "name": "python3"
  },
  "language_info": {
   "codemirror_mode": {
    "name": "ipython",
    "version": 3
   },
   "file_extension": ".py",
   "mimetype": "text/x-python",
   "name": "python",
   "nbconvert_exporter": "python",
   "pygments_lexer": "ipython3",
   "version": "3.10.8"
  }
 },
 "nbformat": 4,
 "nbformat_minor": 5
}
