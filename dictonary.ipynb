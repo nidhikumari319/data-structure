{
 "cells": [
  {
   "cell_type": "code",
   "execution_count": 1,
   "id": "50c587ef-510d-45c7-86ea-94feda7474bc",
   "metadata": {},
   "outputs": [],
   "source": [
    "#dictonary is a data structure that store data as a key value pair\n",
    "# keys are unique and immutable\n",
    "#note: dictonaries are unordered but for python 3.7 version,dictonaries retains  the order of insertion\n",
    "#this means if you iterate over a dictonary, the items will be returned in the order,they were added"
   ]
  },
  {
   "cell_type": "code",
   "execution_count": 2,
   "id": "175d8a3b-cd75-4d74-b253-6a4cb4eae6ed",
   "metadata": {},
   "outputs": [
    {
     "data": {
      "text/plain": [
       "dict"
      ]
     },
     "execution_count": 2,
     "metadata": {},
     "output_type": "execute_result"
    }
   ],
   "source": [
    "d={}\n",
    "type(d)"
   ]
  },
  {
   "cell_type": "code",
   "execution_count": 3,
   "id": "2cfcf3c5-b169-43c2-b1fe-3e09dcc2e65f",
   "metadata": {},
   "outputs": [
    {
     "data": {
      "text/plain": [
       "{'name': 'ajay', 'email': 'qwd@gmail.com', 'contact': 234567}"
      ]
     },
     "execution_count": 3,
     "metadata": {},
     "output_type": "execute_result"
    }
   ],
   "source": [
    "d={\"name\":\"ajay\", \"email\":\"qwd@gmail.com\",\"contact\":234567}\n",
    "d"
   ]
  },
  {
   "cell_type": "code",
   "execution_count": 4,
   "id": "84f23f16-4b41-4a25-8b51-3f7097199aca",
   "metadata": {},
   "outputs": [
    {
     "data": {
      "text/plain": [
       "'ajay'"
      ]
     },
     "execution_count": 4,
     "metadata": {},
     "output_type": "execute_result"
    }
   ],
   "source": [
    "d[\"name\"]"
   ]
  },
  {
   "cell_type": "code",
   "execution_count": 5,
   "id": "3a0c5fba-2599-4236-a93d-06f2204a2f01",
   "metadata": {},
   "outputs": [
    {
     "data": {
      "text/plain": [
       "'qwd@gmail.com'"
      ]
     },
     "execution_count": 5,
     "metadata": {},
     "output_type": "execute_result"
    }
   ],
   "source": [
    "d[\"email\"]"
   ]
  },
  {
   "cell_type": "code",
   "execution_count": 6,
   "id": "d6f23196-079e-4f9a-9fce-748d733599fc",
   "metadata": {},
   "outputs": [
    {
     "data": {
      "text/plain": [
       "234567"
      ]
     },
     "execution_count": 6,
     "metadata": {},
     "output_type": "execute_result"
    }
   ],
   "source": [
    "d[\"contact\"]"
   ]
  },
  {
   "cell_type": "code",
   "execution_count": 7,
   "id": "fd6f0359-a998-4002-bad4-6d3641a4936b",
   "metadata": {},
   "outputs": [],
   "source": [
    "d[\"name\"]=\"bijay\""
   ]
  },
  {
   "cell_type": "code",
   "execution_count": 8,
   "id": "d4f5774b-bed9-4e2b-baa7-3a431f207011",
   "metadata": {},
   "outputs": [
    {
     "data": {
      "text/plain": [
       "{'name': 'bijay', 'email': 'qwd@gmail.com', 'contact': 234567}"
      ]
     },
     "execution_count": 8,
     "metadata": {},
     "output_type": "execute_result"
    }
   ],
   "source": [
    "d"
   ]
  },
  {
   "cell_type": "code",
   "execution_count": 10,
   "id": "4afeafd6-f8ff-4d95-a2da-e0cf4ffe08ff",
   "metadata": {},
   "outputs": [],
   "source": [
    "d={\"adress\":\"26th core banglore\"}"
   ]
  },
  {
   "cell_type": "code",
   "execution_count": 12,
   "id": "4360eea4-fe43-4b34-aacb-669438288495",
   "metadata": {},
   "outputs": [
    {
     "data": {
      "text/plain": [
       "'26th core banglore'"
      ]
     },
     "execution_count": 12,
     "metadata": {},
     "output_type": "execute_result"
    }
   ],
   "source": [
    "d[\"adress\"]"
   ]
  },
  {
   "cell_type": "code",
   "execution_count": 13,
   "id": "0c999939-e861-4907-873c-fd8809b5fef0",
   "metadata": {},
   "outputs": [],
   "source": [
    "d={\"key\":1}"
   ]
  },
  {
   "cell_type": "code",
   "execution_count": 17,
   "id": "e49b9702-055d-4fb4-a6b7-18715e63797e",
   "metadata": {},
   "outputs": [
    {
     "data": {
      "text/plain": [
       "1"
      ]
     },
     "execution_count": 17,
     "metadata": {},
     "output_type": "execute_result"
    }
   ],
   "source": [
    "d[\"key\"]"
   ]
  },
  {
   "cell_type": "code",
   "execution_count": 21,
   "id": "df3a5658-2c1f-4faf-a6cb-9c13e3558f6d",
   "metadata": {},
   "outputs": [
    {
     "ename": "KeyError",
     "evalue": "1",
     "output_type": "error",
     "traceback": [
      "\u001b[0;31m---------------------------------------------------------------------------\u001b[0m",
      "\u001b[0;31mKeyError\u001b[0m                                  Traceback (most recent call last)",
      "Cell \u001b[0;32mIn[21], line 1\u001b[0m\n\u001b[0;32m----> 1\u001b[0m \u001b[43md\u001b[49m\u001b[43m[\u001b[49m\u001b[38;5;241;43m1\u001b[39;49m\u001b[43m]\u001b[49m\n",
      "\u001b[0;31mKeyError\u001b[0m: 1"
     ]
    }
   ],
   "source": [
    "d[1] # you can only access value using key, vice-versa not possible"
   ]
  },
  {
   "cell_type": "code",
   "execution_count": 22,
   "id": "61ebeb13-6dc0-4488-b7ec-116f4ff2d43f",
   "metadata": {},
   "outputs": [
    {
     "data": {
      "text/plain": [
       "{1: 'key'}"
      ]
     },
     "execution_count": 22,
     "metadata": {},
     "output_type": "execute_result"
    }
   ],
   "source": [
    "#rules for defining keys\n",
    "d={1:\"key\"} #integer as key\n",
    "d"
   ]
  },
  {
   "cell_type": "code",
   "execution_count": 23,
   "id": "486e9a06-fc76-4d79-af3a-609de6a64dfa",
   "metadata": {},
   "outputs": [
    {
     "data": {
      "text/plain": [
       "{4.5: 'key'}"
      ]
     },
     "execution_count": 23,
     "metadata": {},
     "output_type": "execute_result"
    }
   ],
   "source": [
    "d={4.5:\"key\"}\n",
    "d"
   ]
  },
  {
   "cell_type": "code",
   "execution_count": 24,
   "id": "4363e737-cfba-4aa2-817e-134df2574253",
   "metadata": {},
   "outputs": [
    {
     "data": {
      "text/plain": [
       "{True: 'key'}"
      ]
     },
     "execution_count": 24,
     "metadata": {},
     "output_type": "execute_result"
    }
   ],
   "source": [
    "d={True:\"key\"}## bollean value can also be key of dictonary\n",
    "d"
   ]
  },
  {
   "cell_type": "code",
   "execution_count": 27,
   "id": "f4e30946-b1c1-4009-97b3-ec87fb9886da",
   "metadata": {},
   "outputs": [
    {
     "ename": "SyntaxError",
     "evalue": "incomplete input (449966934.py, line 2)",
     "output_type": "error",
     "traceback": [
      "\u001b[0;36m  Cell \u001b[0;32mIn[27], line 2\u001b[0;36m\u001b[0m\n\u001b[0;31m    d\u001b[0m\n\u001b[0m     ^\u001b[0m\n\u001b[0;31mSyntaxError\u001b[0m\u001b[0;31m:\u001b[0m incomplete input\n"
     ]
    }
   ],
   "source": [
    "d={#:123 } # you cannot have hash as a key\n",
    "d"
   ]
  },
  {
   "cell_type": "code",
   "execution_count": 28,
   "id": "34f18427-3257-455f-a2ea-56a8e5eba28b",
   "metadata": {},
   "outputs": [
    {
     "ename": "SyntaxError",
     "evalue": "invalid syntax (965719181.py, line 1)",
     "output_type": "error",
     "traceback": [
      "\u001b[0;36m  Cell \u001b[0;32mIn[28], line 1\u001b[0;36m\u001b[0m\n\u001b[0;31m    d={@:123 }\u001b[0m\n\u001b[0m       ^\u001b[0m\n\u001b[0;31mSyntaxError\u001b[0m\u001b[0;31m:\u001b[0m invalid syntax\n"
     ]
    }
   ],
   "source": [
    "d={@:123 }\n",
    "d"
   ]
  },
  {
   "cell_type": "code",
   "execution_count": 29,
   "id": "b78de877-6a42-4317-89ac-c839b5be808a",
   "metadata": {},
   "outputs": [
    {
     "ename": "TypeError",
     "evalue": "unhashable type: 'list'",
     "output_type": "error",
     "traceback": [
      "\u001b[0;31m---------------------------------------------------------------------------\u001b[0m",
      "\u001b[0;31mTypeError\u001b[0m                                 Traceback (most recent call last)",
      "Cell \u001b[0;32mIn[29], line 1\u001b[0m\n\u001b[0;32m----> 1\u001b[0m d\u001b[38;5;241m=\u001b[39m{[\u001b[38;5;241m1\u001b[39m,\u001b[38;5;241m2\u001b[39m,\u001b[38;5;241m3\u001b[39m]:\u001b[38;5;124m\"\u001b[39m\u001b[38;5;124m26th core banglore\u001b[39m\u001b[38;5;124m\"\u001b[39m}\n\u001b[1;32m      2\u001b[0m d\n",
      "\u001b[0;31mTypeError\u001b[0m: unhashable type: 'list'"
     ]
    }
   ],
   "source": [
    "d={[1,2,3]:\"26th core banglore\"}\n",
    "d"
   ]
  },
  {
   "cell_type": "code",
   "execution_count": 31,
   "id": "f5ea102a-360f-43cf-b7e8-a5ce06813738",
   "metadata": {},
   "outputs": [
    {
     "name": "stdout",
     "output_type": "stream",
     "text": [
      "{(1, 2, 3): '26th core banglore'} <class 'dict'>\n"
     ]
    }
   ],
   "source": [
    "d={(1,2,3):\"26th core banglore\"}\n",
    "print(d, type(d))"
   ]
  },
  {
   "cell_type": "code",
   "execution_count": 32,
   "id": "4e1920c0-c5dc-4e65-b3eb-838b9efdc050",
   "metadata": {},
   "outputs": [
    {
     "ename": "TypeError",
     "evalue": "unhashable type: 'set'",
     "output_type": "error",
     "traceback": [
      "\u001b[0;31m---------------------------------------------------------------------------\u001b[0m",
      "\u001b[0;31mTypeError\u001b[0m                                 Traceback (most recent call last)",
      "Cell \u001b[0;32mIn[32], line 1\u001b[0m\n\u001b[0;32m----> 1\u001b[0m d\u001b[38;5;241m=\u001b[39m{{\u001b[38;5;241m1\u001b[39m,\u001b[38;5;241m2\u001b[39m,\u001b[38;5;241m3\u001b[39m}:\u001b[38;5;124m\"\u001b[39m\u001b[38;5;124m26th core banglore\u001b[39m\u001b[38;5;124m\"\u001b[39m}\n\u001b[1;32m      2\u001b[0m d\n",
      "\u001b[0;31mTypeError\u001b[0m: unhashable type: 'set'"
     ]
    }
   ],
   "source": [
    "d={{1,2,3}:\"26th core banglore\"}\n",
    "d"
   ]
  },
  {
   "cell_type": "code",
   "execution_count": 33,
   "id": "4ae36e92-5cb1-4755-a6a3-b537ace6016c",
   "metadata": {},
   "outputs": [
    {
     "ename": "TypeError",
     "evalue": "unhashable type: 'dict'",
     "output_type": "error",
     "traceback": [
      "\u001b[0;31m---------------------------------------------------------------------------\u001b[0m",
      "\u001b[0;31mTypeError\u001b[0m                                 Traceback (most recent call last)",
      "Cell \u001b[0;32mIn[33], line 1\u001b[0m\n\u001b[0;32m----> 1\u001b[0m d\u001b[38;5;241m=\u001b[39m{{\u001b[38;5;124m\"\u001b[39m\u001b[38;5;124mkey\u001b[39m\u001b[38;5;124m\"\u001b[39m :\u001b[38;5;241m1\u001b[39m} :\u001b[38;5;124m\"\u001b[39m\u001b[38;5;124m26th core banglore\u001b[39m\u001b[38;5;124m\"\u001b[39m}\n\u001b[1;32m      2\u001b[0m d\n",
      "\u001b[0;31mTypeError\u001b[0m: unhashable type: 'dict'"
     ]
    }
   ],
   "source": [
    "d={{\"key\" :1} :\"26th core banglore\"}\n",
    "d"
   ]
  },
  {
   "cell_type": "code",
   "execution_count": 34,
   "id": "af4cfe96-b40c-48b7-945c-35869d8ecbf7",
   "metadata": {},
   "outputs": [],
   "source": [
    "#only key and numbers can be used as a key of the dictonary"
   ]
  },
  {
   "cell_type": "code",
   "execution_count": 59,
   "id": "f0279564-3717-479f-8201-31794d641459",
   "metadata": {},
   "outputs": [
    {
     "data": {
      "text/plain": [
       "{'name': 'vijay', 'email': 'qwd@gmail.com', 'contact': 234567}"
      ]
     },
     "execution_count": 59,
     "metadata": {},
     "output_type": "execute_result"
    }
   ],
   "source": [
    "d={\"name\":\"ajay\", \"email\":\"qwd@gmail.com\",\"contact\":234567,\"name\":\"vijay\"}\n",
    "d"
   ]
  },
  {
   "cell_type": "code",
   "execution_count": 60,
   "id": "f7c5a576-7641-4a83-ad98-078b2dd4e474",
   "metadata": {},
   "outputs": [
    {
     "data": {
      "text/plain": [
       "{'name': 'sanjay', 'email': 'qwd@gmail.com', 'contact': 234567}"
      ]
     },
     "execution_count": 60,
     "metadata": {},
     "output_type": "execute_result"
    }
   ],
   "source": [
    "d[\"name\"]=\"sanjay\"\n",
    "d"
   ]
  },
  {
   "cell_type": "code",
   "execution_count": 61,
   "id": "6670c88b-ebf0-4f1b-aa53-08a9a38407ff",
   "metadata": {},
   "outputs": [
    {
     "data": {
      "text/plain": [
       "{'name': 'vijay', 'email': 'qwd@gmail.com', 'contact': 234567}"
      ]
     },
     "execution_count": 61,
     "metadata": {},
     "output_type": "execute_result"
    }
   ],
   "source": [
    "d={\"name\":[\"ajay\",1,3,4 ], \"email\":\"qwd@gmail.com\",\"contact\":234567,\"name\":\"vijay\"}\n",
    "d"
   ]
  },
  {
   "cell_type": "code",
   "execution_count": 62,
   "id": "b7e4a28f-9c09-4a1b-a1ba-d16715d5df12",
   "metadata": {},
   "outputs": [
    {
     "data": {
      "text/plain": [
       "{'name': ['ajay', 1, 3, 4], 'email': 'qwd@gmail.com', 'contact': 234567}"
      ]
     },
     "execution_count": 62,
     "metadata": {},
     "output_type": "execute_result"
    }
   ],
   "source": [
    "d={\"name\":[\"ajay\",1,3,4 ], \"email\":\"qwd@gmail.com\",\"contact\":234567}\n",
    "d"
   ]
  },
  {
   "cell_type": "code",
   "execution_count": 63,
   "id": "47a1b280-c452-4863-932e-050783b30963",
   "metadata": {},
   "outputs": [],
   "source": [
    "d[\"adress\"]=\"nanital\""
   ]
  },
  {
   "cell_type": "code",
   "execution_count": 64,
   "id": "7c2bfc08-d8e6-4cc9-b77c-7fc14f83000d",
   "metadata": {},
   "outputs": [
    {
     "data": {
      "text/plain": [
       "{'name': ['ajay', 1, 3, 4],\n",
       " 'email': 'qwd@gmail.com',\n",
       " 'contact': 234567,\n",
       " 'adress': 'nanital'}"
      ]
     },
     "execution_count": 64,
     "metadata": {},
     "output_type": "execute_result"
    }
   ],
   "source": [
    "d"
   ]
  },
  {
   "cell_type": "code",
   "execution_count": 65,
   "id": "7a369801-57bc-4b20-ad28-56d454248e6f",
   "metadata": {},
   "outputs": [],
   "source": [
    "del d[\"adress\"] # to delete a key value pair"
   ]
  },
  {
   "cell_type": "code",
   "execution_count": 66,
   "id": "a7f84ecd-3b6e-4fcc-9db1-ed921784ae5f",
   "metadata": {},
   "outputs": [
    {
     "data": {
      "text/plain": [
       "{'name': ['ajay', 1, 3, 4], 'email': 'qwd@gmail.com', 'contact': 234567}"
      ]
     },
     "execution_count": 66,
     "metadata": {},
     "output_type": "execute_result"
    }
   ],
   "source": [
    "d"
   ]
  },
  {
   "cell_type": "code",
   "execution_count": 67,
   "id": "6f533f50-e4cf-4045-919d-db4d72a2d4c0",
   "metadata": {},
   "outputs": [],
   "source": [
    "del d # delete the whole dictonary"
   ]
  },
  {
   "cell_type": "code",
   "execution_count": 68,
   "id": "e8a051fd-c50a-42d5-9024-ccc01acc6721",
   "metadata": {},
   "outputs": [
    {
     "ename": "NameError",
     "evalue": "name 'd' is not defined",
     "output_type": "error",
     "traceback": [
      "\u001b[0;31m---------------------------------------------------------------------------\u001b[0m",
      "\u001b[0;31mNameError\u001b[0m                                 Traceback (most recent call last)",
      "Cell \u001b[0;32mIn[68], line 1\u001b[0m\n\u001b[0;32m----> 1\u001b[0m \u001b[43md\u001b[49m\n",
      "\u001b[0;31mNameError\u001b[0m: name 'd' is not defined"
     ]
    }
   ],
   "source": [
    "d"
   ]
  },
  {
   "cell_type": "code",
   "execution_count": 69,
   "id": "ae276420-0f48-4de3-948b-685fbe481904",
   "metadata": {},
   "outputs": [],
   "source": [
    "d={\"name\":[\"ajay\",1,3,4 ], \"email\":\"qwd@gmail.com\",\"contact\":234567,\"name\":\"vijay\"}\n",
    "d.clear()"
   ]
  },
  {
   "cell_type": "code",
   "execution_count": 70,
   "id": "c34bc563-99fa-4552-8292-7261e72b3128",
   "metadata": {},
   "outputs": [
    {
     "data": {
      "text/plain": [
       "{}"
      ]
     },
     "execution_count": 70,
     "metadata": {},
     "output_type": "execute_result"
    }
   ],
   "source": [
    "d"
   ]
  },
  {
   "cell_type": "code",
   "execution_count": 72,
   "id": "5f50e61c-8b5b-4149-81eb-500d66ff0987",
   "metadata": {},
   "outputs": [
    {
     "data": {
      "text/plain": [
       "3"
      ]
     },
     "execution_count": 72,
     "metadata": {},
     "output_type": "execute_result"
    }
   ],
   "source": [
    "d={\"name\":[\"ajay\",1,3,4 ], \"email\":\"qwd@gmail.com\",\"contact\":234567,\"name\":\"vijay\"}\n",
    "len(d)"
   ]
  },
  {
   "cell_type": "code",
   "execution_count": 73,
   "id": "f168eff3-3f0c-4cc8-96c5-0e370493a141",
   "metadata": {},
   "outputs": [
    {
     "data": {
      "text/plain": [
       "dict_keys(['name', 'email', 'contact'])"
      ]
     },
     "execution_count": 73,
     "metadata": {},
     "output_type": "execute_result"
    }
   ],
   "source": [
    "d.keys()"
   ]
  },
  {
   "cell_type": "code",
   "execution_count": 74,
   "id": "23b56174-a7c9-4634-a627-5b69372da558",
   "metadata": {},
   "outputs": [
    {
     "data": {
      "text/plain": [
       "dict_values(['vijay', 'qwd@gmail.com', 234567])"
      ]
     },
     "execution_count": 74,
     "metadata": {},
     "output_type": "execute_result"
    }
   ],
   "source": [
    "d.values()"
   ]
  },
  {
   "cell_type": "code",
   "execution_count": 78,
   "id": "e9275674-d0bb-40d5-bdf0-f43ed2e4cb01",
   "metadata": {},
   "outputs": [
    {
     "data": {
      "text/plain": [
       "{'name': 'vijay', 'email': 'qwd@gmail.com', 'contact': 234567}"
      ]
     },
     "execution_count": 78,
     "metadata": {},
     "output_type": "execute_result"
    }
   ],
   "source": [
    "d1=d.copy()\n",
    "d1"
   ]
  },
  {
   "cell_type": "code",
   "execution_count": 80,
   "id": "5d6af8ff-b2db-4d0c-8247-1ccbed3b64ea",
   "metadata": {},
   "outputs": [
    {
     "ename": "NameError",
     "evalue": "name 'd1' is not defined",
     "output_type": "error",
     "traceback": [
      "\u001b[0;31m---------------------------------------------------------------------------\u001b[0m",
      "\u001b[0;31mNameError\u001b[0m                                 Traceback (most recent call last)",
      "Cell \u001b[0;32mIn[80], line 1\u001b[0m\n\u001b[0;32m----> 1\u001b[0m \u001b[38;5;28;01mdel\u001b[39;00m d1\n\u001b[1;32m      2\u001b[0m d1\n",
      "\u001b[0;31mNameError\u001b[0m: name 'd1' is not defined"
     ]
    }
   ],
   "source": [
    "del d1\n",
    "d1"
   ]
  },
  {
   "cell_type": "code",
   "execution_count": 81,
   "id": "7ee4d948-5d59-4340-bae8-f7327e4d0b19",
   "metadata": {},
   "outputs": [
    {
     "data": {
      "text/plain": [
       "{'name': 'vijay', 'email': 'qwd@gmail.com', 'contact': 234567}"
      ]
     },
     "execution_count": 81,
     "metadata": {},
     "output_type": "execute_result"
    }
   ],
   "source": [
    "d"
   ]
  },
  {
   "cell_type": "code",
   "execution_count": 84,
   "id": "0e6864c2-7005-41ac-9688-15ab81e66f13",
   "metadata": {},
   "outputs": [
    {
     "data": {
      "text/plain": [
       "234567"
      ]
     },
     "execution_count": 84,
     "metadata": {},
     "output_type": "execute_result"
    }
   ],
   "source": [
    "d.pop(\"contact\")"
   ]
  },
  {
   "cell_type": "code",
   "execution_count": 85,
   "id": "5bc40bc7-acb5-4d00-9911-20378a07e7b7",
   "metadata": {},
   "outputs": [
    {
     "data": {
      "text/plain": [
       "{'name': 'vijay', 'email': 'qwd@gmail.com'}"
      ]
     },
     "execution_count": 85,
     "metadata": {},
     "output_type": "execute_result"
    }
   ],
   "source": [
    "d"
   ]
  },
  {
   "cell_type": "code",
   "execution_count": 87,
   "id": "6c0a1629-b574-45ac-9d9c-60d32f59ee5a",
   "metadata": {},
   "outputs": [
    {
     "data": {
      "text/plain": [
       "{'name': 'vijay', 'email': 'qwd@gmail.com', 'course': 'ds'}"
      ]
     },
     "execution_count": 87,
     "metadata": {},
     "output_type": "execute_result"
    }
   ],
   "source": [
    "d1={\"course\":\"ds\"}\n",
    "d.update(d1)\n",
    "d"
   ]
  },
  {
   "cell_type": "code",
   "execution_count": 88,
   "id": "6fe99bee-5f21-473f-bfdd-969dfdf27c12",
   "metadata": {},
   "outputs": [
    {
     "data": {
      "text/plain": [
       "'vijay'"
      ]
     },
     "execution_count": 88,
     "metadata": {},
     "output_type": "execute_result"
    }
   ],
   "source": [
    "d[\"name\"]"
   ]
  },
  {
   "cell_type": "code",
   "execution_count": 89,
   "id": "3e0951b3-5e47-43a6-a86e-861e2d9fd890",
   "metadata": {},
   "outputs": [
    {
     "data": {
      "text/plain": [
       "'vijay'"
      ]
     },
     "execution_count": 89,
     "metadata": {},
     "output_type": "execute_result"
    }
   ],
   "source": [
    "d.get(\"name\")"
   ]
  },
  {
   "cell_type": "code",
   "execution_count": 90,
   "id": "4cb78fc7-93a1-4f63-b31b-693a23926cc3",
   "metadata": {},
   "outputs": [
    {
     "data": {
      "text/plain": [
       "{'name': 'vijay', 'email': 'qwd@gmail.com', 'course': 'ds'}"
      ]
     },
     "execution_count": 90,
     "metadata": {},
     "output_type": "execute_result"
    }
   ],
   "source": [
    "d"
   ]
  },
  {
   "cell_type": "code",
   "execution_count": 92,
   "id": "8b95c506-827d-49bf-a21c-dba92ad000f4",
   "metadata": {},
   "outputs": [
    {
     "data": {
      "text/plain": [
       "'ds'"
      ]
     },
     "execution_count": 92,
     "metadata": {},
     "output_type": "execute_result"
    }
   ],
   "source": [
    "d['course']"
   ]
  },
  {
   "cell_type": "code",
   "execution_count": 94,
   "id": "cca11b29-1646-4d5e-ae71-1688711e03e5",
   "metadata": {},
   "outputs": [
    {
     "data": {
      "text/plain": [
       "3"
      ]
     },
     "execution_count": 94,
     "metadata": {},
     "output_type": "execute_result"
    }
   ],
   "source": [
    "len(d)"
   ]
  },
  {
   "cell_type": "code",
   "execution_count": 95,
   "id": "c20e453c-cc7f-418e-bf8b-57b5e8a4d7fd",
   "metadata": {},
   "outputs": [
    {
     "data": {
      "text/plain": [
       "{1: ('A', 'B', 'c'), 2: ('A', 'B', 'c'), 3: ('A', 'B', 'c')}"
      ]
     },
     "execution_count": 95,
     "metadata": {},
     "output_type": "execute_result"
    }
   ],
   "source": [
    "#from keys\n",
    "d. fromkeys((1,2,3),(\"A\",\"B\",\"c\"))"
   ]
  },
  {
   "cell_type": "code",
   "execution_count": 97,
   "id": "6a90e494-a489-4c0b-b08b-6978c7c14da2",
   "metadata": {},
   "outputs": [
    {
     "name": "stdout",
     "output_type": "stream",
     "text": [
      "('arun', 80)\n",
      "('ajay', 34)\n",
      "('nidhi', 56)\n"
     ]
    }
   ],
   "source": [
    "#diconary comprehension\n",
    "\n",
    "#zip function>>>>>>>>>>>> if you want name and corresponding marks then you have zip function\n",
    "students=[\"arun\",\"ajay\",\"nidhi\"]\n",
    "marks=[80,34,56]\n",
    "for i in zip(students, marks):\n",
    "    print(i)"
   ]
  },
  {
   "cell_type": "code",
   "execution_count": 98,
   "id": "cc193d8b-155d-4dcf-bfa8-eb74944b0857",
   "metadata": {},
   "outputs": [
    {
     "data": {
      "text/plain": [
       "{'arun': 80, 'ajay': 34, 'nidhi': 56}"
      ]
     },
     "execution_count": 98,
     "metadata": {},
     "output_type": "execute_result"
    }
   ],
   "source": [
    "#store the above information in key value pair that is dictonary\n",
    "students=[\"arun\",\"ajay\",\"nidhi\"]\n",
    "marks=[80,34,56]\n",
    "students_marks={}\n",
    "for student, mark in zip(students, marks):\n",
    "    students_marks[student]= mark\n",
    "students_marks"
   ]
  },
  {
   "cell_type": "code",
   "execution_count": 100,
   "id": "049805a2-e47a-40ed-b3be-a00dba5ebec6",
   "metadata": {},
   "outputs": [
    {
     "data": {
      "text/plain": [
       "{'arun': [80, 34, 56], 'ajay': [80, 34, 56], 'nidhi': [80, 34, 56]}"
      ]
     },
     "execution_count": 100,
     "metadata": {},
     "output_type": "execute_result"
    }
   ],
   "source": [
    "#using diconary comprehension\n",
    "students=[\"arun\",\"ajay\",\"nidhi\"]\n",
    "marks=[80,34,56]\n",
    "c= {student: marks  for student, mark in zip(students, marks)}\n",
    "c"
   ]
  },
  {
   "cell_type": "code",
   "execution_count": 101,
   "id": "4eeccedd-5502-4ddd-b9cf-4e3c5b125e70",
   "metadata": {},
   "outputs": [
    {
     "data": {
      "text/plain": [
       "{1: 'a12', 2: 'a13', 3: 'a14'}"
      ]
     },
     "execution_count": 101,
     "metadata": {},
     "output_type": "execute_result"
    }
   ],
   "source": [
    "#use case\n",
    "user_id=[1,2,3]\n",
    "user_name=[\"a12\",\"a13\",\"a14\"]\n",
    "{u_id: u_name for u_id , u_name in zip(user_id,user_name)}\n",
    "\n",
    "   "
   ]
  },
  {
   "cell_type": "code",
   "execution_count": null,
   "id": "4ecdbd62-6fc9-4a15-9885-d76ae53110ee",
   "metadata": {},
   "outputs": [],
   "source": []
  }
 ],
 "metadata": {
  "kernelspec": {
   "display_name": "Python 3 (ipykernel)",
   "language": "python",
   "name": "python3"
  },
  "language_info": {
   "codemirror_mode": {
    "name": "ipython",
    "version": 3
   },
   "file_extension": ".py",
   "mimetype": "text/x-python",
   "name": "python",
   "nbconvert_exporter": "python",
   "pygments_lexer": "ipython3",
   "version": "3.10.8"
  }
 },
 "nbformat": 4,
 "nbformat_minor": 5
}
