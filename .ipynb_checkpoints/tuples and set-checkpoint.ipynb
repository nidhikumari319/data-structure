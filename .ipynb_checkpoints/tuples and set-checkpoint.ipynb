{
 "cells": [
  {
   "cell_type": "code",
   "execution_count": 1,
   "id": "d56b2094-e6dd-4e0d-9a1e-c7bbeb81dc66",
   "metadata": {},
   "outputs": [],
   "source": [
    "#tuples are ordered collection of elements, heterogeneous\n",
    "#tuples are immutable"
   ]
  },
  {
   "cell_type": "code",
   "execution_count": 2,
   "id": "d917c8a5-94ae-4add-97a6-1af33844c32a",
   "metadata": {},
   "outputs": [
    {
     "data": {
      "text/plain": [
       "()"
      ]
     },
     "execution_count": 2,
     "metadata": {},
     "output_type": "execute_result"
    }
   ],
   "source": [
    "t=()\n",
    "t"
   ]
  },
  {
   "cell_type": "code",
   "execution_count": 3,
   "id": "d7f936a1-5bcc-4330-84ce-a7c2a526ae78",
   "metadata": {},
   "outputs": [
    {
     "data": {
      "text/plain": [
       "tuple"
      ]
     },
     "execution_count": 3,
     "metadata": {},
     "output_type": "execute_result"
    }
   ],
   "source": [
    "type(t)"
   ]
  },
  {
   "cell_type": "code",
   "execution_count": 4,
   "id": "ee4f9cdd-45d7-462e-acf7-89765437ae30",
   "metadata": {},
   "outputs": [],
   "source": [
    "t=(\"pwskills\",\"nidhi\",\"counter\",\"data analytics\")"
   ]
  },
  {
   "cell_type": "code",
   "execution_count": 5,
   "id": "994382a1-3cc8-4447-bae4-02ebe0e5e273",
   "metadata": {},
   "outputs": [
    {
     "data": {
      "text/plain": [
       "('pwskills', 'nidhi', 'counter', 'data analytics')"
      ]
     },
     "execution_count": 5,
     "metadata": {},
     "output_type": "execute_result"
    }
   ],
   "source": [
    "t"
   ]
  },
  {
   "cell_type": "code",
   "execution_count": 6,
   "id": "0f2be78a-ebf8-46ae-bd80-c2ffc49d130e",
   "metadata": {},
   "outputs": [
    {
     "data": {
      "text/plain": [
       "tuple"
      ]
     },
     "execution_count": 6,
     "metadata": {},
     "output_type": "execute_result"
    }
   ],
   "source": [
    "type(t)"
   ]
  },
  {
   "cell_type": "code",
   "execution_count": 7,
   "id": "ca7b708d-ac62-413d-812a-f82710f36bb0",
   "metadata": {},
   "outputs": [
    {
     "data": {
      "text/plain": [
       "'pwskills'"
      ]
     },
     "execution_count": 7,
     "metadata": {},
     "output_type": "execute_result"
    }
   ],
   "source": [
    "t[0]"
   ]
  },
  {
   "cell_type": "code",
   "execution_count": 8,
   "id": "b0e1ab52-b082-4326-aee0-d164bc8dca7f",
   "metadata": {},
   "outputs": [
    {
     "data": {
      "text/plain": [
       "'counter'"
      ]
     },
     "execution_count": 8,
     "metadata": {},
     "output_type": "execute_result"
    }
   ],
   "source": [
    "t[-2]"
   ]
  },
  {
   "cell_type": "code",
   "execution_count": 9,
   "id": "56eafefb-40e2-48f8-8c81-c2f9b56beb88",
   "metadata": {},
   "outputs": [
    {
     "ename": "TypeError",
     "evalue": "'tuple' object does not support item assignment",
     "output_type": "error",
     "traceback": [
      "\u001b[0;31m---------------------------------------------------------------------------\u001b[0m",
      "\u001b[0;31mTypeError\u001b[0m                                 Traceback (most recent call last)",
      "Cell \u001b[0;32mIn[9], line 1\u001b[0m\n\u001b[0;32m----> 1\u001b[0m \u001b[43mt\u001b[49m\u001b[43m[\u001b[49m\u001b[38;5;241;43m0\u001b[39;49m\u001b[43m]\u001b[49m\u001b[38;5;241m=\u001b[39m\u001b[38;5;241m23\u001b[39m\n",
      "\u001b[0;31mTypeError\u001b[0m: 'tuple' object does not support item assignment"
     ]
    }
   ],
   "source": [
    "t[0]=23"
   ]
  },
  {
   "cell_type": "code",
   "execution_count": 10,
   "id": "dc209803-5b73-448e-bcce-d4e271ee6edd",
   "metadata": {},
   "outputs": [
    {
     "ename": "TypeError",
     "evalue": "'tuple' object does not support item assignment",
     "output_type": "error",
     "traceback": [
      "\u001b[0;31m---------------------------------------------------------------------------\u001b[0m",
      "\u001b[0;31mTypeError\u001b[0m                                 Traceback (most recent call last)",
      "Cell \u001b[0;32mIn[10], line 2\u001b[0m\n\u001b[1;32m      1\u001b[0m empid\u001b[38;5;241m=\u001b[39m(\u001b[38;5;241m1\u001b[39m,\u001b[38;5;241m2\u001b[39m,\u001b[38;5;241m3\u001b[39m,\u001b[38;5;241m4\u001b[39m,\u001b[38;5;241m5\u001b[39m)\n\u001b[0;32m----> 2\u001b[0m \u001b[43mempid\u001b[49m\u001b[43m[\u001b[49m\u001b[38;5;241;43m0\u001b[39;49m\u001b[43m]\u001b[49m\u001b[38;5;241m=\u001b[39m \u001b[38;5;241m34\u001b[39m\n",
      "\u001b[0;31mTypeError\u001b[0m: 'tuple' object does not support item assignment"
     ]
    }
   ],
   "source": [
    "#uses>>>>use tuple as a data structure where you dont want to modify data\n",
    "empid=(1,2,3,4,5)\n",
    "empid[0]= 34"
   ]
  },
  {
   "cell_type": "code",
   "execution_count": 11,
   "id": "34efb6ea-f377-4b61-a53c-34f4a0e48ded",
   "metadata": {},
   "outputs": [
    {
     "data": {
      "text/plain": [
       "5"
      ]
     },
     "execution_count": 11,
     "metadata": {},
     "output_type": "execute_result"
    }
   ],
   "source": [
    "t=(\"pwskills\",1,1,1,1,2,3,4,5,1,4,\"pwskills\",2.3)\n",
    "t.count(1)"
   ]
  },
  {
   "cell_type": "code",
   "execution_count": 12,
   "id": "372e3b40-d3f7-472a-8707-ce99e24223e6",
   "metadata": {},
   "outputs": [
    {
     "data": {
      "text/plain": [
       "2"
      ]
     },
     "execution_count": 12,
     "metadata": {},
     "output_type": "execute_result"
    }
   ],
   "source": [
    "t.count(\"pwskills\")"
   ]
  },
  {
   "cell_type": "code",
   "execution_count": 13,
   "id": "a906923d-14da-45ef-b761-609d494cf2e3",
   "metadata": {},
   "outputs": [
    {
     "data": {
      "text/plain": [
       "0"
      ]
     },
     "execution_count": 13,
     "metadata": {},
     "output_type": "execute_result"
    }
   ],
   "source": [
    "t.index(\"pwskills\")"
   ]
  },
  {
   "cell_type": "code",
   "execution_count": 14,
   "id": "9b3aaa3a-11a4-48cb-9e6c-37a96f42c7ac",
   "metadata": {},
   "outputs": [
    {
     "name": "stdout",
     "output_type": "stream",
     "text": [
      "('pwskills', 1, 1, 1, 1, 2, 3, 4, 5, 1, 4, 'pwskills', 2.3, 'pwskills', 1, 1, 1, 1, 2, 3, 4, 5, 1, 4, 'pwskills', 2.3)\n"
     ]
    }
   ],
   "source": [
    "print(t*2)"
   ]
  },
  {
   "cell_type": "code",
   "execution_count": 15,
   "id": "699f083e-50bf-411c-ad90-38377a9fb9ab",
   "metadata": {},
   "outputs": [
    {
     "data": {
      "text/plain": [
       "('pwskills', 1, 1, 1)"
      ]
     },
     "execution_count": 15,
     "metadata": {},
     "output_type": "execute_result"
    }
   ],
   "source": [
    "t[0:4]"
   ]
  },
  {
   "cell_type": "code",
   "execution_count": 16,
   "id": "0c94c69a-e9a8-46e5-b708-51f951f79d52",
   "metadata": {},
   "outputs": [
    {
     "data": {
      "text/plain": [
       "(2.3, 'pwskills', 4, 1, 5, 4, 3, 2, 1, 1, 1, 1, 'pwskills')"
      ]
     },
     "execution_count": 16,
     "metadata": {},
     "output_type": "execute_result"
    }
   ],
   "source": [
    "t[::-1]"
   ]
  },
  {
   "cell_type": "code",
   "execution_count": 17,
   "id": "11f3f743-0c14-44cc-8c90-9ce9407781f1",
   "metadata": {},
   "outputs": [
    {
     "name": "stdout",
     "output_type": "stream",
     "text": [
      "pwskills <class 'str'>\n",
      "1 <class 'int'>\n",
      "1 <class 'int'>\n",
      "1 <class 'int'>\n",
      "1 <class 'int'>\n",
      "2 <class 'int'>\n",
      "3 <class 'int'>\n",
      "4 <class 'int'>\n",
      "5 <class 'int'>\n",
      "1 <class 'int'>\n",
      "4 <class 'int'>\n",
      "pwskills <class 'str'>\n",
      "2.3 <class 'float'>\n"
     ]
    }
   ],
   "source": [
    "for i in t:\n",
    "    print(i, type(i))"
   ]
  },
  {
   "cell_type": "code",
   "execution_count": 18,
   "id": "b9b18c3e-015a-4335-b1a1-6e29f2e49bac",
   "metadata": {},
   "outputs": [
    {
     "data": {
      "text/plain": [
       "97"
      ]
     },
     "execution_count": 18,
     "metadata": {},
     "output_type": "execute_result"
    }
   ],
   "source": [
    "t=(1.3,4,6,7,97,56)\n",
    "max(t)"
   ]
  },
  {
   "cell_type": "code",
   "execution_count": 20,
   "id": "4e094e59-e6a3-40a8-ab3e-1082c3c2748a",
   "metadata": {},
   "outputs": [
    {
     "data": {
      "text/plain": [
       "(('pwskills', 1, 1, 1, 1, 2, 3, 4, 5, 1, 4, 'pwskills', 2.3),\n",
       " (1.3, 4, 6, 7, 97, 56))"
      ]
     },
     "execution_count": 20,
     "metadata": {},
     "output_type": "execute_result"
    }
   ],
   "source": [
    "t1=(\"pwskills\",1,1,1,1,2,3,4,5,1,4,\"pwskills\",2.3)\n",
    "t2=(1.3,4,6,7,97,56)\n",
    "t3=(t1,t2)\n",
    "t3"
   ]
  },
  {
   "cell_type": "code",
   "execution_count": 21,
   "id": "98079a76-6327-4135-bcd1-2b0ae89b7d2a",
   "metadata": {},
   "outputs": [],
   "source": [
    "del t3"
   ]
  },
  {
   "cell_type": "code",
   "execution_count": 22,
   "id": "d46da2f7-82af-4a7d-9912-a7d0305f0bc3",
   "metadata": {},
   "outputs": [
    {
     "ename": "NameError",
     "evalue": "name 't3' is not defined",
     "output_type": "error",
     "traceback": [
      "\u001b[0;31m---------------------------------------------------------------------------\u001b[0m",
      "\u001b[0;31mNameError\u001b[0m                                 Traceback (most recent call last)",
      "Cell \u001b[0;32mIn[22], line 1\u001b[0m\n\u001b[0;32m----> 1\u001b[0m \u001b[43mt3\u001b[49m\n",
      "\u001b[0;31mNameError\u001b[0m: name 't3' is not defined"
     ]
    }
   ],
   "source": [
    "t3"
   ]
  },
  {
   "cell_type": "code",
   "execution_count": 23,
   "id": "b7d3d652-234e-45f1-b239-e340187b07c4",
   "metadata": {},
   "outputs": [
    {
     "data": {
      "text/plain": [
       "('pwskills', 1, 1, 1, 1, 2, 3, 4, 5, 1, 4, 'pwskills', 2.3)"
      ]
     },
     "execution_count": 23,
     "metadata": {},
     "output_type": "execute_result"
    }
   ],
   "source": [
    "t1"
   ]
  },
  {
   "cell_type": "code",
   "execution_count": 24,
   "id": "7ccfea22-b119-4651-b3a7-c7ec547a29b2",
   "metadata": {},
   "outputs": [
    {
     "data": {
      "text/plain": [
       "(1.3, 4, 6, 7, 97, 56)"
      ]
     },
     "execution_count": 24,
     "metadata": {},
     "output_type": "execute_result"
    }
   ],
   "source": [
    "t2"
   ]
  },
  {
   "cell_type": "code",
   "execution_count": 25,
   "id": "b8671b17-8068-42c8-88e1-3b61a86538c1",
   "metadata": {},
   "outputs": [
    {
     "data": {
      "text/plain": [
       "True"
      ]
     },
     "execution_count": 25,
     "metadata": {},
     "output_type": "execute_result"
    }
   ],
   "source": [
    "1 in t1"
   ]
  },
  {
   "cell_type": "code",
   "execution_count": 26,
   "id": "212d411b-d566-44e1-a1dc-74b18e9100a2",
   "metadata": {},
   "outputs": [
    {
     "data": {
      "text/plain": [
       "13"
      ]
     },
     "execution_count": 26,
     "metadata": {},
     "output_type": "execute_result"
    }
   ],
   "source": [
    "len(t1)"
   ]
  },
  {
   "cell_type": "code",
   "execution_count": 27,
   "id": "fbc31202-e871-45ef-8974-29d5ad526caf",
   "metadata": {},
   "outputs": [
    {
     "data": {
      "text/plain": [
       "True"
      ]
     },
     "execution_count": 27,
     "metadata": {},
     "output_type": "execute_result"
    }
   ],
   "source": [
    "\"pwskills\" in t1"
   ]
  },
  {
   "cell_type": "code",
   "execution_count": 28,
   "id": "ec67ca26-3910-4db3-9ce2-c9e9c251063b",
   "metadata": {},
   "outputs": [
    {
     "data": {
      "text/plain": [
       "('pwskills',\n",
       " 1,\n",
       " 1,\n",
       " 1,\n",
       " 1,\n",
       " 2,\n",
       " 3,\n",
       " 4,\n",
       " 5,\n",
       " 1,\n",
       " 4,\n",
       " 'pwskills',\n",
       " 2.3,\n",
       " 1.3,\n",
       " 4,\n",
       " 6,\n",
       " 7,\n",
       " 97,\n",
       " 56)"
      ]
     },
     "execution_count": 28,
     "metadata": {},
     "output_type": "execute_result"
    }
   ],
   "source": [
    "#combining two tuple\n",
    "t1+t2"
   ]
  },
  {
   "cell_type": "code",
   "execution_count": 29,
   "id": "f54ff277-8b98-4b2b-950f-1c2dcfd932ae",
   "metadata": {},
   "outputs": [
    {
     "data": {
      "text/plain": [
       "('pwskills',\n",
       " 1,\n",
       " 1,\n",
       " 1,\n",
       " 1,\n",
       " 2,\n",
       " 3,\n",
       " 4,\n",
       " 5,\n",
       " 1,\n",
       " 4,\n",
       " 'pwskills',\n",
       " 2.3,\n",
       " 'pwskills',\n",
       " 1,\n",
       " 1,\n",
       " 1,\n",
       " 1,\n",
       " 2,\n",
       " 3,\n",
       " 4,\n",
       " 5,\n",
       " 1,\n",
       " 4,\n",
       " 'pwskills',\n",
       " 2.3)"
      ]
     },
     "execution_count": 29,
     "metadata": {},
     "output_type": "execute_result"
    }
   ],
   "source": [
    "t1*2"
   ]
  },
  {
   "cell_type": "code",
   "execution_count": 30,
   "id": "5a5466e7-9505-4b99-8d6b-122bf7194219",
   "metadata": {},
   "outputs": [],
   "source": [
    "#################\n",
    "#sets>>> sets are unordered colection and unique collection of element\n",
    "#it doesn't allow duplication elements\n",
    "#unordered>indexing will not work"
   ]
  },
  {
   "cell_type": "code",
   "execution_count": 31,
   "id": "4b7e533e-5230-4308-a3ed-44dfafa54b83",
   "metadata": {},
   "outputs": [
    {
     "data": {
      "text/plain": [
       "dict"
      ]
     },
     "execution_count": 31,
     "metadata": {},
     "output_type": "execute_result"
    }
   ],
   "source": [
    "s={}\n",
    "type(s)"
   ]
  },
  {
   "cell_type": "code",
   "execution_count": 32,
   "id": "963f3993-7830-4c3c-8604-6d215679a800",
   "metadata": {},
   "outputs": [
    {
     "data": {
      "text/plain": [
       "set"
      ]
     },
     "execution_count": 32,
     "metadata": {},
     "output_type": "execute_result"
    }
   ],
   "source": [
    "s={1,3,5}\n",
    "type(s)"
   ]
  },
  {
   "cell_type": "code",
   "execution_count": 33,
   "id": "c1426f27-622d-4603-860a-7078dc4a6186",
   "metadata": {},
   "outputs": [
    {
     "data": {
      "text/plain": [
       "set"
      ]
     },
     "execution_count": 33,
     "metadata": {},
     "output_type": "execute_result"
    }
   ],
   "source": [
    "s={1}\n",
    "type(s)"
   ]
  },
  {
   "cell_type": "code",
   "execution_count": 34,
   "id": "8fc5aef0-558b-4acf-ba29-d7b14dc99713",
   "metadata": {},
   "outputs": [
    {
     "data": {
      "text/plain": [
       "{1, 2, 3, 4, 'Ajay', 'ajay'}"
      ]
     },
     "execution_count": 34,
     "metadata": {},
     "output_type": "execute_result"
    }
   ],
   "source": [
    "s={\"ajay\",  1, 2 ,3  ,4, \"Ajay\",\"ajay\",\"Ajay\", \"ajay\"}\n",
    "s"
   ]
  },
  {
   "cell_type": "code",
   "execution_count": 35,
   "id": "97ab17b8-d93c-4a9f-b6c6-b6c00d8cf545",
   "metadata": {},
   "outputs": [
    {
     "data": {
      "text/plain": [
       "[1, 2, 3, 4, 'brinjal', 'brinjal', 'apple', 'apple']"
      ]
     },
     "execution_count": 35,
     "metadata": {},
     "output_type": "execute_result"
    }
   ],
   "source": [
    "#use case>>>>>>>>>>>>>\n",
    "list1=[1,2,3,4, \"brinjal\",\"brinjal\",\"apple\",\"apple\"]\n",
    "list1"
   ]
  },
  {
   "cell_type": "code",
   "execution_count": 36,
   "id": "b2fbae2d-bb86-4645-a57a-d28b45b91cdc",
   "metadata": {},
   "outputs": [
    {
     "data": {
      "text/plain": [
       "{1, 2, 3, 4, 'apple', 'brinjal'}"
      ]
     },
     "execution_count": 36,
     "metadata": {},
     "output_type": "execute_result"
    }
   ],
   "source": [
    "#if you want to convert this list into set\n",
    "set(list1)"
   ]
  },
  {
   "cell_type": "code",
   "execution_count": 37,
   "id": "cc41bf21-c3e2-40dd-ad05-e693fe95e923",
   "metadata": {},
   "outputs": [
    {
     "data": {
      "text/plain": [
       "[1, 2, 3, 4, 'brinjal', 'brinjal', 'apple', 'apple']"
      ]
     },
     "execution_count": 37,
     "metadata": {},
     "output_type": "execute_result"
    }
   ],
   "source": [
    "#if you gain want to convert into list\n",
    "list(list1)"
   ]
  },
  {
   "cell_type": "code",
   "execution_count": 38,
   "id": "a1098ff2-25be-4ade-9fbb-d7ae20b264a1",
   "metadata": {},
   "outputs": [
    {
     "ename": "TypeError",
     "evalue": "'set' object is not subscriptable",
     "output_type": "error",
     "traceback": [
      "\u001b[0;31m---------------------------------------------------------------------------\u001b[0m",
      "\u001b[0;31mTypeError\u001b[0m                                 Traceback (most recent call last)",
      "Cell \u001b[0;32mIn[38], line 1\u001b[0m\n\u001b[0;32m----> 1\u001b[0m \u001b[43ms\u001b[49m\u001b[43m[\u001b[49m\u001b[38;5;241;43m0\u001b[39;49m\u001b[43m]\u001b[49m\n",
      "\u001b[0;31mTypeError\u001b[0m: 'set' object is not subscriptable"
     ]
    }
   ],
   "source": [
    "s[0]"
   ]
  },
  {
   "cell_type": "code",
   "execution_count": 39,
   "id": "ed3a89e7-ec58-4ab0-97d8-e557786438dc",
   "metadata": {},
   "outputs": [
    {
     "ename": "TypeError",
     "evalue": "'set' object is not subscriptable",
     "output_type": "error",
     "traceback": [
      "\u001b[0;31m---------------------------------------------------------------------------\u001b[0m",
      "\u001b[0;31mTypeError\u001b[0m                                 Traceback (most recent call last)",
      "Cell \u001b[0;32mIn[39], line 1\u001b[0m\n\u001b[0;32m----> 1\u001b[0m \u001b[43ms\u001b[49m\u001b[43m[\u001b[49m\u001b[38;5;241;43m1\u001b[39;49m\u001b[43m]\u001b[49m\n",
      "\u001b[0;31mTypeError\u001b[0m: 'set' object is not subscriptable"
     ]
    }
   ],
   "source": [
    "s[1]"
   ]
  },
  {
   "cell_type": "code",
   "execution_count": 40,
   "id": "4343c6a0-6be5-431a-9235-a28524e64f46",
   "metadata": {},
   "outputs": [
    {
     "ename": "TypeError",
     "evalue": "'set' object is not subscriptable",
     "output_type": "error",
     "traceback": [
      "\u001b[0;31m---------------------------------------------------------------------------\u001b[0m",
      "\u001b[0;31mTypeError\u001b[0m                                 Traceback (most recent call last)",
      "Cell \u001b[0;32mIn[40], line 2\u001b[0m\n\u001b[1;32m      1\u001b[0m s\u001b[38;5;241m=\u001b[39m{\u001b[38;5;124m\"\u001b[39m\u001b[38;5;124majay\u001b[39m\u001b[38;5;124m\"\u001b[39m,  \u001b[38;5;241m1\u001b[39m, \u001b[38;5;241m2\u001b[39m ,\u001b[38;5;241m3\u001b[39m  ,\u001b[38;5;241m4\u001b[39m, \u001b[38;5;124m\"\u001b[39m\u001b[38;5;124mAjay\u001b[39m\u001b[38;5;124m\"\u001b[39m,\u001b[38;5;124m\"\u001b[39m\u001b[38;5;124majay\u001b[39m\u001b[38;5;124m\"\u001b[39m,\u001b[38;5;124m\"\u001b[39m\u001b[38;5;124mAjay\u001b[39m\u001b[38;5;124m\"\u001b[39m, \u001b[38;5;124m\"\u001b[39m\u001b[38;5;124majay\u001b[39m\u001b[38;5;124m\"\u001b[39m}\n\u001b[0;32m----> 2\u001b[0m \u001b[43ms\u001b[49m\u001b[43m[\u001b[49m\u001b[38;5;241;43m0\u001b[39;49m\u001b[43m]\u001b[49m\n",
      "\u001b[0;31mTypeError\u001b[0m: 'set' object is not subscriptable"
     ]
    }
   ],
   "source": [
    "s={\"ajay\",  1, 2 ,3  ,4, \"Ajay\",\"ajay\",\"Ajay\", \"ajay\"}\n",
    "s[0]"
   ]
  },
  {
   "cell_type": "code",
   "execution_count": 42,
   "id": "49ac8e79-015f-479f-ae76-be2d3964c7c3",
   "metadata": {},
   "outputs": [
    {
     "data": {
      "text/plain": [
       "{1, 2, 3, 4, 'Ajay', 'ajay'}"
      ]
     },
     "execution_count": 42,
     "metadata": {},
     "output_type": "execute_result"
    }
   ],
   "source": [
    "s={\"ajay\",  1, 2 ,3  ,4, \"Ajay\",\"ajay\",\"Ajay\", \"ajay\"}\n",
    "s"
   ]
  },
  {
   "cell_type": "code",
   "execution_count": 43,
   "id": "6ed93144-1d33-4f42-83df-cfe7ec0c35ae",
   "metadata": {},
   "outputs": [
    {
     "ename": "TypeError",
     "evalue": "unhashable type: 'set'",
     "output_type": "error",
     "traceback": [
      "\u001b[0;31m---------------------------------------------------------------------------\u001b[0m",
      "\u001b[0;31mTypeError\u001b[0m                                 Traceback (most recent call last)",
      "Cell \u001b[0;32mIn[43], line 1\u001b[0m\n\u001b[0;32m----> 1\u001b[0m s\u001b[38;5;241m=\u001b[39m{\u001b[38;5;124m\"\u001b[39m\u001b[38;5;124mpwskills\u001b[39m\u001b[38;5;124m\"\u001b[39m,\u001b[38;5;241m1\u001b[39m,\u001b[38;5;241m2\u001b[39m,\u001b[38;5;241m3\u001b[39m,{\u001b[38;5;241m1\u001b[39m,\u001b[38;5;241m4\u001b[39m,\u001b[38;5;241m5\u001b[39m,\u001b[38;5;241m6\u001b[39m}}\n\u001b[1;32m      2\u001b[0m s\n",
      "\u001b[0;31mTypeError\u001b[0m: unhashable type: 'set'"
     ]
    }
   ],
   "source": [
    "s={\"pwskills\",1,2,3,{1,4,5,6}} # bcz set inside set must be immutable"
   ]
  },
  {
   "cell_type": "code",
   "execution_count": 45,
   "id": "152221e0-d75d-4b5a-8275-3d415e708848",
   "metadata": {},
   "outputs": [
    {
     "ename": "TypeError",
     "evalue": "unhashable type: 'list'",
     "output_type": "error",
     "traceback": [
      "\u001b[0;31m---------------------------------------------------------------------------\u001b[0m",
      "\u001b[0;31mTypeError\u001b[0m                                 Traceback (most recent call last)",
      "Cell \u001b[0;32mIn[45], line 1\u001b[0m\n\u001b[0;32m----> 1\u001b[0m s\u001b[38;5;241m=\u001b[39m{\u001b[38;5;124m\"\u001b[39m\u001b[38;5;124mpwskills\u001b[39m\u001b[38;5;124m\"\u001b[39m,\u001b[38;5;241m1\u001b[39m,\u001b[38;5;241m2\u001b[39m,\u001b[38;5;241m3\u001b[39m,[\u001b[38;5;241m1\u001b[39m,\u001b[38;5;241m4\u001b[39m,\u001b[38;5;241m5\u001b[39m,\u001b[38;5;241m6\u001b[39m]} \u001b[38;5;66;03m# bcz set inside set must be immutable\u001b[39;00m\n\u001b[1;32m      2\u001b[0m s\n",
      "\u001b[0;31mTypeError\u001b[0m: unhashable type: 'list'"
     ]
    }
   ],
   "source": [
    " # bcz set inside set must be immutable\n",
    "#unhashable type: means it is mutable - list,set\n",
    "# immutable data structure has some hash value like tuples"
   ]
  },
  {
   "cell_type": "code",
   "execution_count": 47,
   "id": "afa8eb13-9df8-42a3-aa21-8f11b5d746e1",
   "metadata": {},
   "outputs": [
    {
     "data": {
      "text/plain": [
       "{(1, 4, 5, 6), 1, 2, 3, 'pwskills'}"
      ]
     },
     "execution_count": 47,
     "metadata": {},
     "output_type": "execute_result"
    }
   ],
   "source": [
    "# it will not throw an error because tuple is immutable and stable hash type\n",
    "s={\"pwskills\",1,2,3,(1,4,5,6)}\n",
    "s"
   ]
  },
  {
   "cell_type": "code",
   "execution_count": 48,
   "id": "ed947eaf-aa53-4546-837b-fd2890ef1fa2",
   "metadata": {},
   "outputs": [
    {
     "ename": "TypeError",
     "evalue": "'set' object is not subscriptable",
     "output_type": "error",
     "traceback": [
      "\u001b[0;31m---------------------------------------------------------------------------\u001b[0m",
      "\u001b[0;31mTypeError\u001b[0m                                 Traceback (most recent call last)",
      "Cell \u001b[0;32mIn[48], line 1\u001b[0m\n\u001b[0;32m----> 1\u001b[0m \u001b[43ms\u001b[49m\u001b[43m[\u001b[49m\u001b[38;5;241;43m0\u001b[39;49m\u001b[43m:\u001b[49m\u001b[38;5;241;43m2\u001b[39;49m\u001b[43m]\u001b[49m\n",
      "\u001b[0;31mTypeError\u001b[0m: 'set' object is not subscriptable"
     ]
    }
   ],
   "source": [
    "s[0:2]"
   ]
  },
  {
   "cell_type": "code",
   "execution_count": 49,
   "id": "2f681aa2-8efa-4642-a927-01fe17ed4d24",
   "metadata": {},
   "outputs": [
    {
     "name": "stdout",
     "output_type": "stream",
     "text": [
      "1\n",
      "2\n",
      "3\n",
      "(1, 4, 5, 6)\n",
      "pwskills\n"
     ]
    }
   ],
   "source": [
    "for i in s:\n",
    "    print(i)"
   ]
  },
  {
   "cell_type": "code",
   "execution_count": 65,
   "id": "665b8499-43b2-46e9-989b-5888f41d4aa3",
   "metadata": {},
   "outputs": [
    {
     "data": {
      "text/plain": [
       "{(1, 4, 5, 6), 1, 10000, 2, 3, 'pwskills'}"
      ]
     },
     "execution_count": 65,
     "metadata": {},
     "output_type": "execute_result"
    }
   ],
   "source": [
    "# some time set is mutable\n",
    "s={\"pwskills\",1,2,3,(1,4,5,6)}\n",
    "s.add(10000)\n",
    "s"
   ]
  },
  {
   "cell_type": "code",
   "execution_count": 66,
   "id": "28a94034-c496-4c11-b3b6-31a4020c3051",
   "metadata": {},
   "outputs": [
    {
     "data": {
      "text/plain": [
       "{(1, 4, 5, 6), 1, 10000, 2, 3, 6, 'pwskills'}"
      ]
     },
     "execution_count": 66,
     "metadata": {},
     "output_type": "execute_result"
    }
   ],
   "source": [
    "s.add(6) # it will not complusory that it will add to the last of the set\n",
    "s"
   ]
  },
  {
   "cell_type": "code",
   "execution_count": 67,
   "id": "e45be2db-bbb9-4d2f-b5c6-2bbf2e573c03",
   "metadata": {},
   "outputs": [
    {
     "data": {
      "text/plain": [
       "10000"
      ]
     },
     "execution_count": 67,
     "metadata": {},
     "output_type": "execute_result"
    }
   ],
   "source": [
    " # it will not complusory that it will remove the last element\n",
    "# it is ramdom\n",
    "s.pop()"
   ]
  },
  {
   "cell_type": "code",
   "execution_count": 68,
   "id": "5a10738f-e691-4c37-afcc-319a7ba1a12d",
   "metadata": {},
   "outputs": [
    {
     "data": {
      "text/plain": [
       "{(1, 4, 5, 6), 1, 2, 3, 'pwskills'}"
      ]
     },
     "execution_count": 68,
     "metadata": {},
     "output_type": "execute_result"
    }
   ],
   "source": [
    "s.remove(6) # but this removes  a specific element\n",
    "s"
   ]
  },
  {
   "cell_type": "code",
   "execution_count": 69,
   "id": "09fe1fb7-0fd5-485f-9141-28818864db22",
   "metadata": {},
   "outputs": [
    {
     "ename": "TypeError",
     "evalue": "set.pop() takes no arguments (1 given)",
     "output_type": "error",
     "traceback": [
      "\u001b[0;31m---------------------------------------------------------------------------\u001b[0m",
      "\u001b[0;31mTypeError\u001b[0m                                 Traceback (most recent call last)",
      "Cell \u001b[0;32mIn[69], line 1\u001b[0m\n\u001b[0;32m----> 1\u001b[0m \u001b[43ms\u001b[49m\u001b[38;5;241;43m.\u001b[39;49m\u001b[43mpop\u001b[49m\u001b[43m(\u001b[49m\u001b[38;5;241;43m4\u001b[39;49m\u001b[43m)\u001b[49m \u001b[38;5;66;03m# it removes randomly so you can pass parameter randomly\u001b[39;00m\n",
      "\u001b[0;31mTypeError\u001b[0m: set.pop() takes no arguments (1 given)"
     ]
    }
   ],
   "source": [
    "s.pop(4) # it removes randomly so you can pass parameter randomly"
   ]
  },
  {
   "cell_type": "code",
   "execution_count": 77,
   "id": "95808422-834a-426d-aaab-0561e2b935f0",
   "metadata": {},
   "outputs": [
    {
     "ename": "KeyError",
     "evalue": "66",
     "output_type": "error",
     "traceback": [
      "\u001b[0;31m---------------------------------------------------------------------------\u001b[0m",
      "\u001b[0;31mKeyError\u001b[0m                                  Traceback (most recent call last)",
      "Cell \u001b[0;32mIn[77], line 1\u001b[0m\n\u001b[0;32m----> 1\u001b[0m \u001b[43ms\u001b[49m\u001b[38;5;241;43m.\u001b[39;49m\u001b[43mremove\u001b[49m\u001b[43m(\u001b[49m\u001b[38;5;241;43m66\u001b[39;49m\u001b[43m)\u001b[49m\n\u001b[1;32m      2\u001b[0m s\n",
      "\u001b[0;31mKeyError\u001b[0m: 66"
     ]
    }
   ],
   "source": [
    "s.remove(66)\n",
    "s"
   ]
  },
  {
   "cell_type": "code",
   "execution_count": 78,
   "id": "861f1dc7-b7bc-4942-ac32-d4252f70d26c",
   "metadata": {},
   "outputs": [
    {
     "data": {
      "text/plain": [
       "{(1, 4, 5, 6), 1, 2, 3, 'AJAY', 'a', 'ajay', 'j', 'pwskills', 'y'}"
      ]
     },
     "execution_count": 78,
     "metadata": {},
     "output_type": "execute_result"
    }
   ],
   "source": [
    "s.update(\"ajay\")\n",
    "s"
   ]
  },
  {
   "cell_type": "code",
   "execution_count": 79,
   "id": "c0db4241-fcda-4fbf-bc68-9a76a1bda566",
   "metadata": {},
   "outputs": [
    {
     "data": {
      "text/plain": [
       "{(1, 4, 5, 6), 1, 2, 3, 'AJAY', 'a', 'ajay', 'j', 'pwskills', 'y'}"
      ]
     },
     "execution_count": 79,
     "metadata": {},
     "output_type": "execute_result"
    }
   ],
   "source": [
    "s.update([\"AJAY\"])\n",
    "s"
   ]
  },
  {
   "cell_type": "code",
   "execution_count": 80,
   "id": "fe31fab7-cf6c-47d7-8987-b052a73aff3f",
   "metadata": {},
   "outputs": [
    {
     "data": {
      "text/plain": [
       "{(1, 4, 5, 6), 1, 2, 3, 34, 45, 'AJAY', 'a', 'ajay', 'j', 'pwskills', 'y'}"
      ]
     },
     "execution_count": 80,
     "metadata": {},
     "output_type": "execute_result"
    }
   ],
   "source": [
    "s.update([34,45])\n",
    "s"
   ]
  },
  {
   "cell_type": "code",
   "execution_count": 82,
   "id": "d062946f-aac4-43d6-8c00-a5e765ff67cc",
   "metadata": {},
   "outputs": [
    {
     "data": {
      "text/plain": [
       "{(12, 3), 12, 3.4, True, 'pwskills'}"
      ]
     },
     "execution_count": 82,
     "metadata": {},
     "output_type": "execute_result"
    }
   ],
   "source": [
    "s={12,3.4,\"pwskills\",(12,3),True,}\n",
    "s"
   ]
  },
  {
   "cell_type": "code",
   "execution_count": 84,
   "id": "f49d452e-9d54-412e-b387-41312ba1a10b",
   "metadata": {},
   "outputs": [
    {
     "data": {
      "text/plain": [
       "set()"
      ]
     },
     "execution_count": 84,
     "metadata": {},
     "output_type": "execute_result"
    }
   ],
   "source": [
    "s.clear()\n",
    "s"
   ]
  },
  {
   "cell_type": "code",
   "execution_count": 87,
   "id": "37a2424b-aa2f-42c6-8c07-6567b76c02c1",
   "metadata": {},
   "outputs": [
    {
     "ename": "NameError",
     "evalue": "name 's' is not defined",
     "output_type": "error",
     "traceback": [
      "\u001b[0;31m---------------------------------------------------------------------------\u001b[0m",
      "\u001b[0;31mNameError\u001b[0m                                 Traceback (most recent call last)",
      "Cell \u001b[0;32mIn[87], line 1\u001b[0m\n\u001b[0;32m----> 1\u001b[0m \u001b[38;5;28;01mdel\u001b[39;00m s\n\u001b[1;32m      2\u001b[0m s\n",
      "\u001b[0;31mNameError\u001b[0m: name 's' is not defined"
     ]
    }
   ],
   "source": [
    "del s\n",
    "s"
   ]
  },
  {
   "cell_type": "code",
   "execution_count": 89,
   "id": "858e51ad-38b0-4c73-9729-b139344c5c34",
   "metadata": {},
   "outputs": [
    {
     "data": {
      "text/plain": [
       "{2, 2.3, 3, 4, 5, 'pwskills'}"
      ]
     },
     "execution_count": 89,
     "metadata": {},
     "output_type": "execute_result"
    }
   ],
   "source": [
    "s={\"pwskills\",1,1,1,1,2,3,4,5,1,4,\"pwskills\",2.3}\n",
    "s.remove(1)\n",
    "s"
   ]
  },
  {
   "cell_type": "code",
   "execution_count": 90,
   "id": "1e28d1fb-2155-4587-bd8b-a68894bc3018",
   "metadata": {},
   "outputs": [
    {
     "ename": "KeyError",
     "evalue": "231",
     "output_type": "error",
     "traceback": [
      "\u001b[0;31m---------------------------------------------------------------------------\u001b[0m",
      "\u001b[0;31mKeyError\u001b[0m                                  Traceback (most recent call last)",
      "Cell \u001b[0;32mIn[90], line 1\u001b[0m\n\u001b[0;32m----> 1\u001b[0m \u001b[43ms\u001b[49m\u001b[38;5;241;43m.\u001b[39;49m\u001b[43mremove\u001b[49m\u001b[43m(\u001b[49m\u001b[38;5;241;43m231\u001b[39;49m\u001b[43m)\u001b[49m\n\u001b[1;32m      2\u001b[0m s\n",
      "\u001b[0;31mKeyError\u001b[0m: 231"
     ]
    }
   ],
   "source": [
    "s.remove(231)\n",
    "s"
   ]
  },
  {
   "cell_type": "code",
   "execution_count": 91,
   "id": "41e9d508-1725-48bd-ae5f-17afbcb4a4a9",
   "metadata": {},
   "outputs": [
    {
     "data": {
      "text/plain": [
       "{2, 2.3, 3, 4, 5, 'pwskills'}"
      ]
     },
     "execution_count": 91,
     "metadata": {},
     "output_type": "execute_result"
    }
   ],
   "source": [
    "s.discard(1)\n",
    "s"
   ]
  },
  {
   "cell_type": "code",
   "execution_count": 92,
   "id": "1bb80567-9ec2-4f82-a996-f0474de5a886",
   "metadata": {},
   "outputs": [
    {
     "data": {
      "text/plain": [
       "{2, 2.3, 3, 4, 5, 'pwskills'}"
      ]
     },
     "execution_count": 92,
     "metadata": {},
     "output_type": "execute_result"
    }
   ],
   "source": [
    "s.discard(145)# error will not be thrown error if the element is not present\n",
    "s"
   ]
  },
  {
   "cell_type": "code",
   "execution_count": 96,
   "id": "f592ea8f-871d-4db1-ae2d-af1e871699b5",
   "metadata": {},
   "outputs": [],
   "source": [
    "# set operation\n",
    "#union:     combines elements from two sets excluding duplicates\n",
    "#intersection: only common elements btw sets\n",
    "#difference: return the elements that is present in  first sets and not in second \n",
    "#symmetric difference:  returns element that are present in either of sets but not in both\n",
    "s1={\"ram\",\"shyam\",\"coding\"}\n",
    "s2={\"coding\",\"photographic\",\"traveling\"}"
   ]
  },
  {
   "cell_type": "code",
   "execution_count": 97,
   "id": "a61778af-cb41-459c-b864-58abd15a3be1",
   "metadata": {},
   "outputs": [
    {
     "data": {
      "text/plain": [
       "{'coding', 'photographic', 'ram', 'shyam', 'traveling'}"
      ]
     },
     "execution_count": 97,
     "metadata": {},
     "output_type": "execute_result"
    }
   ],
   "source": [
    "# union>>>combine all the elments(aub)\n",
    "s1|s2"
   ]
  },
  {
   "cell_type": "code",
   "execution_count": 100,
   "id": "4bb1dc44-ea3b-453e-b218-c4ae11ba3945",
   "metadata": {},
   "outputs": [
    {
     "data": {
      "text/plain": [
       "{'coding'}"
      ]
     },
     "execution_count": 100,
     "metadata": {},
     "output_type": "execute_result"
    }
   ],
   "source": [
    "# intersection>> common element (a opposite u b)\n",
    "s1&s2"
   ]
  },
  {
   "cell_type": "code",
   "execution_count": 101,
   "id": "99905974-83b9-42a5-8d61-7350204ea352",
   "metadata": {},
   "outputs": [
    {
     "data": {
      "text/plain": [
       "{'ram', 'shyam'}"
      ]
     },
     "execution_count": 101,
     "metadata": {},
     "output_type": "execute_result"
    }
   ],
   "source": [
    "# differences\n",
    "s1-s2"
   ]
  },
  {
   "cell_type": "code",
   "execution_count": 102,
   "id": "853dd50e-86e6-49c8-b59d-a33cab0a1277",
   "metadata": {},
   "outputs": [
    {
     "data": {
      "text/plain": [
       "{'photographic', 'ram', 'shyam', 'traveling'}"
      ]
     },
     "execution_count": 102,
     "metadata": {},
     "output_type": "execute_result"
    }
   ],
   "source": [
    "# symmetric difference\n",
    "s1^s2"
   ]
  },
  {
   "cell_type": "code",
   "execution_count": 103,
   "id": "a32591ef-883e-4ac4-a2e8-51b2bf1954c5",
   "metadata": {},
   "outputs": [
    {
     "data": {
      "text/plain": [
       "{1, 2, 3, 100}"
      ]
     },
     "execution_count": 103,
     "metadata": {},
     "output_type": "execute_result"
    }
   ],
   "source": [
    "#frozen sets>>> immutable version of set cannot be added or removed any new element\n",
    "s={1,2,3}\n",
    "s.add(100)\n",
    "s"
   ]
  },
  {
   "cell_type": "code",
   "execution_count": 104,
   "id": "9dec6b40-8bb5-4576-b23c-3b8f49ba0805",
   "metadata": {},
   "outputs": [
    {
     "data": {
      "text/plain": [
       "frozenset({1, 2, 3, 4, 6, 45, 67})"
      ]
     },
     "execution_count": 104,
     "metadata": {},
     "output_type": "execute_result"
    }
   ],
   "source": [
    "fs=frozenset([1,2,3,4,67,45,6,1,1,2,3])\n",
    "fs"
   ]
  },
  {
   "cell_type": "code",
   "execution_count": 105,
   "id": "97504743-c5c2-488d-9800-156ea9d9578c",
   "metadata": {},
   "outputs": [
    {
     "data": {
      "text/plain": [
       "frozenset"
      ]
     },
     "execution_count": 105,
     "metadata": {},
     "output_type": "execute_result"
    }
   ],
   "source": [
    "type(fs)"
   ]
  },
  {
   "cell_type": "code",
   "execution_count": 106,
   "id": "3558c63b-7333-4e74-9ab3-42d9be8f07fc",
   "metadata": {},
   "outputs": [
    {
     "ename": "AttributeError",
     "evalue": "'frozenset' object has no attribute 'add'",
     "output_type": "error",
     "traceback": [
      "\u001b[0;31m---------------------------------------------------------------------------\u001b[0m",
      "\u001b[0;31mAttributeError\u001b[0m                            Traceback (most recent call last)",
      "Cell \u001b[0;32mIn[106], line 1\u001b[0m\n\u001b[0;32m----> 1\u001b[0m \u001b[43mfs\u001b[49m\u001b[38;5;241;43m.\u001b[39;49m\u001b[43madd\u001b[49m(\u001b[38;5;241m4\u001b[39m)\n",
      "\u001b[0;31mAttributeError\u001b[0m: 'frozenset' object has no attribute 'add'"
     ]
    }
   ],
   "source": [
    "fs.add(4)"
   ]
  },
  {
   "cell_type": "code",
   "execution_count": 107,
   "id": "ba00632d-a188-45c2-8223-28fa661e2119",
   "metadata": {},
   "outputs": [
    {
     "ename": "AttributeError",
     "evalue": "'frozenset' object has no attribute 'pop'",
     "output_type": "error",
     "traceback": [
      "\u001b[0;31m---------------------------------------------------------------------------\u001b[0m",
      "\u001b[0;31mAttributeError\u001b[0m                            Traceback (most recent call last)",
      "Cell \u001b[0;32mIn[107], line 1\u001b[0m\n\u001b[0;32m----> 1\u001b[0m \u001b[43mfs\u001b[49m\u001b[38;5;241;43m.\u001b[39;49m\u001b[43mpop\u001b[49m()\n",
      "\u001b[0;31mAttributeError\u001b[0m: 'frozenset' object has no attribute 'pop'"
     ]
    }
   ],
   "source": [
    "fs.pop()"
   ]
  },
  {
   "cell_type": "code",
   "execution_count": 108,
   "id": "f4aaeef9-c0e0-406c-9b84-7214759e3395",
   "metadata": {},
   "outputs": [
    {
     "ename": "AttributeError",
     "evalue": "'frozenset' object has no attribute 'add'",
     "output_type": "error",
     "traceback": [
      "\u001b[0;31m---------------------------------------------------------------------------\u001b[0m",
      "\u001b[0;31mAttributeError\u001b[0m                            Traceback (most recent call last)",
      "Cell \u001b[0;32mIn[108], line 1\u001b[0m\n\u001b[0;32m----> 1\u001b[0m \u001b[43mfs\u001b[49m\u001b[38;5;241;43m.\u001b[39;49m\u001b[43madd\u001b[49m(\u001b[38;5;241m4\u001b[39m,\u001b[38;5;241m5\u001b[39m)\n",
      "\u001b[0;31mAttributeError\u001b[0m: 'frozenset' object has no attribute 'add'"
     ]
    }
   ],
   "source": [
    "fs.add(4,5)"
   ]
  },
  {
   "cell_type": "code",
   "execution_count": null,
   "id": "5c193881-50e3-4d2e-99b9-2128ee0f7aa2",
   "metadata": {},
   "outputs": [],
   "source": [
    "# to fix the unique or multiple value you can use frozebset"
   ]
  }
 ],
 "metadata": {
  "kernelspec": {
   "display_name": "Python 3 (ipykernel)",
   "language": "python",
   "name": "python3"
  },
  "language_info": {
   "codemirror_mode": {
    "name": "ipython",
    "version": 3
   },
   "file_extension": ".py",
   "mimetype": "text/x-python",
   "name": "python",
   "nbconvert_exporter": "python",
   "pygments_lexer": "ipython3",
   "version": "3.10.8"
  }
 },
 "nbformat": 4,
 "nbformat_minor": 5
}
