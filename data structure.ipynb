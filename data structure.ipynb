{
 "cells": [
  {
   "cell_type": "markdown",
   "id": "ad5156db-ad66-4f79-94d7-94744b4b305d",
   "metadata": {},
   "source": [
    "# interview question\n",
    "\n",
    "what is data structure?\n",
    "\n",
    "ans:\n",
    "it is way of  organizing and storing collections of data so that it can be accessed and manipluated effeciently\n",
    "\n",
    "# why do we accessed and manipluated it ?\n",
    "\n",
    "ans: bcz data we be no use if you  do not  access and manipluted  it\n",
    "\n",
    "# data structure are\n",
    "\n",
    "1.string\n",
    "\n",
    "2.list\n",
    "\n",
    "3.tuples\n",
    "\n",
    "4.dictionaries\n",
    "\n",
    "5.sets\n",
    "\n",
    "6.array\n"
   ]
  },
  {
   "cell_type": "code",
   "execution_count": 1,
   "id": "e690c252-2363-425f-820d-0ff3214c7a9f",
   "metadata": {},
   "outputs": [],
   "source": [
    "#1.list>>> it can store heterogenous data>>> heterogenous means :int,str, float..etc\n",
    "#list is a ordered collection of element that can be any data type\n",
    "#list is a immutable \n",
    "#use of list>>> it can store any data and it is immutable"
   ]
  },
  {
   "cell_type": "code",
   "execution_count": 2,
   "id": "a3132c5c-b8ce-4310-aea8-761576d82184",
   "metadata": {},
   "outputs": [],
   "source": [
    "l=[1,2,45,6.7]"
   ]
  },
  {
   "cell_type": "code",
   "execution_count": 3,
   "id": "546f3dd8-274d-4722-921a-8890f8111c9e",
   "metadata": {},
   "outputs": [
    {
     "data": {
      "text/plain": [
       "list"
      ]
     },
     "execution_count": 3,
     "metadata": {},
     "output_type": "execute_result"
    }
   ],
   "source": [
    "type(l)"
   ]
  },
  {
   "cell_type": "code",
   "execution_count": 4,
   "id": "222871cc-401b-434c-b767-97ecec7f4cc4",
   "metadata": {},
   "outputs": [
    {
     "data": {
      "text/plain": [
       "45"
      ]
     },
     "execution_count": 4,
     "metadata": {},
     "output_type": "execute_result"
    }
   ],
   "source": [
    "l[2]"
   ]
  },
  {
   "cell_type": "code",
   "execution_count": 5,
   "id": "c26c2369-ac2e-4720-9cc5-42ef46776b77",
   "metadata": {},
   "outputs": [
    {
     "ename": "IndexError",
     "evalue": "list index out of range",
     "output_type": "error",
     "traceback": [
      "\u001b[0;31m---------------------------------------------------------------------------\u001b[0m",
      "\u001b[0;31mIndexError\u001b[0m                                Traceback (most recent call last)",
      "Cell \u001b[0;32mIn[5], line 1\u001b[0m\n\u001b[0;32m----> 1\u001b[0m \u001b[43ml\u001b[49m\u001b[43m[\u001b[49m\u001b[38;5;241;43m4\u001b[39;49m\u001b[43m]\u001b[49m\n",
      "\u001b[0;31mIndexError\u001b[0m: list index out of range"
     ]
    }
   ],
   "source": [
    "l[4]"
   ]
  },
  {
   "cell_type": "code",
   "execution_count": 7,
   "id": "3960c2c9-49b1-437d-b765-2d468b0595d8",
   "metadata": {},
   "outputs": [
    {
     "data": {
      "text/plain": [
       "45"
      ]
     },
     "execution_count": 7,
     "metadata": {},
     "output_type": "execute_result"
    }
   ],
   "source": [
    "l[-2]"
   ]
  },
  {
   "cell_type": "code",
   "execution_count": 2,
   "id": "e01a63c3-c647-4c55-987b-ed34a70c90b7",
   "metadata": {},
   "outputs": [],
   "source": [
    "a=[\"ram\",12,3.4,0,1,True,False,3+4j] # list can store any data type>>>heterogeneous data structure"
   ]
  },
  {
   "cell_type": "code",
   "execution_count": 3,
   "id": "858adf50-b9f4-44c3-b789-a11f7d7c8f36",
   "metadata": {},
   "outputs": [
    {
     "data": {
      "text/plain": [
       "['ram', 12, 3.4, 0, 1, True, False, (3+4j)]"
      ]
     },
     "execution_count": 3,
     "metadata": {},
     "output_type": "execute_result"
    }
   ],
   "source": [
    "a"
   ]
  },
  {
   "cell_type": "code",
   "execution_count": 4,
   "id": "c8d21940-2be7-4d90-965c-a6eb57e1a9ed",
   "metadata": {},
   "outputs": [
    {
     "data": {
      "text/plain": [
       "list"
      ]
     },
     "execution_count": 4,
     "metadata": {},
     "output_type": "execute_result"
    }
   ],
   "source": [
    "type(a)"
   ]
  },
  {
   "cell_type": "code",
   "execution_count": 5,
   "id": "e0877fdc-b052-496f-a3c8-8f44c4657567",
   "metadata": {},
   "outputs": [],
   "source": [
    "#adding element at the end in  the list\n",
    "# a.append(\"shyam\")"
   ]
  },
  {
   "cell_type": "code",
   "execution_count": 6,
   "id": "35ab0e23-b82e-4a2f-8707-be16f122913c",
   "metadata": {},
   "outputs": [],
   "source": [
    "# removing element from the list\n",
    "# a.remove(\"ram\")"
   ]
  },
  {
   "cell_type": "code",
   "execution_count": 18,
   "id": "b0154530-7998-4a28-8416-5f96acc44f75",
   "metadata": {},
   "outputs": [],
   "source": [
    "a=[\"ram\",[12,3.4],[0,1,True],[False],3+4j]"
   ]
  },
  {
   "cell_type": "code",
   "execution_count": 19,
   "id": "42130057-eccf-4b26-909f-5b81ae4ee0c5",
   "metadata": {},
   "outputs": [
    {
     "data": {
      "text/plain": [
       "'ram'"
      ]
     },
     "execution_count": 19,
     "metadata": {},
     "output_type": "execute_result"
    }
   ],
   "source": [
    "a[0]"
   ]
  },
  {
   "cell_type": "code",
   "execution_count": 20,
   "id": "00691022-8d79-4221-805c-93ab064dad1f",
   "metadata": {},
   "outputs": [
    {
     "data": {
      "text/plain": [
       "3.4"
      ]
     },
     "execution_count": 20,
     "metadata": {},
     "output_type": "execute_result"
    }
   ],
   "source": [
    "a[1][1]"
   ]
  },
  {
   "cell_type": "code",
   "execution_count": 21,
   "id": "7240c3d2-fb7b-4ece-b0c1-8ad224047e4f",
   "metadata": {},
   "outputs": [
    {
     "data": {
      "text/plain": [
       "True"
      ]
     },
     "execution_count": 21,
     "metadata": {},
     "output_type": "execute_result"
    }
   ],
   "source": [
    "a[2][2]"
   ]
  },
  {
   "cell_type": "code",
   "execution_count": 22,
   "id": "d57d908d-5114-4db9-8c1e-bd2e4878bb16",
   "metadata": {},
   "outputs": [
    {
     "data": {
      "text/plain": [
       "False"
      ]
     },
     "execution_count": 22,
     "metadata": {},
     "output_type": "execute_result"
    }
   ],
   "source": [
    "a[3][0]"
   ]
  },
  {
   "cell_type": "code",
   "execution_count": 23,
   "id": "59b04d40-72f4-4992-995a-36a6ee97de85",
   "metadata": {},
   "outputs": [
    {
     "data": {
      "text/plain": [
       "(3+4j)"
      ]
     },
     "execution_count": 23,
     "metadata": {},
     "output_type": "execute_result"
    }
   ],
   "source": [
    "a[4]"
   ]
  },
  {
   "cell_type": "code",
   "execution_count": 24,
   "id": "b9a5076e-3726-4a24-9f31-5df2c5f90917",
   "metadata": {},
   "outputs": [],
   "source": [
    "shoping_list=[\"t-shirt\", \"top\", \"zeans\",\"clock\",\"google\" ]\n",
    "shoping_list[4]=\"shoes\""
   ]
  },
  {
   "cell_type": "code",
   "execution_count": 25,
   "id": "494ea608-30c7-4e3f-9737-cab71f8cec26",
   "metadata": {},
   "outputs": [
    {
     "data": {
      "text/plain": [
       "['t-shirt', 'top', 'zeans', 'clock', 'shoes']"
      ]
     },
     "execution_count": 25,
     "metadata": {},
     "output_type": "execute_result"
    }
   ],
   "source": [
    "shoping_list"
   ]
  },
  {
   "cell_type": "code",
   "execution_count": 27,
   "id": "9ae53d68-d66f-4e7d-98e3-823da901c6c7",
   "metadata": {},
   "outputs": [
    {
     "name": "stdout",
     "output_type": "stream",
     "text": [
      "t-shirt\n",
      "top\n",
      "zeans\n",
      "clock\n",
      "shoes\n"
     ]
    }
   ],
   "source": [
    "# iterating the list\n",
    "for item in shoping_list:\n",
    "    print(item)"
   ]
  },
  {
   "cell_type": "code",
   "execution_count": 28,
   "id": "a9f469d8-97dd-4316-9267-372204b37b12",
   "metadata": {},
   "outputs": [],
   "source": [
    "#tuples are immutable\n",
    "#use case>> you cannot change the data after you will create it and it is immutable\n",
    "point=(2,3,5)"
   ]
  },
  {
   "cell_type": "code",
   "execution_count": 29,
   "id": "e6441ec8-282e-4cd7-8f5d-ccd5d65cc841",
   "metadata": {},
   "outputs": [
    {
     "data": {
      "text/plain": [
       "(2, 3, 5)"
      ]
     },
     "execution_count": 29,
     "metadata": {},
     "output_type": "execute_result"
    }
   ],
   "source": [
    "point"
   ]
  },
  {
   "cell_type": "code",
   "execution_count": 30,
   "id": "2f68bc47-b2f6-4cf1-958c-fa5f48600127",
   "metadata": {},
   "outputs": [
    {
     "data": {
      "text/plain": [
       "tuple"
      ]
     },
     "execution_count": 30,
     "metadata": {},
     "output_type": "execute_result"
    }
   ],
   "source": [
    "type(point)"
   ]
  },
  {
   "cell_type": "code",
   "execution_count": 1,
   "id": "b877368d-7ffe-463c-9c9f-1f3987e14999",
   "metadata": {},
   "outputs": [
    {
     "data": {
      "text/plain": [
       "('ram', 12, 3.4, 0, 1, True, False, (3+4j))"
      ]
     },
     "execution_count": 1,
     "metadata": {},
     "output_type": "execute_result"
    }
   ],
   "source": [
    "t=(\"ram\",12,3.4,0,1,True,False,3+4j)#  tuple can store heterogenous data\n",
    "t"
   ]
  },
  {
   "cell_type": "code",
   "execution_count": 2,
   "id": "73eaf0d3-f1b8-45d9-9f3e-f82216155c9f",
   "metadata": {},
   "outputs": [],
   "source": [
    "employ__name=(\"ajay\",\"vijay\",\"ankita\", \"asish\", \"nikikta\")"
   ]
  },
  {
   "cell_type": "code",
   "execution_count": 3,
   "id": "bff30c6c-7059-4983-9cf9-967a1e0f6d15",
   "metadata": {},
   "outputs": [
    {
     "data": {
      "text/plain": [
       "'nikikta'"
      ]
     },
     "execution_count": 3,
     "metadata": {},
     "output_type": "execute_result"
    }
   ],
   "source": [
    "employ__name[4]"
   ]
  },
  {
   "cell_type": "code",
   "execution_count": 4,
   "id": "3a2c80eb-5978-4efc-a33d-b93c96f14726",
   "metadata": {},
   "outputs": [
    {
     "data": {
      "text/plain": [
       "'vijay'"
      ]
     },
     "execution_count": 4,
     "metadata": {},
     "output_type": "execute_result"
    }
   ],
   "source": [
    "employ__name[1]"
   ]
  },
  {
   "cell_type": "code",
   "execution_count": 5,
   "id": "934b4a2c-87aa-4680-9138-58e7ba690f82",
   "metadata": {},
   "outputs": [
    {
     "data": {
      "text/plain": [
       "'ajay'"
      ]
     },
     "execution_count": 5,
     "metadata": {},
     "output_type": "execute_result"
    }
   ],
   "source": [
    "employ__name[0]"
   ]
  },
  {
   "cell_type": "code",
   "execution_count": 7,
   "id": "bede7e7b-e5f0-42b3-ba0b-435db3634603",
   "metadata": {},
   "outputs": [
    {
     "data": {
      "text/plain": [
       "'ankita'"
      ]
     },
     "execution_count": 7,
     "metadata": {},
     "output_type": "execute_result"
    }
   ],
   "source": [
    "employ__name[2]"
   ]
  },
  {
   "cell_type": "code",
   "execution_count": 8,
   "id": "57b2ae02-84f8-4e46-8b1c-197923deb6c9",
   "metadata": {},
   "outputs": [
    {
     "data": {
      "text/plain": [
       "'asish'"
      ]
     },
     "execution_count": 8,
     "metadata": {},
     "output_type": "execute_result"
    }
   ],
   "source": [
    "employ__name[-2]"
   ]
  },
  {
   "cell_type": "code",
   "execution_count": 9,
   "id": "ca933397-f4b1-47eb-9c62-a4243e6bce57",
   "metadata": {},
   "outputs": [
    {
     "data": {
      "text/plain": [
       "'nikikta'"
      ]
     },
     "execution_count": 9,
     "metadata": {},
     "output_type": "execute_result"
    }
   ],
   "source": [
    "employ__name[-1]"
   ]
  },
  {
   "cell_type": "code",
   "execution_count": 10,
   "id": "6448630e-26fc-4422-8293-bdcea37c8e75",
   "metadata": {},
   "outputs": [
    {
     "ename": "TypeError",
     "evalue": "'tuple' object does not support item assignment",
     "output_type": "error",
     "traceback": [
      "\u001b[0;31m---------------------------------------------------------------------------\u001b[0m",
      "\u001b[0;31mTypeError\u001b[0m                                 Traceback (most recent call last)",
      "Cell \u001b[0;32mIn[10], line 1\u001b[0m\n\u001b[0;32m----> 1\u001b[0m \u001b[43memploy__name\u001b[49m\u001b[43m[\u001b[49m\u001b[38;5;241;43m3\u001b[39;49m\u001b[43m]\u001b[49m\u001b[38;5;241m=\u001b[39m\u001b[38;5;124m\"\u001b[39m\u001b[38;5;124maakarsh\u001b[39m\u001b[38;5;124m\"\u001b[39m\n",
      "\u001b[0;31mTypeError\u001b[0m: 'tuple' object does not support item assignment"
     ]
    }
   ],
   "source": [
    "employ__name[3]=\"aakarsh\" # i allready warn you that tuple do not change it is immutable"
   ]
  },
  {
   "cell_type": "code",
   "execution_count": 13,
   "id": "1d650648-5e65-4669-97e3-ee7a68e82b51",
   "metadata": {},
   "outputs": [],
   "source": [
    "box1=(\"darimilk\", \"munch\")\n",
    "box2=(\"peark\",\"kacha aam \")\n",
    "chochlate_bag=(box1, box2)"
   ]
  },
  {
   "cell_type": "code",
   "execution_count": 14,
   "id": "72f49629-3b00-4bb4-89b3-cf2e48b3888e",
   "metadata": {},
   "outputs": [
    {
     "data": {
      "text/plain": [
       "(('darimilk', 'munch'), ('peark', 'kacha aam '))"
      ]
     },
     "execution_count": 14,
     "metadata": {},
     "output_type": "execute_result"
    }
   ],
   "source": [
    "chochlate_bag"
   ]
  },
  {
   "cell_type": "code",
   "execution_count": 15,
   "id": "6b32d445-095b-4153-9b1b-583808729838",
   "metadata": {},
   "outputs": [
    {
     "data": {
      "text/plain": [
       "tuple"
      ]
     },
     "execution_count": 15,
     "metadata": {},
     "output_type": "execute_result"
    }
   ],
   "source": [
    "type(chochlate_bag)"
   ]
  },
  {
   "cell_type": "code",
   "execution_count": 16,
   "id": "e62073cc-3eae-45ac-8c93-efd6db3b2f69",
   "metadata": {},
   "outputs": [
    {
     "name": "stdout",
     "output_type": "stream",
     "text": [
      "('darimilk', 'munch')\n",
      "('peark', 'kacha aam ')\n"
     ]
    }
   ],
   "source": [
    "for box in chochlate_bag:\n",
    "    print(box)"
   ]
  },
  {
   "cell_type": "code",
   "execution_count": 18,
   "id": "56fecc95-561a-4777-bef0-962c170a6dd8",
   "metadata": {},
   "outputs": [
    {
     "name": "stdout",
     "output_type": "stream",
     "text": [
      "darimilk\n",
      "munch\n",
      "peark\n",
      "kacha aam \n"
     ]
    }
   ],
   "source": [
    "for box in chochlate_bag:\n",
    "    for chochlate in box:\n",
    "        print(chochlate)"
   ]
  },
  {
   "cell_type": "code",
   "execution_count": 20,
   "id": "a5f73516-dd54-4c0e-ba4e-46d51cc14919",
   "metadata": {},
   "outputs": [
    {
     "data": {
      "text/plain": [
       "{'orange', 'red'}"
      ]
     },
     "execution_count": 20,
     "metadata": {},
     "output_type": "execute_result"
    }
   ],
   "source": [
    "#set>> set is a unordered collection of unique element\n",
    "s={\"red\",\"orange\"}\n",
    "s"
   ]
  },
  {
   "cell_type": "code",
   "execution_count": 21,
   "id": "359193d0-9264-4526-95aa-814ada06a2e8",
   "metadata": {},
   "outputs": [
    {
     "data": {
      "text/plain": [
       "set"
      ]
     },
     "execution_count": 21,
     "metadata": {},
     "output_type": "execute_result"
    }
   ],
   "source": [
    "type(s)"
   ]
  },
  {
   "cell_type": "code",
   "execution_count": 22,
   "id": "24009c3f-edb2-4f29-ae27-962cb5031a27",
   "metadata": {},
   "outputs": [
    {
     "data": {
      "text/plain": [
       "{'blue', 'green', 'orange', 'red'}"
      ]
     },
     "execution_count": 22,
     "metadata": {},
     "output_type": "execute_result"
    }
   ],
   "source": [
    "s={\"red\", \"orange\", \"blue\", \"green\",\"red\",\"blue\"}\n",
    "s"
   ]
  },
  {
   "cell_type": "code",
   "execution_count": 23,
   "id": "b1901d67-e530-4bdb-bc54-e1cd0ccdfb30",
   "metadata": {},
   "outputs": [
    {
     "data": {
      "text/plain": [
       "{2, 4, 5, 6, 6.7, 7}"
      ]
     },
     "execution_count": 23,
     "metadata": {},
     "output_type": "execute_result"
    }
   ],
   "source": [
    "s={2,4,5,6,7,6.7}\n",
    "s"
   ]
  },
  {
   "cell_type": "code",
   "execution_count": 24,
   "id": "196c3bc4-2d2e-43d3-86e7-b808ca3fb291",
   "metadata": {},
   "outputs": [
    {
     "data": {
      "text/plain": [
       "{1, 2, 3, 3.4, 4.5, 5, 'a', 'b'}"
      ]
     },
     "execution_count": 24,
     "metadata": {},
     "output_type": "execute_result"
    }
   ],
   "source": [
    "s={\"a\",\"a\",\"b\",1,3,2,1,2,1,1,1,4.5,5,3.4}\n",
    "s"
   ]
  },
  {
   "cell_type": "code",
   "execution_count": 25,
   "id": "23c58263-cbab-4066-926d-fa5b47c2d959",
   "metadata": {},
   "outputs": [
    {
     "ename": "TypeError",
     "evalue": "'set' object is not subscriptable",
     "output_type": "error",
     "traceback": [
      "\u001b[0;31m---------------------------------------------------------------------------\u001b[0m",
      "\u001b[0;31mTypeError\u001b[0m                                 Traceback (most recent call last)",
      "Cell \u001b[0;32mIn[25], line 1\u001b[0m\n\u001b[0;32m----> 1\u001b[0m \u001b[43ms\u001b[49m\u001b[43m[\u001b[49m\u001b[38;5;241;43m0\u001b[39;49m\u001b[43m]\u001b[49m\n",
      "\u001b[0;31mTypeError\u001b[0m: 'set' object is not subscriptable"
     ]
    }
   ],
   "source": [
    "s[0] ## so here no concept of indexing as sets are unordered and unique"
   ]
  },
  {
   "cell_type": "code",
   "execution_count": 26,
   "id": "196b454c-6813-4428-93b2-f1e08b0eda54",
   "metadata": {},
   "outputs": [],
   "source": [
    "s.add(\"pwskills\") # sets are mutable"
   ]
  },
  {
   "cell_type": "code",
   "execution_count": 27,
   "id": "5a21c638-7d8c-4ea3-aa6c-fc92496a0691",
   "metadata": {},
   "outputs": [
    {
     "data": {
      "text/plain": [
       "{1, 2, 3, 3.4, 4.5, 5, 'a', 'b', 'pwskills'}"
      ]
     },
     "execution_count": 27,
     "metadata": {},
     "output_type": "execute_result"
    }
   ],
   "source": [
    "s"
   ]
  },
  {
   "cell_type": "code",
   "execution_count": 28,
   "id": "142fca73-77f2-4082-9a68-84f77f46f5ec",
   "metadata": {},
   "outputs": [],
   "source": [
    "s.remove(\"pwskills\")"
   ]
  },
  {
   "cell_type": "code",
   "execution_count": 29,
   "id": "bdcdd302-d3c6-4a7f-b374-b31b504f9004",
   "metadata": {},
   "outputs": [
    {
     "data": {
      "text/plain": [
       "{1, 2, 3, 3.4, 4.5, 5, 'a', 'b'}"
      ]
     },
     "execution_count": 29,
     "metadata": {},
     "output_type": "execute_result"
    }
   ],
   "source": [
    "s"
   ]
  },
  {
   "cell_type": "code",
   "execution_count": 30,
   "id": "583c08e4-7ec6-40c1-a268-37babb7191f5",
   "metadata": {},
   "outputs": [
    {
     "data": {
      "text/plain": [
       "{'apple', 'banana', 'mango', 'orange'}"
      ]
     },
     "execution_count": 30,
     "metadata": {},
     "output_type": "execute_result"
    }
   ],
   "source": [
    "grocery_set={\"apple\",\"banana\",\"mango\",\"orange\",\"banana\",\"mango\"}\n",
    "grocery_set"
   ]
  },
  {
   "cell_type": "code",
   "execution_count": 31,
   "id": "ffdef94c-8cbf-4b7f-868f-ffad69cb8249",
   "metadata": {},
   "outputs": [],
   "source": [
    "#dictonary>>>> which store values in the form of key values pair\n",
    "d={}"
   ]
  },
  {
   "cell_type": "code",
   "execution_count": 32,
   "id": "da5dfe7d-6d16-4648-94fb-a61ed96d5e26",
   "metadata": {},
   "outputs": [
    {
     "data": {
      "text/plain": [
       "dict"
      ]
     },
     "execution_count": 32,
     "metadata": {},
     "output_type": "execute_result"
    }
   ],
   "source": [
    "type (d)"
   ]
  },
  {
   "cell_type": "code",
   "execution_count": 33,
   "id": "b321f9c3-ba79-4bff-b700-87ddb00bd119",
   "metadata": {},
   "outputs": [
    {
     "data": {
      "text/plain": [
       "dict"
      ]
     },
     "execution_count": 33,
     "metadata": {},
     "output_type": "execute_result"
    }
   ],
   "source": [
    "d={\"key\":\"data science\",\"duration\":200}\n",
    "type(d)"
   ]
  },
  {
   "cell_type": "code",
   "execution_count": 36,
   "id": "42575041-9db7-4e20-afbd-a77b29f649fb",
   "metadata": {},
   "outputs": [
    {
     "data": {
      "text/plain": [
       "{'key': 'data science', 'duration': 200}"
      ]
     },
     "execution_count": 36,
     "metadata": {},
     "output_type": "execute_result"
    }
   ],
   "source": [
    "d"
   ]
  },
  {
   "cell_type": "code",
   "execution_count": 57,
   "id": "7c71651c-f2eb-4298-8c52-0f10a5a3d670",
   "metadata": {},
   "outputs": [],
   "source": [
    "#use case>>>\n",
    "phonebook={\"dad\":1234 , \"mom\":200}"
   ]
  },
  {
   "cell_type": "code",
   "execution_count": 58,
   "id": "c0bf7b24-dd83-409f-b35f-132f8fa663fc",
   "metadata": {},
   "outputs": [
    {
     "data": {
      "text/plain": [
       "{'dad': 1234, 'mom': 200}"
      ]
     },
     "execution_count": 58,
     "metadata": {},
     "output_type": "execute_result"
    }
   ],
   "source": [
    "phonebook"
   ]
  },
  {
   "cell_type": "code",
   "execution_count": 59,
   "id": "311e1f98-b9fd-4528-be42-d609ee9472b3",
   "metadata": {},
   "outputs": [
    {
     "data": {
      "text/plain": [
       "dict"
      ]
     },
     "execution_count": 59,
     "metadata": {},
     "output_type": "execute_result"
    }
   ],
   "source": [
    "type(phonebook)"
   ]
  },
  {
   "cell_type": "code",
   "execution_count": 61,
   "id": "6b225351-a3fa-4004-881f-0bccf214c8df",
   "metadata": {},
   "outputs": [
    {
     "ename": "KeyError",
     "evalue": "1",
     "output_type": "error",
     "traceback": [
      "\u001b[0;31m---------------------------------------------------------------------------\u001b[0m",
      "\u001b[0;31mKeyError\u001b[0m                                  Traceback (most recent call last)",
      "Cell \u001b[0;32mIn[61], line 1\u001b[0m\n\u001b[0;32m----> 1\u001b[0m \u001b[43mphonebook\u001b[49m\u001b[43m[\u001b[49m\u001b[38;5;241;43m1\u001b[39;49m\u001b[43m]\u001b[49m\n",
      "\u001b[0;31mKeyError\u001b[0m: 1"
     ]
    }
   ],
   "source": [
    "phonebook[1]# it does not work as indexing"
   ]
  },
  {
   "cell_type": "code",
   "execution_count": 63,
   "id": "2c347a3d-e96f-47fb-9285-016220219c2a",
   "metadata": {},
   "outputs": [
    {
     "data": {
      "text/plain": [
       "1234"
      ]
     },
     "execution_count": 63,
     "metadata": {},
     "output_type": "execute_result"
    }
   ],
   "source": [
    "phonebook[\"dad\"]"
   ]
  },
  {
   "cell_type": "code",
   "execution_count": 64,
   "id": "0d180a87-6ff6-40fc-8a68-6be688af52d6",
   "metadata": {},
   "outputs": [
    {
     "data": {
      "text/plain": [
       "200"
      ]
     },
     "execution_count": 64,
     "metadata": {},
     "output_type": "execute_result"
    }
   ],
   "source": [
    "phonebook[\"mom\"]"
   ]
  },
  {
   "cell_type": "code",
   "execution_count": 66,
   "id": "223f38db-612b-4acc-a50a-40b1ed13451e",
   "metadata": {},
   "outputs": [
    {
     "data": {
      "text/plain": [
       "2765"
      ]
     },
     "execution_count": 66,
     "metadata": {},
     "output_type": "execute_result"
    }
   ],
   "source": [
    "phonebook={\"dad\":4534,\"mom\":5645678,\"dad\":2765}\n",
    "phonebook[\"dad\"]"
   ]
  },
  {
   "cell_type": "code",
   "execution_count": 67,
   "id": "f434ac7a-11b6-4030-92fe-510a77670667",
   "metadata": {},
   "outputs": [],
   "source": [
    "phonebook[\"mom\"]=\"i changed my number\""
   ]
  },
  {
   "cell_type": "code",
   "execution_count": 68,
   "id": "4eec742c-fb99-411c-a9ad-da5a9765cd2e",
   "metadata": {},
   "outputs": [
    {
     "data": {
      "text/plain": [
       "{'dad': 2765, 'mom': 'i changed my number'}"
      ]
     },
     "execution_count": 68,
     "metadata": {},
     "output_type": "execute_result"
    }
   ],
   "source": [
    "phonebook"
   ]
  },
  {
   "cell_type": "code",
   "execution_count": 70,
   "id": "415299fb-d7df-4200-902a-06689c9b2cd2",
   "metadata": {},
   "outputs": [
    {
     "data": {
      "text/plain": [
       "dict_keys(['dad', 'mom'])"
      ]
     },
     "execution_count": 70,
     "metadata": {},
     "output_type": "execute_result"
    }
   ],
   "source": [
    "phonebook.keys()"
   ]
  },
  {
   "cell_type": "code",
   "execution_count": 76,
   "id": "f495ff37-55d1-4b90-9fbe-e2c472de0198",
   "metadata": {},
   "outputs": [
    {
     "data": {
      "text/plain": [
       "dict_values([2765, 'i changed my number'])"
      ]
     },
     "execution_count": 76,
     "metadata": {},
     "output_type": "execute_result"
    }
   ],
   "source": [
    "phonebook.values()"
   ]
  },
  {
   "cell_type": "code",
   "execution_count": 77,
   "id": "5094da96-4f28-4081-9a2b-1ca01b3f0bd7",
   "metadata": {},
   "outputs": [],
   "source": [
    "from array import array\n",
    "#array is simillar to list but it stores only homogeneous data\n",
    "array=('i',[1,3,5,6])"
   ]
  },
  {
   "cell_type": "code",
   "execution_count": 78,
   "id": "0024cbfb-33e6-45ca-b4d9-da570efad890",
   "metadata": {},
   "outputs": [
    {
     "data": {
      "text/plain": [
       "('i', [1, 3, 5, 6])"
      ]
     },
     "execution_count": 78,
     "metadata": {},
     "output_type": "execute_result"
    }
   ],
   "source": [
    "array"
   ]
  },
  {
   "cell_type": "code",
   "execution_count": 80,
   "id": "bd87b882-6d5f-4f00-9238-379ecdbe0f8e",
   "metadata": {},
   "outputs": [
    {
     "data": {
      "text/plain": [
       "str"
      ]
     },
     "execution_count": 80,
     "metadata": {},
     "output_type": "execute_result"
    }
   ],
   "source": [
    "#string\n",
    "s=\"ajay\"\n",
    "type(s)"
   ]
  },
  {
   "cell_type": "code",
   "execution_count": 81,
   "id": "d6390033-9fc7-4507-acd6-5ba1bc7ffba8",
   "metadata": {},
   "outputs": [
    {
     "name": "stdout",
     "output_type": "stream",
     "text": [
      "a\n",
      "j\n",
      "a\n",
      "y\n"
     ]
    }
   ],
   "source": [
    "for i in s:\n",
    "    print(i)"
   ]
  },
  {
   "cell_type": "code",
   "execution_count": 82,
   "id": "80a5b5d0-e284-42fd-a779-7ac239708fb5",
   "metadata": {},
   "outputs": [
    {
     "data": {
      "text/plain": [
       "'a'"
      ]
     },
     "execution_count": 82,
     "metadata": {},
     "output_type": "execute_result"
    }
   ],
   "source": [
    "s[0]"
   ]
  },
  {
   "cell_type": "code",
   "execution_count": 84,
   "id": "1f605956-db5e-4a79-920f-6fa9b0e985a9",
   "metadata": {},
   "outputs": [
    {
     "ename": "TypeError",
     "evalue": "'str' object does not support item assignment",
     "output_type": "error",
     "traceback": [
      "\u001b[0;31m---------------------------------------------------------------------------\u001b[0m",
      "\u001b[0;31mTypeError\u001b[0m                                 Traceback (most recent call last)",
      "Cell \u001b[0;32mIn[84], line 1\u001b[0m\n\u001b[0;32m----> 1\u001b[0m \u001b[43ms\u001b[49m\u001b[43m[\u001b[49m\u001b[38;5;241;43m0\u001b[39;49m\u001b[43m]\u001b[49m\u001b[38;5;241m=\u001b[39m\u001b[38;5;124m\"\u001b[39m\u001b[38;5;124mb\u001b[39m\u001b[38;5;124m\"\u001b[39m  \u001b[38;5;66;03m# so here string is immutable\u001b[39;00m\n",
      "\u001b[0;31mTypeError\u001b[0m: 'str' object does not support item assignment"
     ]
    }
   ],
   "source": [
    "s[0]=\"b\"  # so here string is immutable"
   ]
  },
  {
   "cell_type": "code",
   "execution_count": null,
   "id": "e85e6c53-7281-4d3c-a5f0-6029f02ce8d8",
   "metadata": {},
   "outputs": [],
   "source": []
  }
 ],
 "metadata": {
  "kernelspec": {
   "display_name": "Python 3 (ipykernel)",
   "language": "python",
   "name": "python3"
  },
  "language_info": {
   "codemirror_mode": {
    "name": "ipython",
    "version": 3
   },
   "file_extension": ".py",
   "mimetype": "text/x-python",
   "name": "python",
   "nbconvert_exporter": "python",
   "pygments_lexer": "ipython3",
   "version": "3.10.8"
  }
 },
 "nbformat": 4,
 "nbformat_minor": 5
}
