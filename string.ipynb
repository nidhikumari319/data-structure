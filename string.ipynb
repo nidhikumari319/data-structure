{
 "cells": [
  {
   "cell_type": "markdown",
   "id": "df5fbf08-93f3-4f70-adb9-cb7fd05f60de",
   "metadata": {},
   "source": [
    "# string is a sequence of character>>>> represent and manipluate textual data\n",
    "# characters are  represented using numerical value>>> each character are assigned a unique no\n",
    "# ASCII(7 bits)  and  UNICODE(16 bits) >>>>>..>>>>>>>>>>>>\n",
    "# ASCII>>2 to the power 7 >>128 character has been encoded where as UTF is 2 to the power 16 almost cover every character of every language\n",
    "# UTF-8 , UTF-16 >>>> popular encoding schemes for UNICODE>>>>> widely accepted in industry\n",
    "# ASCII:(AMERICAN STANDARD CODE FOR INFORMATION INTERCHANGE)\n",
    "# UTF:(UNICODE TRANSFORMATION FORMATE)\n",
    "# UTF COVER ALLMOST ALL THE CHARACTER\n",
    "# ASCII REPRESENT 128 CHARACTER INTO NUMERICAL VALUE"
   ]
  },
  {
   "cell_type": "code",
   "execution_count": 1,
   "id": "15354539-fea0-4c3d-aa48-337214f91ff1",
   "metadata": {},
   "outputs": [
    {
     "data": {
      "text/plain": [
       "65"
      ]
     },
     "execution_count": 1,
     "metadata": {},
     "output_type": "execute_result"
    }
   ],
   "source": [
    "#ASCII REPRESENTATION\n",
    "char='A'\n",
    "ord('A') # ordinal means , what is numerical order of character "
   ]
  },
  {
   "cell_type": "code",
   "execution_count": 2,
   "id": "eb2ff569-9a62-4798-a5a2-77f5f40c343b",
   "metadata": {},
   "outputs": [
    {
     "data": {
      "text/plain": [
       "'A'"
      ]
     },
     "execution_count": 2,
     "metadata": {},
     "output_type": "execute_result"
    }
   ],
   "source": [
    "chr(65) # character  means>> give the character corresponding to that no"
   ]
  },
  {
   "cell_type": "code",
   "execution_count": 3,
   "id": "68d8c20e-2073-4e84-a3ea-99d70eb28ea3",
   "metadata": {},
   "outputs": [
    {
     "data": {
      "text/plain": [
       "66"
      ]
     },
     "execution_count": 3,
     "metadata": {},
     "output_type": "execute_result"
    }
   ],
   "source": [
    "char=\"B\"\n",
    "ord(\"B\")"
   ]
  },
  {
   "cell_type": "code",
   "execution_count": 4,
   "id": "d883cfd5-a0a5-40e0-a318-4cedb7bceb15",
   "metadata": {},
   "outputs": [
    {
     "data": {
      "text/plain": [
       "'B'"
      ]
     },
     "execution_count": 4,
     "metadata": {},
     "output_type": "execute_result"
    }
   ],
   "source": [
    "chr(66)"
   ]
  },
  {
   "cell_type": "code",
   "execution_count": 6,
   "id": "d4e3705c-58c5-421d-b588-36590dc33587",
   "metadata": {},
   "outputs": [
    {
     "data": {
      "text/plain": [
       "'Ω'"
      ]
     },
     "execution_count": 6,
     "metadata": {},
     "output_type": "execute_result"
    }
   ],
   "source": [
    "# UNICODE representation\n",
    "'\\u03A9'"
   ]
  },
  {
   "cell_type": "code",
   "execution_count": 7,
   "id": "459396f4-c400-4df5-950b-c080094ed29d",
   "metadata": {},
   "outputs": [
    {
     "data": {
      "text/plain": [
       "'Σ'"
      ]
     },
     "execution_count": 7,
     "metadata": {},
     "output_type": "execute_result"
    }
   ],
   "source": [
    "'\\u03A3'"
   ]
  },
  {
   "cell_type": "code",
   "execution_count": 8,
   "id": "45d028bf-c4ce-45ad-acc0-297562260360",
   "metadata": {},
   "outputs": [
    {
     "data": {
      "text/plain": [
       "'ॳ'"
      ]
     },
     "execution_count": 8,
     "metadata": {},
     "output_type": "execute_result"
    }
   ],
   "source": [
    "'\\u0973'"
   ]
  },
  {
   "cell_type": "code",
   "execution_count": 10,
   "id": "37152b63-2af8-49d1-9227-032051680109",
   "metadata": {},
   "outputs": [
    {
     "data": {
      "text/plain": [
       "'Ρ'"
      ]
     },
     "execution_count": 10,
     "metadata": {},
     "output_type": "execute_result"
    }
   ],
   "source": [
    "'\\u03A1'"
   ]
  },
  {
   "cell_type": "code",
   "execution_count": 11,
   "id": "adcc9a89-1a8c-4597-a1f0-6f923491f3ea",
   "metadata": {},
   "outputs": [
    {
     "data": {
      "text/plain": [
       "'ॴ'"
      ]
     },
     "execution_count": 11,
     "metadata": {},
     "output_type": "execute_result"
    }
   ],
   "source": [
    "'\\u0974'"
   ]
  },
  {
   "cell_type": "code",
   "execution_count": 12,
   "id": "06a23323-ad40-4791-a644-1ddc312da1d4",
   "metadata": {},
   "outputs": [
    {
     "data": {
      "text/plain": [
       "'ॵ'"
      ]
     },
     "execution_count": 12,
     "metadata": {},
     "output_type": "execute_result"
    }
   ],
   "source": [
    "'\\u0975'"
   ]
  },
  {
   "cell_type": "code",
   "execution_count": 13,
   "id": "322508f6-7a86-4e87-92b2-f8465bf5e384",
   "metadata": {},
   "outputs": [
    {
     "data": {
      "text/plain": [
       "'ॲ'"
      ]
     },
     "execution_count": 13,
     "metadata": {},
     "output_type": "execute_result"
    }
   ],
   "source": [
    "'\\u0972'"
   ]
  },
  {
   "cell_type": "code",
   "execution_count": 14,
   "id": "2147f990-312f-42ca-82d0-1edcab198e4e",
   "metadata": {},
   "outputs": [
    {
     "data": {
      "text/plain": [
       "'Τ'"
      ]
     },
     "execution_count": 14,
     "metadata": {},
     "output_type": "execute_result"
    }
   ],
   "source": [
    "'\\u03A4'"
   ]
  },
  {
   "cell_type": "code",
   "execution_count": 16,
   "id": "dee4697a-9c52-48be-b879-3890c9edbdd2",
   "metadata": {},
   "outputs": [
    {
     "data": {
      "text/plain": [
       "'pwskills'"
      ]
     },
     "execution_count": 16,
     "metadata": {},
     "output_type": "execute_result"
    }
   ],
   "source": [
    "#strings\n",
    "string1=\"pwskills\"\n",
    "string1"
   ]
  },
  {
   "cell_type": "code",
   "execution_count": 19,
   "id": "d4c663fc-a068-4526-9074-32439cbb4fa3",
   "metadata": {},
   "outputs": [
    {
     "data": {
      "text/plain": [
       "\"I 'm student\""
      ]
     },
     "execution_count": 19,
     "metadata": {},
     "output_type": "execute_result"
    }
   ],
   "source": [
    "\"I 'm student\""
   ]
  },
  {
   "cell_type": "code",
   "execution_count": 20,
   "id": "655d4119-11de-49a4-966b-f73881f6e2d3",
   "metadata": {},
   "outputs": [
    {
     "data": {
      "text/plain": [
       "'I \"m student'"
      ]
     },
     "execution_count": 20,
     "metadata": {},
     "output_type": "execute_result"
    }
   ],
   "source": [
    "'I \"m student'"
   ]
  },
  {
   "cell_type": "code",
   "execution_count": 21,
   "id": "1a5d6d3c-22f9-41e2-8077-5ff5288c86e5",
   "metadata": {},
   "outputs": [
    {
     "data": {
      "text/plain": [
       "'I \"m student'"
      ]
     },
     "execution_count": 21,
     "metadata": {},
     "output_type": "execute_result"
    }
   ],
   "source": [
    "\"\"\"I \"m student\"\"\""
   ]
  },
  {
   "cell_type": "code",
   "execution_count": 22,
   "id": "414bba12-4ff7-4705-95b9-08862261e82f",
   "metadata": {},
   "outputs": [
    {
     "data": {
      "text/plain": [
       "'helloworld'"
      ]
     },
     "execution_count": 22,
     "metadata": {},
     "output_type": "execute_result"
    }
   ],
   "source": [
    "# concatenation of string>>>> combination of two string\n",
    "\"hello\"+ \"world\""
   ]
  },
  {
   "cell_type": "code",
   "execution_count": 23,
   "id": "2c5036a5-a865-48ca-8111-12ce4f8e2bd1",
   "metadata": {},
   "outputs": [
    {
     "ename": "TypeError",
     "evalue": "unsupported operand type(s) for -: 'str' and 'str'",
     "output_type": "error",
     "traceback": [
      "\u001b[0;31m---------------------------------------------------------------------------\u001b[0m",
      "\u001b[0;31mTypeError\u001b[0m                                 Traceback (most recent call last)",
      "Cell \u001b[0;32mIn[23], line 1\u001b[0m\n\u001b[0;32m----> 1\u001b[0m \u001b[38;5;124;43m\"\u001b[39;49m\u001b[38;5;124;43mhello\u001b[39;49m\u001b[38;5;124;43m\"\u001b[39;49m\u001b[43m \u001b[49m\u001b[38;5;241;43m-\u001b[39;49m\u001b[43m \u001b[49m\u001b[38;5;124;43m\"\u001b[39;49m\u001b[38;5;124;43mworld\u001b[39;49m\u001b[38;5;124;43m\"\u001b[39;49m \u001b[38;5;66;03m# it will give you an error\u001b[39;00m\n",
      "\u001b[0;31mTypeError\u001b[0m: unsupported operand type(s) for -: 'str' and 'str'"
     ]
    }
   ],
   "source": [
    "\"hello\" - \"world\" # it will give you an error"
   ]
  },
  {
   "cell_type": "code",
   "execution_count": 24,
   "id": "aa2054de-93b8-4aa5-9aa8-ac9701508be9",
   "metadata": {},
   "outputs": [
    {
     "data": {
      "text/plain": [
       "'hello - world'"
      ]
     },
     "execution_count": 24,
     "metadata": {},
     "output_type": "execute_result"
    }
   ],
   "source": [
    "#if you want - than you can do this\n",
    "\"hello\" + \" - world\""
   ]
  },
  {
   "cell_type": "code",
   "execution_count": 26,
   "id": "4a80ae84-b713-4ddb-9e9b-623b6e9b5c7a",
   "metadata": {},
   "outputs": [
    {
     "data": {
      "text/plain": [
       "'hello , world!'"
      ]
     },
     "execution_count": 26,
     "metadata": {},
     "output_type": "execute_result"
    }
   ],
   "source": [
    "string1=\"hello\"\n",
    "string2=\"world!\"\n",
    "string1+ \" , \"+string2"
   ]
  },
  {
   "cell_type": "code",
   "execution_count": 27,
   "id": "d6e0bd57-4d28-44d0-82e8-bd521672ad01",
   "metadata": {},
   "outputs": [
    {
     "data": {
      "text/plain": [
       "'hello >>world!'"
      ]
     },
     "execution_count": 27,
     "metadata": {},
     "output_type": "execute_result"
    }
   ],
   "source": [
    "string1=\"hello\"\n",
    "string2=\"world!\"\n",
    "string1+ \" >>\"+string2"
   ]
  },
  {
   "cell_type": "code",
   "execution_count": 29,
   "id": "1d913606-fa1b-4b4f-8dac-8bbfc90cd0b0",
   "metadata": {},
   "outputs": [
    {
     "data": {
      "text/plain": [
       "'hello < world!'"
      ]
     },
     "execution_count": 29,
     "metadata": {},
     "output_type": "execute_result"
    }
   ],
   "source": [
    "string1=\"hello\"\n",
    "string2=\"world!\"\n",
    "string1+ \" < \"+string2"
   ]
  },
  {
   "cell_type": "code",
   "execution_count": 30,
   "id": "85fa7fee-2ebb-499f-b30f-1748f8e00b89",
   "metadata": {},
   "outputs": [
    {
     "data": {
      "text/plain": [
       "'i'"
      ]
     },
     "execution_count": 30,
     "metadata": {},
     "output_type": "execute_result"
    }
   ],
   "source": [
    "#extract/slicing of string\n",
    "a=\"nidhi\"\n",
    "a[1]"
   ]
  },
  {
   "cell_type": "code",
   "execution_count": 31,
   "id": "051042e1-e1e4-43ed-8176-58ccbe8b49e8",
   "metadata": {},
   "outputs": [
    {
     "ename": "IndexError",
     "evalue": "string index out of range",
     "output_type": "error",
     "traceback": [
      "\u001b[0;31m---------------------------------------------------------------------------\u001b[0m",
      "\u001b[0;31mIndexError\u001b[0m                                Traceback (most recent call last)",
      "Cell \u001b[0;32mIn[31], line 1\u001b[0m\n\u001b[0;32m----> 1\u001b[0m \u001b[43ma\u001b[49m\u001b[43m[\u001b[49m\u001b[38;5;241;43m5\u001b[39;49m\u001b[43m]\u001b[49m\n",
      "\u001b[0;31mIndexError\u001b[0m: string index out of range"
     ]
    }
   ],
   "source": [
    "a[5]"
   ]
  },
  {
   "cell_type": "code",
   "execution_count": 32,
   "id": "473f2274-1616-4ea2-816b-e2fb7f94515c",
   "metadata": {},
   "outputs": [
    {
     "data": {
      "text/plain": [
       "'i'"
      ]
     },
     "execution_count": 32,
     "metadata": {},
     "output_type": "execute_result"
    }
   ],
   "source": [
    "a[4]"
   ]
  },
  {
   "cell_type": "code",
   "execution_count": 33,
   "id": "cbf494a7-fdaa-4dd1-aa10-b7d7a7b66f93",
   "metadata": {},
   "outputs": [
    {
     "data": {
      "text/plain": [
       "'i am a good'"
      ]
     },
     "execution_count": 33,
     "metadata": {},
     "output_type": "execute_result"
    }
   ],
   "source": [
    "a= \"i am a good student\"\n",
    "a[0:11]"
   ]
  },
  {
   "cell_type": "code",
   "execution_count": 35,
   "id": "881a99af-430a-4eab-ae09-effe4f5ed3d8",
   "metadata": {},
   "outputs": [
    {
     "data": {
      "text/plain": [
       "'a good s'"
      ]
     },
     "execution_count": 35,
     "metadata": {},
     "output_type": "execute_result"
    }
   ],
   "source": [
    "a[5:13]"
   ]
  },
  {
   "cell_type": "code",
   "execution_count": 36,
   "id": "0b9911c7-3cc4-4ccf-a2a9-9913a9a6c1cd",
   "metadata": {},
   "outputs": [
    {
     "data": {
      "text/plain": [
       "'i am a good student'"
      ]
     },
     "execution_count": 36,
     "metadata": {},
     "output_type": "execute_result"
    }
   ],
   "source": [
    "a[0:]"
   ]
  },
  {
   "cell_type": "code",
   "execution_count": 37,
   "id": "220ee84d-a695-4ef9-910c-6cd9757292a7",
   "metadata": {},
   "outputs": [
    {
     "data": {
      "text/plain": [
       "'m a good student'"
      ]
     },
     "execution_count": 37,
     "metadata": {},
     "output_type": "execute_result"
    }
   ],
   "source": [
    "a[3:]"
   ]
  },
  {
   "cell_type": "code",
   "execution_count": 38,
   "id": "0935dca1-33e2-485e-a6c6-fbb1e38d3d69",
   "metadata": {},
   "outputs": [
    {
     "data": {
      "text/plain": [
       "''"
      ]
     },
     "execution_count": 38,
     "metadata": {},
     "output_type": "execute_result"
    }
   ],
   "source": [
    "a[3:0] # if you give zero it will return blank(\"\") >>like that"
   ]
  },
  {
   "cell_type": "code",
   "execution_count": 39,
   "id": "8c9336c5-bd05-40d2-850e-bc1f374f49a1",
   "metadata": {},
   "outputs": [
    {
     "data": {
      "text/plain": [
       "''"
      ]
     },
     "execution_count": 39,
     "metadata": {},
     "output_type": "execute_result"
    }
   ],
   "source": [
    "a[8:0]"
   ]
  },
  {
   "cell_type": "code",
   "execution_count": 40,
   "id": "f96e4f60-d6ac-4b30-ba59-f1be63caed35",
   "metadata": {},
   "outputs": [
    {
     "data": {
      "text/plain": [
       "'pwski'"
      ]
     },
     "execution_count": 40,
     "metadata": {},
     "output_type": "execute_result"
    }
   ],
   "source": [
    "# if you want except last three character only \n",
    "a= \"pwskills\"\n",
    "a[:5]"
   ]
  },
  {
   "cell_type": "code",
   "execution_count": 41,
   "id": "f7735f7e-2aeb-4692-9cd2-6e0f38f83d9c",
   "metadata": {},
   "outputs": [
    {
     "data": {
      "text/plain": [
       "'pwski'"
      ]
     },
     "execution_count": 41,
     "metadata": {},
     "output_type": "execute_result"
    }
   ],
   "source": [
    "# or you can do this\n",
    "a[0:-3]"
   ]
  },
  {
   "cell_type": "code",
   "execution_count": 44,
   "id": "1a3fc8cb-6299-4a16-bd1c-d5330c00f921",
   "metadata": {},
   "outputs": [
    {
     "data": {
      "text/plain": [
       "'lls'"
      ]
     },
     "execution_count": 44,
     "metadata": {},
     "output_type": "execute_result"
    }
   ],
   "source": [
    "# if you want last three character only \n",
    "a[-3:]"
   ]
  },
  {
   "cell_type": "code",
   "execution_count": 45,
   "id": "9285de0c-16ae-4a2f-b146-cc8de69eaf55",
   "metadata": {},
   "outputs": [
    {
     "data": {
      "text/plain": [
       "'hello w'"
      ]
     },
     "execution_count": 45,
     "metadata": {},
     "output_type": "execute_result"
    }
   ],
   "source": [
    "string=\"hello world\"\n",
    "string[0:7:1] # by default  step is 1"
   ]
  },
  {
   "cell_type": "code",
   "execution_count": 49,
   "id": "ce90fe04-2e22-42a9-bb52-c2e09c9228d8",
   "metadata": {},
   "outputs": [
    {
     "data": {
      "text/plain": [
       "'hlow'"
      ]
     },
     "execution_count": 49,
     "metadata": {},
     "output_type": "execute_result"
    }
   ],
   "source": [
    "string[0:7:2] # [start:end: step]"
   ]
  },
  {
   "cell_type": "code",
   "execution_count": 47,
   "id": "5e05e7ae-759b-49aa-b5ed-706c68afc7cd",
   "metadata": {},
   "outputs": [
    {
     "data": {
      "text/plain": [
       "'hello world'"
      ]
     },
     "execution_count": 47,
     "metadata": {},
     "output_type": "execute_result"
    }
   ],
   "source": [
    "string[::1] "
   ]
  },
  {
   "cell_type": "code",
   "execution_count": 48,
   "id": "aee8271f-b25c-4fda-80ae-d49b4a086fe6",
   "metadata": {},
   "outputs": [
    {
     "data": {
      "text/plain": [
       "'hlowrd'"
      ]
     },
     "execution_count": 48,
     "metadata": {},
     "output_type": "execute_result"
    }
   ],
   "source": [
    "string[::2] "
   ]
  },
  {
   "cell_type": "code",
   "execution_count": 50,
   "id": "a79d2804-92ae-4a4c-94c2-c67730547de3",
   "metadata": {},
   "outputs": [
    {
     "data": {
      "text/plain": [
       "'dlrow olleh'"
      ]
     },
     "execution_count": 50,
     "metadata": {},
     "output_type": "execute_result"
    }
   ],
   "source": [
    "#iterate over the sequence in reverse order\n",
    "# it means start from the end and move to the beginning and step backword by one character\n",
    "string[::-1] "
   ]
  },
  {
   "cell_type": "code",
   "execution_count": 4,
   "id": "df38fce5-cf3f-4494-a4d1-799a93095128",
   "metadata": {},
   "outputs": [
    {
     "data": {
      "text/plain": [
       "'p'"
      ]
     },
     "execution_count": 4,
     "metadata": {},
     "output_type": "execute_result"
    }
   ],
   "source": [
    "# string are immutable\n",
    "s=\"pwskills\"\n",
    "s[0]"
   ]
  },
  {
   "cell_type": "code",
   "execution_count": 5,
   "id": "9531ccfc-d13a-43bb-bafa-9d8a8a1841eb",
   "metadata": {},
   "outputs": [
    {
     "data": {
      "text/plain": [
       "'l'"
      ]
     },
     "execution_count": 5,
     "metadata": {},
     "output_type": "execute_result"
    }
   ],
   "source": [
    "s[5]"
   ]
  },
  {
   "cell_type": "code",
   "execution_count": 6,
   "id": "7fa7d293-f4d1-495e-8b3c-51a47312313f",
   "metadata": {},
   "outputs": [
    {
     "ename": "TypeError",
     "evalue": "'str' object does not support item assignment",
     "output_type": "error",
     "traceback": [
      "\u001b[0;31m---------------------------------------------------------------------------\u001b[0m",
      "\u001b[0;31mTypeError\u001b[0m                                 Traceback (most recent call last)",
      "Cell \u001b[0;32mIn[6], line 1\u001b[0m\n\u001b[0;32m----> 1\u001b[0m \u001b[43ms\u001b[49m\u001b[43m[\u001b[49m\u001b[38;5;241;43m5\u001b[39;49m\u001b[43m]\u001b[49m\u001b[38;5;241m=\u001b[39m\u001b[38;5;124m\"\u001b[39m\u001b[38;5;124mram\u001b[39m\u001b[38;5;124m\"\u001b[39m\n",
      "\u001b[0;31mTypeError\u001b[0m: 'str' object does not support item assignment"
     ]
    }
   ],
   "source": [
    "s[5]=\"ram\""
   ]
  },
  {
   "cell_type": "code",
   "execution_count": 7,
   "id": "ad9c4b30-c01f-4927-b751-a79124234131",
   "metadata": {},
   "outputs": [
    {
     "data": {
      "text/plain": [
       "8"
      ]
     },
     "execution_count": 7,
     "metadata": {},
     "output_type": "execute_result"
    }
   ],
   "source": [
    "# no of character in string\n",
    "len(s)"
   ]
  },
  {
   "cell_type": "code",
   "execution_count": 8,
   "id": "ae757471-9f6a-4adf-880e-9c84531d2627",
   "metadata": {},
   "outputs": [
    {
     "data": {
      "text/plain": [
       "8"
      ]
     },
     "execution_count": 8,
     "metadata": {},
     "output_type": "execute_result"
    }
   ],
   "source": [
    "string=\"hello world\"\n",
    "len(s)"
   ]
  },
  {
   "cell_type": "code",
   "execution_count": 9,
   "id": "40aa53cb-73f1-406b-b294-caf33f5d0a23",
   "metadata": {},
   "outputs": [
    {
     "data": {
      "text/plain": [
       "'hhllo world'"
      ]
     },
     "execution_count": 9,
     "metadata": {},
     "output_type": "execute_result"
    }
   ],
   "source": [
    "# modification of string>>> you can modifie using replace function\n",
    "string=\"hello world\"\n",
    "string.replace(\"ello\",\"hllo\")\n"
   ]
  },
  {
   "cell_type": "code",
   "execution_count": 11,
   "id": "dc0d7c9d-b11b-42b1-a0d3-41a1ed835733",
   "metadata": {},
   "outputs": [
    {
     "data": {
      "text/plain": [
       "' welcome world'"
      ]
     },
     "execution_count": 11,
     "metadata": {},
     "output_type": "execute_result"
    }
   ],
   "source": [
    "string.replace(\"hello\",\" welcome\")\n"
   ]
  },
  {
   "cell_type": "code",
   "execution_count": 3,
   "id": "eeec8b90-9175-4163-a6a6-a7d9669d673c",
   "metadata": {},
   "outputs": [
    {
     "data": {
      "text/plain": [
       "'123 qwefb apt, ghjk, banglore'"
      ]
     },
     "execution_count": 3,
     "metadata": {},
     "output_type": "execute_result"
    }
   ],
   "source": [
    "#use case:\n",
    "adresss=\"123 qwefb apt, ghjk, banglore\"\n",
    "adresss"
   ]
  },
  {
   "cell_type": "code",
   "execution_count": 4,
   "id": "5b4c765d-1e46-4f30-a70c-6596410f03d5",
   "metadata": {},
   "outputs": [
    {
     "data": {
      "text/plain": [
       "'123 qwefb appartmant, ghjk, banglore'"
      ]
     },
     "execution_count": 4,
     "metadata": {},
     "output_type": "execute_result"
    }
   ],
   "source": [
    "adresss.text=\"BRB, TATA, BMI\" replace(\"apt\", \"appartmant\")"
   ]
  },
  {
   "cell_type": "code",
   "execution_count": 3,
   "id": "35808275-4679-42fb-88f7-b67afc1687ad",
   "metadata": {},
   "outputs": [
    {
     "data": {
      "text/plain": [
       "'RBB, ATTA, IBM'"
      ]
     },
     "execution_count": 3,
     "metadata": {},
     "output_type": "execute_result"
    }
   ],
   "source": [
    "text=\"BRB, TATA, BMI\"\n",
    "text.replace(\"BRB\", \"RBB\").replace(\"TATA\", \"ATTA\").replace(\"BMI\", \"IBM\")"
   ]
  },
  {
   "cell_type": "code",
   "execution_count": 2,
   "id": "bd1a334f-fac0-4e36-bb81-3116a0131f1a",
   "metadata": {},
   "outputs": [
    {
     "data": {
      "text/plain": [
       "str"
      ]
     },
     "execution_count": 2,
     "metadata": {},
     "output_type": "execute_result"
    }
   ],
   "source": [
    "type(text)"
   ]
  },
  {
   "cell_type": "code",
   "execution_count": 4,
   "id": "0b3768a8-09df-4fc8-a401-629f19e6e270",
   "metadata": {},
   "outputs": [
    {
     "data": {
      "text/plain": [
       "'brb, tata, bmi'"
      ]
     },
     "execution_count": 4,
     "metadata": {},
     "output_type": "execute_result"
    }
   ],
   "source": [
    "text=\"BRB, TATA, BMI\"\n",
    "text.lower()"
   ]
  },
  {
   "cell_type": "code",
   "execution_count": 12,
   "id": "71350c15-22f4-4507-9004-f633a98d718e",
   "metadata": {},
   "outputs": [
    {
     "data": {
      "text/plain": [
       "'HELLO WORLD'"
      ]
     },
     "execution_count": 12,
     "metadata": {},
     "output_type": "execute_result"
    }
   ],
   "source": [
    "string=\"helLo woRld\"\n",
    "string.upper()"
   ]
  },
  {
   "cell_type": "code",
   "execution_count": 13,
   "id": "6a65c900-920d-487f-a016-92ce5cb8b91a",
   "metadata": {},
   "outputs": [
    {
     "data": {
      "text/plain": [
       "'Hello World'"
      ]
     },
     "execution_count": 13,
     "metadata": {},
     "output_type": "execute_result"
    }
   ],
   "source": [
    "string.title()# title ko use krk 1 st letter capital krte h"
   ]
  },
  {
   "cell_type": "code",
   "execution_count": 14,
   "id": "c6b70548-4c4d-47c1-8db6-d1ee12e93213",
   "metadata": {},
   "outputs": [
    {
     "data": {
      "text/plain": [
       "'HELlO WOrLD'"
      ]
     },
     "execution_count": 14,
     "metadata": {},
     "output_type": "execute_result"
    }
   ],
   "source": [
    "string.swapcase()#Convert uppercase characters to lowercase and lowercase characters to uppercase."
   ]
  },
  {
   "cell_type": "code",
   "execution_count": 15,
   "id": "bfb4cb3b-e293-473b-b872-e13043cb5ec6",
   "metadata": {},
   "outputs": [
    {
     "data": {
      "text/plain": [
       "'Hello world'"
      ]
     },
     "execution_count": 15,
     "metadata": {},
     "output_type": "execute_result"
    }
   ],
   "source": [
    "string.capitalize()# it converts  only 1st word of element in uppercase"
   ]
  },
  {
   "cell_type": "code",
   "execution_count": 16,
   "id": "5f071cba-fa62-430e-966f-d6e900c18b6b",
   "metadata": {},
   "outputs": [
    {
     "data": {
      "text/plain": [
       "True"
      ]
     },
     "execution_count": 16,
     "metadata": {},
     "output_type": "execute_result"
    }
   ],
   "source": [
    "#string searching>>>>>>>>>>>>>> it will return trur and false\n",
    "string=\"i am astudent\"\n",
    "\"am\" in string\n"
   ]
  },
  {
   "cell_type": "code",
   "execution_count": 18,
   "id": "593272e6-722e-470e-8a01-e90559acee29",
   "metadata": {},
   "outputs": [
    {
     "name": "stdout",
     "output_type": "stream",
     "text": [
      "search word is present\n"
     ]
    }
   ],
   "source": [
    "sentence=\"i am astudent\"\n",
    "search_word=\"am\"\n",
    "if search_word in sentence:\n",
    "    print(\"search word is present\")\n",
    "else:\n",
    "     print(\"search word is  not present\")"
   ]
  },
  {
   "cell_type": "code",
   "execution_count": 21,
   "id": "e65c52a5-4e8f-401f-9e9d-3700e5ea7b5f",
   "metadata": {},
   "outputs": [
    {
     "name": "stdout",
     "output_type": "stream",
     "text": [
      "invalid email\n"
     ]
    }
   ],
   "source": [
    "email=\"dcvtdfg45678\"\n",
    "if \"@\" in email:\n",
    "    print(\"valid email\")\n",
    "else:\n",
    "    print(\"invalid email\")"
   ]
  },
  {
   "cell_type": "code",
   "execution_count": 22,
   "id": "d370de13-3a78-4aa3-b43a-91bc001fd710",
   "metadata": {},
   "outputs": [
    {
     "name": "stdout",
     "output_type": "stream",
     "text": [
      "it's a pdf file\n"
     ]
    }
   ],
   "source": [
    "document=\"some_file.pdf\"\n",
    "if \".pdf\" in document:\n",
    "    print(\"it's a pdf file\")\n",
    "else:\n",
    "     print(\"it's  not a pdf file\")"
   ]
  },
  {
   "cell_type": "code",
   "execution_count": 23,
   "id": "dae833a0-fbc9-4a21-9d3e-935814247f12",
   "metadata": {},
   "outputs": [
    {
     "data": {
      "text/plain": [
       "True"
      ]
     },
     "execution_count": 23,
     "metadata": {},
     "output_type": "execute_result"
    }
   ],
   "source": [
    "#string comparison>>> return true and false\n",
    "str1=\"hello\"\n",
    "str2=\"hello\"\n",
    "str1== str2"
   ]
  },
  {
   "cell_type": "code",
   "execution_count": 24,
   "id": "12df153c-e73d-401f-8a74-ac7fb29e2468",
   "metadata": {},
   "outputs": [
    {
     "data": {
      "text/plain": [
       "False"
      ]
     },
     "execution_count": 24,
     "metadata": {},
     "output_type": "execute_result"
    }
   ],
   "source": [
    "str1=\"Hello\"\n",
    "str2=\"hello\"\n",
    "str1== str2"
   ]
  },
  {
   "cell_type": "code",
   "execution_count": 25,
   "id": "54ac991f-52ed-4ad1-9f48-ce61d739cf46",
   "metadata": {},
   "outputs": [
    {
     "data": {
      "text/plain": [
       "True"
      ]
     },
     "execution_count": 25,
     "metadata": {},
     "output_type": "execute_result"
    }
   ],
   "source": [
    "str1=\"HEllo\"\n",
    "str2=\"hello\"\n",
    "str1.lower()== str2.lower()"
   ]
  },
  {
   "cell_type": "code",
   "execution_count": 30,
   "id": "6f14cdef-6985-4c46-8ab9-83fea1390a85",
   "metadata": {},
   "outputs": [
    {
     "data": {
      "text/plain": [
       "True"
      ]
     },
     "execution_count": 30,
     "metadata": {},
     "output_type": "execute_result"
    }
   ],
   "source": [
    "str1=\"HELLO\"\n",
    "str2=\"hello\"\n",
    "str1== str2.upper()"
   ]
  },
  {
   "cell_type": "code",
   "execution_count": 31,
   "id": "ba3ccd22-eeac-472c-8014-132f9d51125c",
   "metadata": {},
   "outputs": [
    {
     "name": "stdout",
     "output_type": "stream",
     "text": [
      "username is avalible\n"
     ]
    }
   ],
   "source": [
    "reg_username=[\"pw\",\"pw\",\"pw\"]\n",
    "new_user=\"pw1\"\n",
    "if new_user in reg_username:\n",
    "    print(\"allready in use\")\n",
    "else:\n",
    "    print(\"username is avalible\")"
   ]
  },
  {
   "cell_type": "code",
   "execution_count": 35,
   "id": "ebd15825-c665-48f5-9df0-484c88072fc5",
   "metadata": {},
   "outputs": [
    {
     "name": "stdin",
     "output_type": "stream",
     "text": [
      "scan the code 3423q\n"
     ]
    },
    {
     "name": "stdout",
     "output_type": "stream",
     "text": [
      "talk to receptionist\n"
     ]
    }
   ],
   "source": [
    "product_code=\"p123\"\n",
    "scanned_code=input(\"scan the code\")\n",
    "if product_code == scanned_code:\n",
    "    print(\"the price is 100\")\n",
    "else:\n",
    "    print(\"talk to receptionist\")"
   ]
  },
  {
   "cell_type": "code",
   "execution_count": 36,
   "id": "9340c167-35f2-4331-9a4d-4a212ed496b8",
   "metadata": {},
   "outputs": [
    {
     "data": {
      "text/plain": [
       "['ajay', 'ram', 'shyam', 'vijay']"
      ]
     },
     "execution_count": 36,
     "metadata": {},
     "output_type": "execute_result"
    }
   ],
   "source": [
    "#String ordering\n",
    "name=[\"ajay\",\"vijay\",\"ram\",\"shyam\"]\n",
    "sorted(name) # it sort in alphabatical order"
   ]
  },
  {
   "cell_type": "code",
   "execution_count": 37,
   "id": "c5473c80-6783-44d4-9b47-140f27998fef",
   "metadata": {},
   "outputs": [
    {
     "data": {
      "text/plain": [
       "['asd', 'rew', 'rty', 'ytre']"
      ]
     },
     "execution_count": 37,
     "metadata": {},
     "output_type": "execute_result"
    }
   ],
   "source": [
    "playlist=[\"rew\",\"rty\",\"ytre\",\"asd\"]\n",
    "sorted(playlist)"
   ]
  },
  {
   "cell_type": "code",
   "execution_count": 38,
   "id": "999ead38-73d0-40b5-952e-c199b963625e",
   "metadata": {},
   "outputs": [
    {
     "data": {
      "text/plain": [
       "'          pwskills          '"
      ]
     },
     "execution_count": 38,
     "metadata": {},
     "output_type": "execute_result"
    }
   ],
   "source": [
    "#commman string operation\n",
    "input_str= \"          pwskills          \"\n",
    "input_str"
   ]
  },
  {
   "cell_type": "code",
   "execution_count": 40,
   "id": "46205ee0-c99d-4eb0-9ab5-f43b6bdc8491",
   "metadata": {},
   "outputs": [
    {
     "data": {
      "text/plain": [
       "'pwskills'"
      ]
     },
     "execution_count": 40,
     "metadata": {},
     "output_type": "execute_result"
    }
   ],
   "source": [
    "input_str.strip() # Return a copy of the string with leading and trailing whitespace removed."
   ]
  },
  {
   "cell_type": "code",
   "execution_count": 42,
   "id": "a571d172-6e06-403e-9f79-61387a77699b",
   "metadata": {},
   "outputs": [
    {
     "data": {
      "text/plain": [
       "'apple   ,     mango'"
      ]
     },
     "execution_count": 42,
     "metadata": {},
     "output_type": "execute_result"
    }
   ],
   "source": [
    "fruits=\"apple   ,     mango      \" # it removes only last elments whitespace\n",
    "fruits.strip()"
   ]
  },
  {
   "cell_type": "code",
   "execution_count": 48,
   "id": "f061c378-22b3-4619-9bdb-0b57aff92336",
   "metadata": {},
   "outputs": [
    {
     "data": {
      "text/plain": [
       "'ajay, data science , teacher'"
      ]
     },
     "execution_count": 48,
     "metadata": {},
     "output_type": "execute_result"
    }
   ],
   "source": [
    "#string splitting\n",
    "data=\"ajay, data science , teacher\"\n",
    "data"
   ]
  },
  {
   "cell_type": "code",
   "execution_count": 49,
   "id": "f30f0fff-aed9-462c-8b64-2b7a43520047",
   "metadata": {},
   "outputs": [],
   "source": [
    "teacher_info=data.split(\",\") #Return a list of the substrings in the string, using sep as the separator string."
   ]
  },
  {
   "cell_type": "code",
   "execution_count": 50,
   "id": "e1cd06ae-4075-4556-a84c-129dbfdd69aa",
   "metadata": {},
   "outputs": [
    {
     "data": {
      "text/plain": [
       "['ajay', ' data science ', ' teacher']"
      ]
     },
     "execution_count": 50,
     "metadata": {},
     "output_type": "execute_result"
    }
   ],
   "source": [
    "teacher_info"
   ]
  },
  {
   "cell_type": "code",
   "execution_count": 51,
   "id": "9f5a9076-94a5-4876-bf93-260208b76d7b",
   "metadata": {},
   "outputs": [],
   "source": [
    "name=teacher_info[0]\n",
    "sub=teacher_info[1]\n",
    "des=teacher_info[2]"
   ]
  },
  {
   "cell_type": "code",
   "execution_count": 52,
   "id": "eced31ef-fa8a-470a-92a5-03bc4ec19935",
   "metadata": {},
   "outputs": [
    {
     "data": {
      "text/plain": [
       "'ajay'"
      ]
     },
     "execution_count": 52,
     "metadata": {},
     "output_type": "execute_result"
    }
   ],
   "source": [
    "name"
   ]
  },
  {
   "cell_type": "code",
   "execution_count": 53,
   "id": "715b789a-5278-44f1-9a2b-4f050c489c7a",
   "metadata": {},
   "outputs": [
    {
     "data": {
      "text/plain": [
       "' data science '"
      ]
     },
     "execution_count": 53,
     "metadata": {},
     "output_type": "execute_result"
    }
   ],
   "source": [
    "sub "
   ]
  },
  {
   "cell_type": "code",
   "execution_count": 54,
   "id": "64f1a56e-aab1-43d1-a00e-85a189465828",
   "metadata": {},
   "outputs": [
    {
     "data": {
      "text/plain": [
       "' teacher'"
      ]
     },
     "execution_count": 54,
     "metadata": {},
     "output_type": "execute_result"
    }
   ],
   "source": [
    "des # when ouput is giving here is whitespcae so to resolve it using(strip)"
   ]
  },
  {
   "cell_type": "code",
   "execution_count": 55,
   "id": "f1772e41-ed60-4ba7-8e21-736c8c72081d",
   "metadata": {},
   "outputs": [
    {
     "data": {
      "text/plain": [
       "'teacher'"
      ]
     },
     "execution_count": 55,
     "metadata": {},
     "output_type": "execute_result"
    }
   ],
   "source": [
    "des.strip()"
   ]
  },
  {
   "cell_type": "code",
   "execution_count": 2,
   "id": "0b126941-fea6-40f1-9473-b791ee4d44e3",
   "metadata": {},
   "outputs": [
    {
     "data": {
      "text/plain": [
       "'123 khutti,\\nkewal khurd,\\nhunterganj'"
      ]
     },
     "execution_count": 2,
     "metadata": {},
     "output_type": "execute_result"
    }
   ],
   "source": [
    "#Escape sequence>> special combination of characters used with in a string\n",
    "address=\"\"\"123 khutti,\n",
    "kewal khurd,\n",
    "hunterganj\"\"\"\n",
    "address"
   ]
  },
  {
   "cell_type": "code",
   "execution_count": 3,
   "id": "63d4b298-d936-486b-b6be-8e4ec0c50acc",
   "metadata": {},
   "outputs": [
    {
     "name": "stdout",
     "output_type": "stream",
     "text": [
      "123 khutti,\n",
      "kewal khurd,\n",
      "hunterganj\n"
     ]
    }
   ],
   "source": [
    "print(address) # here if you print it will not show (\\n) as a output "
   ]
  },
  {
   "cell_type": "code",
   "execution_count": 12,
   "id": "2924ee2c-45a3-4ef6-8ef9-dc4678677b21",
   "metadata": {},
   "outputs": [],
   "source": [
    "address1= \"\"\"123 khutti,\\nkewal khurd,\\nhunterganj\"\"\"\n"
   ]
  },
  {
   "cell_type": "code",
   "execution_count": 13,
   "id": "f870ce3e-3eab-4489-ad5e-cb296e3ef1bc",
   "metadata": {},
   "outputs": [
    {
     "data": {
      "text/plain": [
       "'123 khutti,\\nkewal khurd,\\nhunterganj'"
      ]
     },
     "execution_count": 13,
     "metadata": {},
     "output_type": "execute_result"
    }
   ],
   "source": [
    "address1 # here it will show \\ but............in "
   ]
  },
  {
   "cell_type": "code",
   "execution_count": 14,
   "id": "d5ebba19-d872-4d77-bdcc-d8c900b1e435",
   "metadata": {},
   "outputs": [
    {
     "name": "stdout",
     "output_type": "stream",
     "text": [
      "123 khutti,\n",
      "kewal khurd,\n",
      "hunterganj\n"
     ]
    }
   ],
   "source": [
    "print(address1)# print statement it does not show \"\\\" here you can see as output\n",
    "###########    (\\n)>>> to insert a new line character"
   ]
  },
  {
   "cell_type": "code",
   "execution_count": 16,
   "id": "cd3fef6f-1c1f-416e-827c-b72d6c65368c",
   "metadata": {},
   "outputs": [
    {
     "data": {
      "text/plain": [
       "'Name\\tage\\tgrade\\najay\\t21\\tA\\nbijay\\t22\\t22'"
      ]
     },
     "execution_count": 16,
     "metadata": {},
     "output_type": "execute_result"
    }
   ],
   "source": [
    "# \\t>>> escape character>>>> called as tab\n",
    "table=\"Name\\tage\\tgrade\\najay\\t21\\tA\\nbijay\\t22\\t22\"\n",
    "table # it will not understand when uuu use print statement then it will understand"
   ]
  },
  {
   "cell_type": "code",
   "execution_count": 17,
   "id": "3b1d5686-870f-4957-bbf9-c17ea16f4f0d",
   "metadata": {},
   "outputs": [
    {
     "name": "stdout",
     "output_type": "stream",
     "text": [
      "Name\tage\tgrade\n",
      "ajay\t21\tA\n",
      "bijay\t22\t22\n"
     ]
    }
   ],
   "source": [
    "print(table)"
   ]
  },
  {
   "cell_type": "code",
   "execution_count": 1,
   "id": "9f6896ec-d6e6-4de5-a987-f394d286c3bf",
   "metadata": {},
   "outputs": [
    {
     "data": {
      "text/plain": [
       "'c:\\\\USERS\\\\DOWNLOAD\\\\FILES.txt'"
      ]
     },
     "execution_count": 1,
     "metadata": {},
     "output_type": "execute_result"
    }
   ],
   "source": [
    "file_path=\"c:\\\\USERS\\\\DOWNLOAD\\\\FILES.txt\"\n",
    "file_path"
   ]
  },
  {
   "cell_type": "code",
   "execution_count": 2,
   "id": "240c0f86-a6ff-4b39-bf9d-c78f64ff7285",
   "metadata": {},
   "outputs": [
    {
     "name": "stdout",
     "output_type": "stream",
     "text": [
      "c:\\USERS\\DOWNLOAD\\FILES.txt\n"
     ]
    }
   ],
   "source": [
    "print(file_path)# now print will understand"
   ]
  },
  {
   "cell_type": "code",
   "execution_count": 3,
   "id": "11ceb234-f204-4d9c-b0c7-dce7b48e8203",
   "metadata": {},
   "outputs": [
    {
     "data": {
      "text/plain": [
       "\"i cant 't belive its friaday\""
      ]
     },
     "execution_count": 3,
     "metadata": {},
     "output_type": "execute_result"
    }
   ],
   "source": [
    "# \\' single codw escape\n",
    "str1= \"i cant \\'t belive its friaday\" \n",
    "str1"
   ]
  },
  {
   "cell_type": "code",
   "execution_count": 5,
   "id": "18a5e6d8-e7e6-427a-aa05-53e207f1ea0e",
   "metadata": {},
   "outputs": [
    {
     "data": {
      "text/plain": [
       "\"i cant belive it's friaday\""
      ]
     },
     "execution_count": 5,
     "metadata": {},
     "output_type": "execute_result"
    }
   ],
   "source": [
    "str1= \"i cant belive it\\'s friaday\" \n",
    "str1"
   ]
  },
  {
   "cell_type": "code",
   "execution_count": 6,
   "id": "39ca25ae-d1b5-4c2c-9a4b-508d5225ecde",
   "metadata": {},
   "outputs": [
    {
     "name": "stdout",
     "output_type": "stream",
     "text": [
      "hello, i am nidhi agrawal, i am going to delhi\n"
     ]
    }
   ],
   "source": [
    "# carriage return \\r>>>> moves the curser tro the beginning of the line\n",
    "print('hello, i am nidhi agrawal, i am going to delhi')\n"
   ]
  },
  {
   "cell_type": "code",
   "execution_count": 9,
   "id": "8965215b-eb58-4e11-b22e-73e626187f77",
   "metadata": {},
   "outputs": [
    {
     "name": "stdout",
     "output_type": "stream",
     "text": [
      "i am nidhi agrawal, i am going to delhi\n"
     ]
    }
   ],
   "source": [
    "print('hello,\\ri am nidhi agrawal, i am going to delhi')\n"
   ]
  },
  {
   "cell_type": "code",
   "execution_count": 10,
   "id": "7b926673-4a99-477d-89a9-cbcaf2672414",
   "metadata": {},
   "outputs": [
    {
     "name": "stdout",
     "output_type": "stream",
     "text": [
      "my name is sita\n",
      "my name is nidhi\n",
      "my name is krish\n",
      "my name is riya\n"
     ]
    }
   ],
   "source": [
    "# string formating>> creating string with placeholder for variables\n",
    "print(\"my name is sita\")\n",
    "print(\"my name is nidhi\")\n",
    "print(\"my name is krish\")\n",
    "print(\"my name is riya\")"
   ]
  },
  {
   "cell_type": "code",
   "execution_count": 15,
   "id": "c11101d6-78dc-4b0a-a5ca-7ea04cea833a",
   "metadata": {},
   "outputs": [
    {
     "name": "stdout",
     "output_type": "stream",
     "text": [
      "Object `you` not found.\n"
     ]
    },
    {
     "ename": "NameError",
     "evalue": "name 'greetings' is not defined",
     "output_type": "error",
     "traceback": [
      "\u001b[0;31m---------------------------------------------------------------------------\u001b[0m",
      "\u001b[0;31mNameError\u001b[0m                                 Traceback (most recent call last)",
      "Cell \u001b[0;32mIn[15], line 3\u001b[0m\n\u001b[1;32m      1\u001b[0m name\u001b[38;5;241m=\u001b[39m \u001b[38;5;124m\"\u001b[39m\u001b[38;5;124mnidhi\u001b[39m\u001b[38;5;124m\"\u001b[39m\n\u001b[1;32m      2\u001b[0m get_ipython()\u001b[38;5;241m.\u001b[39mrun_line_magic(\u001b[38;5;124m'\u001b[39m\u001b[38;5;124mpinfo\u001b[39m\u001b[38;5;124m'\u001b[39m, \u001b[38;5;124m'\u001b[39m\u001b[38;5;124myou\u001b[39m\u001b[38;5;124m'\u001b[39m)\n\u001b[0;32m----> 3\u001b[0m \u001b[43mgreetings\u001b[49m \u001b[38;5;66;03m# here kindly use print if you do not use print statement then it will shoe=w an error\u001b[39;00m\n",
      "\u001b[0;31mNameError\u001b[0m: name 'greetings' is not defined"
     ]
    }
   ],
   "source": [
    "name= \"nidhi\"\n",
    "greetings=f\"hi i am{name} agrawal and who are you?\n",
    "greetings # here kindly use print if you do not use print statement then it will shoe=w an error"
   ]
  },
  {
   "cell_type": "code",
   "execution_count": 27,
   "id": "0cb15d76-77a8-4ca0-be40-fb6290c51a22",
   "metadata": {},
   "outputs": [
    {
     "name": "stdout",
     "output_type": "stream",
     "text": [
      "hi i am nidhi agrawal and who are you?\n"
     ]
    }
   ],
   "source": [
    "name= \"nidhi\"\n",
    "a1 = f\"hi i am {name} agrawal and who are you?\"\n",
    "print(a1)"
   ]
  },
  {
   "cell_type": "code",
   "execution_count": 28,
   "id": "6f9e3068-faaf-4ff9-a837-9562876f40a6",
   "metadata": {},
   "outputs": [
    {
     "name": "stdout",
     "output_type": "stream",
     "text": [
      "hello nidhi , how are you?\n"
     ]
    }
   ],
   "source": [
    "name= \"nidhi\"\n",
    "greetings = f\"hello {name} , how are you?\"\n",
    "print(greetings)"
   ]
  },
  {
   "cell_type": "code",
   "execution_count": 36,
   "id": "2a3021d9-e165-4a8f-aea1-b202ed73439e",
   "metadata": {},
   "outputs": [
    {
     "data": {
      "text/plain": [
       "'hello pwskills , wish you a wonderfull day'"
      ]
     },
     "execution_count": 36,
     "metadata": {},
     "output_type": "execute_result"
    }
   ],
   "source": [
    "name=\"pwskills\"\n",
    "greetings= \"hello %s , wish you a wonderfull day\" %name\n",
    "greetings"
   ]
  },
  {
   "cell_type": "code",
   "execution_count": 40,
   "id": "39ea15f0-d50b-4edc-a167-a1263ab8e54d",
   "metadata": {},
   "outputs": [
    {
     "name": "stdout",
     "output_type": "stream",
     "text": [
      "hello, ajay welcome to data analytic\n"
     ]
    }
   ],
   "source": [
    "#.format\n",
    "template= \"hello, {} welcome to {}\"\n",
    "message= template.format(\"ajay\", \"data analytic\")\n",
    "print(message)"
   ]
  },
  {
   "cell_type": "code",
   "execution_count": 41,
   "id": "55f7a4d2-6d5f-4540-82c7-70165cdbe932",
   "metadata": {},
   "outputs": [
    {
     "data": {
      "text/plain": [
       "' my course pw data + frontend and its duration is 4 years'"
      ]
     },
     "execution_count": 41,
     "metadata": {},
     "output_type": "execute_result"
    }
   ],
   "source": [
    "# fstring(formate string literals)\n",
    "course=\"pw data + frontend\"\n",
    "duration= 4\n",
    "f\" my course {course} and its duration is {duration} years\""
   ]
  },
  {
   "cell_type": "code",
   "execution_count": 43,
   "id": "343c6e34-4af9-46df-a76c-28d3970f1986",
   "metadata": {},
   "outputs": [
    {
     "name": "stdout",
     "output_type": "stream",
     "text": [
      "hello user nidhi,today is 2024-06-03 post.\n"
     ]
    }
   ],
   "source": [
    "user_name=\"nidhi\"\n",
    "post_date=\"2024-06-03\"\n",
    "print(f\"hello user {user_name},today is {post_date} post.\")"
   ]
  },
  {
   "cell_type": "code",
   "execution_count": 47,
   "id": "45e75f36-cfd7-49b0-a904-4d8b7c52cfb4",
   "metadata": {},
   "outputs": [
    {
     "data": {
      "text/plain": [
       "'30 is equal to 86.0F'"
      ]
     },
     "execution_count": 47,
     "metadata": {},
     "output_type": "execute_result"
    }
   ],
   "source": [
    "celsius = 30\n",
    "f\"{celsius} is equal to {(celsius*9/5)+32}F\""
   ]
  },
  {
   "cell_type": "code",
   "execution_count": 49,
   "id": "684ebb11-2164-4c47-9d55-2152900cd515",
   "metadata": {},
   "outputs": [
    {
     "data": {
      "text/plain": [
       "True"
      ]
     },
     "execution_count": 49,
     "metadata": {},
     "output_type": "execute_result"
    }
   ],
   "source": [
    "name= \"nidhi\"\n",
    "name.startswith (\"nid\")"
   ]
  },
  {
   "cell_type": "code",
   "execution_count": 50,
   "id": "cdf5d761-cd71-4615-91e6-c58646dadc2a",
   "metadata": {},
   "outputs": [
    {
     "data": {
      "text/plain": [
       "False"
      ]
     },
     "execution_count": 50,
     "metadata": {},
     "output_type": "execute_result"
    }
   ],
   "source": [
    "name.startswith (\"aws\")"
   ]
  },
  {
   "cell_type": "code",
   "execution_count": 51,
   "id": "8130ff8b-1e96-46f9-b1f3-441a81c31b0d",
   "metadata": {},
   "outputs": [
    {
     "data": {
      "text/plain": [
       "True"
      ]
     },
     "execution_count": 51,
     "metadata": {},
     "output_type": "execute_result"
    }
   ],
   "source": [
    "name.endswith (\"hi\")"
   ]
  },
  {
   "cell_type": "code",
   "execution_count": 52,
   "id": "e56c1e93-d67f-49db-b5de-ae1129c90ced",
   "metadata": {},
   "outputs": [
    {
     "data": {
      "text/plain": [
       "False"
      ]
     },
     "execution_count": 52,
     "metadata": {},
     "output_type": "execute_result"
    }
   ],
   "source": [
    "name.endswith (\"nid\")"
   ]
  },
  {
   "cell_type": "code",
   "execution_count": 53,
   "id": "59638acd-fc5f-4113-8e9d-ac980cb30207",
   "metadata": {},
   "outputs": [
    {
     "data": {
      "text/plain": [
       "True"
      ]
     },
     "execution_count": 53,
     "metadata": {},
     "output_type": "execute_result"
    }
   ],
   "source": [
    "a=\"123abc\"\n",
    "a.isalnum()"
   ]
  },
  {
   "cell_type": "code",
   "execution_count": 54,
   "id": "13cb3967-458c-4335-836b-d1762658eea4",
   "metadata": {},
   "outputs": [
    {
     "data": {
      "text/plain": [
       "True"
      ]
     },
     "execution_count": 54,
     "metadata": {},
     "output_type": "execute_result"
    }
   ],
   "source": [
    "a=\"abc\"\n",
    "a.isalnum()"
   ]
  },
  {
   "cell_type": "code",
   "execution_count": 55,
   "id": "cb1e1098-58df-47c5-8b38-4aaa0b4199d9",
   "metadata": {},
   "outputs": [
    {
     "ename": "NameError",
     "evalue": "name 'abc' is not defined",
     "output_type": "error",
     "traceback": [
      "\u001b[0;31m---------------------------------------------------------------------------\u001b[0m",
      "\u001b[0;31mNameError\u001b[0m                                 Traceback (most recent call last)",
      "Cell \u001b[0;32mIn[55], line 1\u001b[0m\n\u001b[0;32m----> 1\u001b[0m a\u001b[38;5;241m=\u001b[39m\u001b[43mabc\u001b[49m\n\u001b[1;32m      2\u001b[0m a\u001b[38;5;241m.\u001b[39misalnum()\n",
      "\u001b[0;31mNameError\u001b[0m: name 'abc' is not defined"
     ]
    }
   ],
   "source": [
    "a=abc          #so you must be enclose in double code \"\"\n",
    "a.isalnum()"
   ]
  },
  {
   "cell_type": "code",
   "execution_count": 56,
   "id": "cdc70c74-9212-4066-a54b-d6d9c98ff7fa",
   "metadata": {},
   "outputs": [
    {
     "ename": "SyntaxError",
     "evalue": "invalid decimal literal (2980499041.py, line 1)",
     "output_type": "error",
     "traceback": [
      "\u001b[0;36m  Cell \u001b[0;32mIn[56], line 1\u001b[0;36m\u001b[0m\n\u001b[0;31m    a=123abc\u001b[0m\n\u001b[0m        ^\u001b[0m\n\u001b[0;31mSyntaxError\u001b[0m\u001b[0;31m:\u001b[0m invalid decimal literal\n"
     ]
    }
   ],
   "source": [
    "a=123abc\n",
    "a.isalnum()"
   ]
  },
  {
   "cell_type": "code",
   "execution_count": 57,
   "id": "1adf77fa-d027-4138-9328-e6d49c9febd1",
   "metadata": {},
   "outputs": [
    {
     "data": {
      "text/plain": [
       "True"
      ]
     },
     "execution_count": 57,
     "metadata": {},
     "output_type": "execute_result"
    }
   ],
   "source": [
    "a=\"1234\"\n",
    "a.isalnum()"
   ]
  },
  {
   "cell_type": "code",
   "execution_count": 61,
   "id": "558d4024-e622-4569-97b9-3e6ba04f04ee",
   "metadata": {},
   "outputs": [
    {
     "name": "stdout",
     "output_type": "stream",
     "text": [
      "1\n",
      "2\n",
      "3\n",
      "a\n",
      "b\n",
      "c\n",
      "6\n"
     ]
    }
   ],
   "source": [
    "a=\"123abc\"\n",
    "count=0\n",
    "for i in a :\n",
    "    print(i)\n",
    "    count+=1\n",
    "print(count)"
   ]
  },
  {
   "cell_type": "code",
   "execution_count": 62,
   "id": "35bfa41d-4cec-4b8f-9684-d34b7d4ad936",
   "metadata": {},
   "outputs": [
    {
     "data": {
      "text/plain": [
       "6"
      ]
     },
     "execution_count": 62,
     "metadata": {},
     "output_type": "execute_result"
    }
   ],
   "source": [
    "count"
   ]
  },
  {
   "cell_type": "code",
   "execution_count": null,
   "id": "b492a71e-59bf-410e-a33c-a712fa68ed95",
   "metadata": {},
   "outputs": [],
   "source": []
  }
 ],
 "metadata": {
  "kernelspec": {
   "display_name": "Python 3 (ipykernel)",
   "language": "python",
   "name": "python3"
  },
  "language_info": {
   "codemirror_mode": {
    "name": "ipython",
    "version": 3
   },
   "file_extension": ".py",
   "mimetype": "text/x-python",
   "name": "python",
   "nbconvert_exporter": "python",
   "pygments_lexer": "ipython3",
   "version": "3.10.8"
  }
 },
 "nbformat": 4,
 "nbformat_minor": 5
}
